{
 "cells": [
  {
   "cell_type": "markdown",
   "metadata": {},
   "source": [
    "# House Prices: Advanced Regression Techniques\n",
    "### [Link to Kaggle Challenge](https://www.kaggle.com/c/house-prices-advanced-regression-techniques/data)"
   ]
  },
  {
   "cell_type": "markdown",
   "metadata": {},
   "source": [
    "## Workflow\n",
    "1. Question or problem definition.\n",
    "2. Acquire training and testing data.\n",
    "3. Wrangle, prepare, cleanse the data.\n",
    "4. Analyze, identify patterns, and explore the data.\n",
    "5. Model, predict and solve the problem.\n",
    "6. Visualize, report, and present the problem solving steps and final solution.\n",
    "7. Supply or submit the results."
   ]
  },
  {
   "cell_type": "markdown",
   "metadata": {},
   "source": [
    "### Workflow goals\n",
    "\n",
    "The data science solutions workflow solves for seven major goals.\n",
    "\n",
    "**Classifying:** We may want to classify or categorize our samples. We may also want to understand the implications or correlation of different classes with our solution goal.\n",
    "\n",
    "**Correlating:** One can approach the problem based on available features within the training dataset. Which features within the dataset contribute significantly to our solution goal? Statistically speaking is there a correlation among a feature and solution goal? As the feature values change does the solution state change as well, and visa-versa? This can be tested both for numerical and categorical features in the given dataset. We may also want to determine correlation among features other than survival for subsequent goals and workflow stages. Correlating certain features may help in creating, completing, or correcting features.\n",
    "\n",
    "**Converting:** For modeling stage, one needs to prepare the data. Depending on the choice of model algorithm one may require all features to be converted to numerical equivalent values. So for instance converting text categorical values to numeric values.\n",
    "\n",
    "**Completing.** Data preparation may also require us to estimate any missing values within a feature. Model algorithms may work best when there are no missing values.\n",
    "\n",
    "**Correcting:** We may also analyze the given training dataset for errors or possibly innacurate values within features and try to corrent these values or exclude the samples containing the errors. One way to do this is to detect any outliers among our samples or features. We may also completely discard a feature if it is not contribting to the analysis or may significantly skew the results.\n",
    "\n",
    "**Creating:** Can we create new features based on an existing feature or a set of features, such that the new feature follows the correlation, conversion, completeness goals.\n",
    "\n",
    "**Charting:** How to select the right visualization plots and charts depending on nature of the data and the solution goals."
   ]
  },
  {
   "cell_type": "markdown",
   "metadata": {},
   "source": [
    "# 1. Competition Description\n",
    "Ask a home buyer to describe their dream house, and they probably won't begin with the height of the basement ceiling or the proximity to an east-west railroad. But this playground competition's dataset proves that much more influences price negotiations than the number of bedrooms or a white-picket fence.\n",
    "\n",
    "With 79 explanatory variables describing (almost) every aspect of residential homes in Ames, Iowa, this competition challenges you to predict the final price of each home."
   ]
  },
  {
   "cell_type": "markdown",
   "metadata": {},
   "source": [
    "# 2. Acquire training and test data"
   ]
  },
  {
   "cell_type": "code",
   "execution_count": 1,
   "metadata": {},
   "outputs": [],
   "source": [
    "# data analysis and wrangling\n",
    "import pandas as pd\n",
    "import numpy as np\n",
    "import random as rnd\n",
    "\n",
    "# visualization\n",
    "import seaborn as sns\n",
    "import matplotlib.pyplot as plt\n",
    "%matplotlib inline\n",
    "\n",
    "# machine learning\n",
    "from sklearn.linear_model import LogisticRegression\n",
    "from sklearn.svm import SVC, LinearSVC\n",
    "from sklearn.ensemble import RandomForestClassifier\n",
    "from sklearn.neighbors import KNeighborsClassifier\n",
    "from sklearn.naive_bayes import GaussianNB\n",
    "from sklearn.linear_model import Perceptron\n",
    "from sklearn.linear_model import SGDClassifier\n",
    "from sklearn.tree import DecisionTreeClassifier\n",
    "from sklearn.model_selection import train_test_split\n",
    "from sklearn.metrics import accuracy_score\n",
    "\n",
    "import xgboost\n",
    "from xgboost import XGBRegressor\n",
    "\n",
    "# Feature selection\n",
    "from boruta import BorutaPy\n",
    "\n"
   ]
  },
  {
   "cell_type": "code",
   "execution_count": 2,
   "metadata": {},
   "outputs": [],
   "source": [
    "!pip freeze > requirements.txt"
   ]
  },
  {
   "cell_type": "code",
   "execution_count": 3,
   "metadata": {},
   "outputs": [],
   "source": [
    "df_train = pd.read_csv('data/train.csv')  \n",
    "df_test = pd.read_csv('data/test.csv')\n",
    "combine = [df_train, df_test]"
   ]
  },
  {
   "cell_type": "code",
   "execution_count": 4,
   "metadata": {},
   "outputs": [
    {
     "data": {
      "text/plain": [
       "(1460, 81)"
      ]
     },
     "execution_count": 4,
     "metadata": {},
     "output_type": "execute_result"
    }
   ],
   "source": [
    "df_train.shape"
   ]
  },
  {
   "cell_type": "code",
   "execution_count": 5,
   "metadata": {},
   "outputs": [
    {
     "data": {
      "text/html": [
       "<div>\n",
       "<style scoped>\n",
       "    .dataframe tbody tr th:only-of-type {\n",
       "        vertical-align: middle;\n",
       "    }\n",
       "\n",
       "    .dataframe tbody tr th {\n",
       "        vertical-align: top;\n",
       "    }\n",
       "\n",
       "    .dataframe thead th {\n",
       "        text-align: right;\n",
       "    }\n",
       "</style>\n",
       "<table border=\"1\" class=\"dataframe\">\n",
       "  <thead>\n",
       "    <tr style=\"text-align: right;\">\n",
       "      <th></th>\n",
       "      <th>Id</th>\n",
       "      <th>MSSubClass</th>\n",
       "      <th>MSZoning</th>\n",
       "      <th>LotFrontage</th>\n",
       "      <th>LotArea</th>\n",
       "      <th>Street</th>\n",
       "      <th>Alley</th>\n",
       "      <th>LotShape</th>\n",
       "      <th>LandContour</th>\n",
       "      <th>Utilities</th>\n",
       "      <th>...</th>\n",
       "      <th>PoolArea</th>\n",
       "      <th>PoolQC</th>\n",
       "      <th>Fence</th>\n",
       "      <th>MiscFeature</th>\n",
       "      <th>MiscVal</th>\n",
       "      <th>MoSold</th>\n",
       "      <th>YrSold</th>\n",
       "      <th>SaleType</th>\n",
       "      <th>SaleCondition</th>\n",
       "      <th>SalePrice</th>\n",
       "    </tr>\n",
       "  </thead>\n",
       "  <tbody>\n",
       "    <tr>\n",
       "      <th>0</th>\n",
       "      <td>1</td>\n",
       "      <td>60</td>\n",
       "      <td>RL</td>\n",
       "      <td>65.0</td>\n",
       "      <td>8450</td>\n",
       "      <td>Pave</td>\n",
       "      <td>NaN</td>\n",
       "      <td>Reg</td>\n",
       "      <td>Lvl</td>\n",
       "      <td>AllPub</td>\n",
       "      <td>...</td>\n",
       "      <td>0</td>\n",
       "      <td>NaN</td>\n",
       "      <td>NaN</td>\n",
       "      <td>NaN</td>\n",
       "      <td>0</td>\n",
       "      <td>2</td>\n",
       "      <td>2008</td>\n",
       "      <td>WD</td>\n",
       "      <td>Normal</td>\n",
       "      <td>208500</td>\n",
       "    </tr>\n",
       "    <tr>\n",
       "      <th>1</th>\n",
       "      <td>2</td>\n",
       "      <td>20</td>\n",
       "      <td>RL</td>\n",
       "      <td>80.0</td>\n",
       "      <td>9600</td>\n",
       "      <td>Pave</td>\n",
       "      <td>NaN</td>\n",
       "      <td>Reg</td>\n",
       "      <td>Lvl</td>\n",
       "      <td>AllPub</td>\n",
       "      <td>...</td>\n",
       "      <td>0</td>\n",
       "      <td>NaN</td>\n",
       "      <td>NaN</td>\n",
       "      <td>NaN</td>\n",
       "      <td>0</td>\n",
       "      <td>5</td>\n",
       "      <td>2007</td>\n",
       "      <td>WD</td>\n",
       "      <td>Normal</td>\n",
       "      <td>181500</td>\n",
       "    </tr>\n",
       "    <tr>\n",
       "      <th>2</th>\n",
       "      <td>3</td>\n",
       "      <td>60</td>\n",
       "      <td>RL</td>\n",
       "      <td>68.0</td>\n",
       "      <td>11250</td>\n",
       "      <td>Pave</td>\n",
       "      <td>NaN</td>\n",
       "      <td>IR1</td>\n",
       "      <td>Lvl</td>\n",
       "      <td>AllPub</td>\n",
       "      <td>...</td>\n",
       "      <td>0</td>\n",
       "      <td>NaN</td>\n",
       "      <td>NaN</td>\n",
       "      <td>NaN</td>\n",
       "      <td>0</td>\n",
       "      <td>9</td>\n",
       "      <td>2008</td>\n",
       "      <td>WD</td>\n",
       "      <td>Normal</td>\n",
       "      <td>223500</td>\n",
       "    </tr>\n",
       "  </tbody>\n",
       "</table>\n",
       "<p>3 rows × 81 columns</p>\n",
       "</div>"
      ],
      "text/plain": [
       "   Id  MSSubClass MSZoning  LotFrontage  LotArea Street Alley LotShape  \\\n",
       "0   1          60       RL         65.0     8450   Pave   NaN      Reg   \n",
       "1   2          20       RL         80.0     9600   Pave   NaN      Reg   \n",
       "2   3          60       RL         68.0    11250   Pave   NaN      IR1   \n",
       "\n",
       "  LandContour Utilities  ... PoolArea PoolQC Fence MiscFeature MiscVal MoSold  \\\n",
       "0         Lvl    AllPub  ...        0    NaN   NaN         NaN       0      2   \n",
       "1         Lvl    AllPub  ...        0    NaN   NaN         NaN       0      5   \n",
       "2         Lvl    AllPub  ...        0    NaN   NaN         NaN       0      9   \n",
       "\n",
       "  YrSold  SaleType  SaleCondition  SalePrice  \n",
       "0   2008        WD         Normal     208500  \n",
       "1   2007        WD         Normal     181500  \n",
       "2   2008        WD         Normal     223500  \n",
       "\n",
       "[3 rows x 81 columns]"
      ]
     },
     "execution_count": 5,
     "metadata": {},
     "output_type": "execute_result"
    }
   ],
   "source": [
    "df_train.head(3)"
   ]
  },
  {
   "cell_type": "code",
   "execution_count": 6,
   "metadata": {},
   "outputs": [
    {
     "data": {
      "text/plain": [
       "(1459, 80)"
      ]
     },
     "execution_count": 6,
     "metadata": {},
     "output_type": "execute_result"
    }
   ],
   "source": [
    "df_test.shape"
   ]
  },
  {
   "cell_type": "code",
   "execution_count": 7,
   "metadata": {},
   "outputs": [
    {
     "data": {
      "text/html": [
       "<div>\n",
       "<style scoped>\n",
       "    .dataframe tbody tr th:only-of-type {\n",
       "        vertical-align: middle;\n",
       "    }\n",
       "\n",
       "    .dataframe tbody tr th {\n",
       "        vertical-align: top;\n",
       "    }\n",
       "\n",
       "    .dataframe thead th {\n",
       "        text-align: right;\n",
       "    }\n",
       "</style>\n",
       "<table border=\"1\" class=\"dataframe\">\n",
       "  <thead>\n",
       "    <tr style=\"text-align: right;\">\n",
       "      <th></th>\n",
       "      <th>Id</th>\n",
       "      <th>MSSubClass</th>\n",
       "      <th>MSZoning</th>\n",
       "      <th>LotFrontage</th>\n",
       "      <th>LotArea</th>\n",
       "      <th>Street</th>\n",
       "      <th>Alley</th>\n",
       "      <th>LotShape</th>\n",
       "      <th>LandContour</th>\n",
       "      <th>Utilities</th>\n",
       "      <th>...</th>\n",
       "      <th>ScreenPorch</th>\n",
       "      <th>PoolArea</th>\n",
       "      <th>PoolQC</th>\n",
       "      <th>Fence</th>\n",
       "      <th>MiscFeature</th>\n",
       "      <th>MiscVal</th>\n",
       "      <th>MoSold</th>\n",
       "      <th>YrSold</th>\n",
       "      <th>SaleType</th>\n",
       "      <th>SaleCondition</th>\n",
       "    </tr>\n",
       "  </thead>\n",
       "  <tbody>\n",
       "    <tr>\n",
       "      <th>0</th>\n",
       "      <td>1461</td>\n",
       "      <td>20</td>\n",
       "      <td>RH</td>\n",
       "      <td>80.0</td>\n",
       "      <td>11622</td>\n",
       "      <td>Pave</td>\n",
       "      <td>NaN</td>\n",
       "      <td>Reg</td>\n",
       "      <td>Lvl</td>\n",
       "      <td>AllPub</td>\n",
       "      <td>...</td>\n",
       "      <td>120</td>\n",
       "      <td>0</td>\n",
       "      <td>NaN</td>\n",
       "      <td>MnPrv</td>\n",
       "      <td>NaN</td>\n",
       "      <td>0</td>\n",
       "      <td>6</td>\n",
       "      <td>2010</td>\n",
       "      <td>WD</td>\n",
       "      <td>Normal</td>\n",
       "    </tr>\n",
       "    <tr>\n",
       "      <th>1</th>\n",
       "      <td>1462</td>\n",
       "      <td>20</td>\n",
       "      <td>RL</td>\n",
       "      <td>81.0</td>\n",
       "      <td>14267</td>\n",
       "      <td>Pave</td>\n",
       "      <td>NaN</td>\n",
       "      <td>IR1</td>\n",
       "      <td>Lvl</td>\n",
       "      <td>AllPub</td>\n",
       "      <td>...</td>\n",
       "      <td>0</td>\n",
       "      <td>0</td>\n",
       "      <td>NaN</td>\n",
       "      <td>NaN</td>\n",
       "      <td>Gar2</td>\n",
       "      <td>12500</td>\n",
       "      <td>6</td>\n",
       "      <td>2010</td>\n",
       "      <td>WD</td>\n",
       "      <td>Normal</td>\n",
       "    </tr>\n",
       "    <tr>\n",
       "      <th>2</th>\n",
       "      <td>1463</td>\n",
       "      <td>60</td>\n",
       "      <td>RL</td>\n",
       "      <td>74.0</td>\n",
       "      <td>13830</td>\n",
       "      <td>Pave</td>\n",
       "      <td>NaN</td>\n",
       "      <td>IR1</td>\n",
       "      <td>Lvl</td>\n",
       "      <td>AllPub</td>\n",
       "      <td>...</td>\n",
       "      <td>0</td>\n",
       "      <td>0</td>\n",
       "      <td>NaN</td>\n",
       "      <td>MnPrv</td>\n",
       "      <td>NaN</td>\n",
       "      <td>0</td>\n",
       "      <td>3</td>\n",
       "      <td>2010</td>\n",
       "      <td>WD</td>\n",
       "      <td>Normal</td>\n",
       "    </tr>\n",
       "  </tbody>\n",
       "</table>\n",
       "<p>3 rows × 80 columns</p>\n",
       "</div>"
      ],
      "text/plain": [
       "     Id  MSSubClass MSZoning  LotFrontage  LotArea Street Alley LotShape  \\\n",
       "0  1461          20       RH         80.0    11622   Pave   NaN      Reg   \n",
       "1  1462          20       RL         81.0    14267   Pave   NaN      IR1   \n",
       "2  1463          60       RL         74.0    13830   Pave   NaN      IR1   \n",
       "\n",
       "  LandContour Utilities  ... ScreenPorch PoolArea PoolQC  Fence MiscFeature  \\\n",
       "0         Lvl    AllPub  ...         120        0    NaN  MnPrv         NaN   \n",
       "1         Lvl    AllPub  ...           0        0    NaN    NaN        Gar2   \n",
       "2         Lvl    AllPub  ...           0        0    NaN  MnPrv         NaN   \n",
       "\n",
       "  MiscVal MoSold  YrSold  SaleType  SaleCondition  \n",
       "0       0      6    2010        WD         Normal  \n",
       "1   12500      6    2010        WD         Normal  \n",
       "2       0      3    2010        WD         Normal  \n",
       "\n",
       "[3 rows x 80 columns]"
      ]
     },
     "execution_count": 7,
     "metadata": {},
     "output_type": "execute_result"
    }
   ],
   "source": [
    "df_test.sort_values(by='Id').head(3)"
   ]
  },
  {
   "cell_type": "code",
   "execution_count": 8,
   "metadata": {},
   "outputs": [
    {
     "data": {
      "text/plain": [
       "Id                  0\n",
       "MSSubClass          0\n",
       "MSZoning            4\n",
       "LotFrontage         0\n",
       "LotArea             0\n",
       "Street              0\n",
       "Alley            1352\n",
       "LotShape            0\n",
       "LandContour         0\n",
       "Utilities           2\n",
       "LotConfig           0\n",
       "LandSlope           0\n",
       "Neighborhood        0\n",
       "Condition1          0\n",
       "Condition2          0\n",
       "BldgType            0\n",
       "HouseStyle          0\n",
       "OverallQual         0\n",
       "OverallCond         0\n",
       "YearBuilt           0\n",
       "YearRemodAdd        0\n",
       "RoofStyle           0\n",
       "RoofMatl            0\n",
       "Exterior1st         1\n",
       "Exterior2nd         1\n",
       "MasVnrType         16\n",
       "MasVnrArea          0\n",
       "ExterQual           0\n",
       "ExterCond           0\n",
       "Foundation          0\n",
       "                 ... \n",
       "HalfBath            0\n",
       "BedroomAbvGr        0\n",
       "KitchenAbvGr        0\n",
       "KitchenQual         1\n",
       "TotRmsAbvGrd        0\n",
       "Functional          2\n",
       "Fireplaces          0\n",
       "FireplaceQu       730\n",
       "GarageType         76\n",
       "GarageYrBlt         0\n",
       "GarageFinish       78\n",
       "GarageCars          0\n",
       "GarageArea          0\n",
       "GarageQual         78\n",
       "GarageCond         78\n",
       "PavedDrive          0\n",
       "WoodDeckSF          0\n",
       "OpenPorchSF         0\n",
       "EnclosedPorch       0\n",
       "3SsnPorch           0\n",
       "ScreenPorch         0\n",
       "PoolArea            0\n",
       "PoolQC           1456\n",
       "Fence            1169\n",
       "MiscFeature      1408\n",
       "MiscVal             0\n",
       "MoSold              0\n",
       "YrSold              0\n",
       "SaleType            1\n",
       "SaleCondition       0\n",
       "Length: 80, dtype: int64"
      ]
     },
     "execution_count": 8,
     "metadata": {},
     "output_type": "execute_result"
    }
   ],
   "source": [
    "df_test.interpolate().isna().sum()"
   ]
  },
  {
   "cell_type": "code",
   "execution_count": 9,
   "metadata": {},
   "outputs": [
    {
     "name": "stdout",
     "output_type": "stream",
     "text": [
      "MSSubClass: Identifies the type of dwelling involved in the sale.\t\n",
      "\n",
      "        20\t1-STORY 1946 & NEWER ALL STYLES\n",
      "        30\t1-STORY 1945 & OLDER\n",
      "        40\t1-STORY W/FINISHED ATTIC ALL AGES\n",
      "        45\t1-1/2 STORY - UNFINISHED ALL AGES\n",
      "        50\t1-1/2 STORY FINISHED ALL AGES\n",
      "        60\t2-STORY 1946 & NEWER\n",
      "        70\t2-STORY 1945 & OLDER\n",
      "        75\t2-1/2 STORY ALL AGES\n",
      "        80\tSPLIT OR MULTI-LEVEL\n",
      "        85\tSPLIT FOYER\n",
      "        90\tDUPLEX - ALL STYLES AND AGES\n",
      "       120\t1-STORY PUD (Planned Unit Development) - 1946 & NEWER\n",
      "       150\t1-1/2 STORY PUD - ALL AGES\n",
      "       160\t2-STORY PUD - 1946 & NEWER\n",
      "       180\tPUD - MULTILEVEL - INCL SPLIT LEV/FOYER\n",
      "       190\t2 FAMILY CONVERSION - ALL STYLES AND AGES\n",
      "\n",
      "MSZoning: Identifies the general zoning classification of the sale.\n",
      "\t\t\n",
      "       A\tAgriculture\n",
      "       C\tCommercial\n",
      "       FV\tFloating Village Residential\n",
      "       I\tIndustrial\n",
      "       RH\tResidential High Density\n",
      "       RL\tResidential Low Density\n",
      "       RP\tResidential Low Density Park \n",
      "       RM\tResidential Medium Density\n",
      "\t\n",
      "LotFrontage: Linear feet of street connected to property\n",
      "\n",
      "LotArea: Lot size in square feet\n",
      "\n",
      "Street: Type of road access to property\n",
      "\n",
      "       Grvl\tGravel\t\n",
      "       Pave\tPaved\n",
      "       \t\n",
      "Alley: Type of alley access to property\n",
      "\n",
      "       Grvl\tGravel\n",
      "       Pave\tPaved\n",
      "       NA \tNo alley access\n",
      "\t\t\n",
      "LotShape: General shape of property\n",
      "\n",
      "       Reg\tRegular\t\n",
      "       IR1\tSlightly irregular\n",
      "       IR2\tModerately Irregular\n",
      "       IR3\tIrregular\n",
      "       \n",
      "LandContour: Flatness of the property\n",
      "\n",
      "       Lvl\tNear Flat/Level\t\n",
      "       Bnk\tBanked - Quick and significant rise from street grade to building\n",
      "       HLS\tHillside - Significant slope from side to side\n",
      "       Low\tDepression\n",
      "\t\t\n",
      "Utilities: Type of utilities available\n",
      "\t\t\n",
      "       AllPub\tAll public Utilities (E,G,W,& S)\t\n",
      "       NoSewr\tElectricity, Gas, and Water (Septic Tank)\n",
      "       NoSeWa\tElectricity and Gas Only\n",
      "       ELO\tElectricity only\t\n",
      "\t\n",
      "LotConfig: Lot configuration\n",
      "\n",
      "       Inside\tInside lot\n",
      "       Corner\tCorner lot\n",
      "       CulDSac\tCul-de-sac\n",
      "       FR2\tFrontage on 2 sides of property\n",
      "       FR3\tFrontage on 3 sides of property\n",
      "\t\n",
      "LandSlope: Slope of property\n",
      "\t\t\n",
      "       Gtl\tGentle slope\n",
      "       Mod\tModerate Slope\t\n",
      "       Sev\tSevere Slope\n",
      "\t\n",
      "Neighborhood: Physical locations within Ames city limits\n",
      "\n",
      "       Blmngtn\tBloomington Heights\n",
      "       Blueste\tBluestem\n",
      "       BrDale\tBriardale\n",
      "       BrkSide\tBrookside\n",
      "       ClearCr\tClear Creek\n",
      "       CollgCr\tCollege Creek\n",
      "       Crawfor\tCrawford\n",
      "       Edwards\tEdwards\n",
      "       Gilbert\tGilbert\n",
      "       IDOTRR\tIowa DOT and Rail Road\n",
      "       MeadowV\tMeadow Village\n",
      "       Mitchel\tMitchell\n",
      "       Names\tNorth Ames\n",
      "       NoRidge\tNorthridge\n",
      "       NPkVill\tNorthpark Villa\n",
      "       NridgHt\tNorthridge Heights\n",
      "       NWAmes\tNorthwest Ames\n",
      "       OldTown\tOld Town\n",
      "       SWISU\tSouth & West of Iowa State University\n",
      "       Sawyer\tSawyer\n",
      "       SawyerW\tSawyer West\n",
      "       Somerst\tSomerset\n",
      "       StoneBr\tStone Brook\n",
      "       Timber\tTimberland\n",
      "       Veenker\tVeenker\n",
      "\t\t\t\n",
      "Condition1: Proximity to various conditions\n",
      "\t\n",
      "       Artery\tAdjacent to arterial street\n",
      "       Feedr\tAdjacent to feeder street\t\n",
      "       Norm\tNormal\t\n",
      "       RRNn\tWithin 200' of North-South Railroad\n",
      "       RRAn\tAdjacent to North-South Railroad\n",
      "       PosN\tNear positive off-site feature--park, greenbelt, etc.\n",
      "       PosA\tAdjacent to postive off-site feature\n",
      "       RRNe\tWithin 200' of East-West Railroad\n",
      "       RRAe\tAdjacent to East-West Railroad\n",
      "\t\n",
      "Condition2: Proximity to various conditions (if more than one is present)\n",
      "\t\t\n",
      "       Artery\tAdjacent to arterial street\n",
      "       Feedr\tAdjacent to feeder street\t\n",
      "       Norm\tNormal\t\n",
      "       RRNn\tWithin 200' of North-South Railroad\n",
      "       RRAn\tAdjacent to North-South Railroad\n",
      "       PosN\tNear positive off-site feature--park, greenbelt, etc.\n",
      "       PosA\tAdjacent to postive off-site feature\n",
      "       RRNe\tWithin 200' of East-West Railroad\n",
      "       RRAe\tAdjacent to East-West Railroad\n",
      "\t\n",
      "BldgType: Type of dwelling\n",
      "\t\t\n",
      "       1Fam\tSingle-family Detached\t\n",
      "       2FmCon\tTwo-family Conversion; originally built as one-family dwelling\n",
      "       Duplx\tDuplex\n",
      "       TwnhsE\tTownhouse End Unit\n",
      "       TwnhsI\tTownhouse Inside Unit\n",
      "\t\n",
      "HouseStyle: Style of dwelling\n",
      "\t\n",
      "       1Story\tOne story\n",
      "       1.5Fin\tOne and one-half story: 2nd level finished\n",
      "       1.5Unf\tOne and one-half story: 2nd level unfinished\n",
      "       2Story\tTwo story\n",
      "       2.5Fin\tTwo and one-half story: 2nd level finished\n",
      "       2.5Unf\tTwo and one-half story: 2nd level unfinished\n",
      "       SFoyer\tSplit Foyer\n",
      "       SLvl\tSplit Level\n",
      "\t\n",
      "OverallQual: Rates the overall material and finish of the house\n",
      "\n",
      "       10\tVery Excellent\n",
      "       9\tExcellent\n",
      "       8\tVery Good\n",
      "       7\tGood\n",
      "       6\tAbove Average\n",
      "       5\tAverage\n",
      "       4\tBelow Average\n",
      "       3\tFair\n",
      "       2\tPoor\n",
      "       1\tVery Poor\n",
      "\t\n",
      "OverallCond: Rates the overall condition of the house\n",
      "\n",
      "       10\tVery Excellent\n",
      "       9\tExcellent\n",
      "       8\tVery Good\n",
      "       7\tGood\n",
      "       6\tAbove Average\t\n",
      "       5\tAverage\n",
      "       4\tBelow Average\t\n",
      "       3\tFair\n",
      "       2\tPoor\n",
      "       1\tVery Poor\n",
      "\t\t\n",
      "YearBuilt: Original construction date\n",
      "\n",
      "YearRemodAdd: Remodel date (same as construction date if no remodeling or additions)\n",
      "\n",
      "RoofStyle: Type of roof\n",
      "\n",
      "       Flat\tFlat\n",
      "       Gable\tGable\n",
      "       Gambrel\tGabrel (Barn)\n",
      "       Hip\tHip\n",
      "       Mansard\tMansard\n",
      "       Shed\tShed\n",
      "\t\t\n",
      "RoofMatl: Roof material\n",
      "\n",
      "       ClyTile\tClay or Tile\n",
      "       CompShg\tStandard (Composite) Shingle\n",
      "       Membran\tMembrane\n",
      "       Metal\tMetal\n",
      "       Roll\tRoll\n",
      "       Tar&Grv\tGravel & Tar\n",
      "       WdShake\tWood Shakes\n",
      "       WdShngl\tWood Shingles\n",
      "\t\t\n",
      "Exterior1st: Exterior covering on house\n",
      "\n",
      "       AsbShng\tAsbestos Shingles\n",
      "       AsphShn\tAsphalt Shingles\n",
      "       BrkComm\tBrick Common\n",
      "       BrkFace\tBrick Face\n",
      "       CBlock\tCinder Block\n",
      "       CemntBd\tCement Board\n",
      "       HdBoard\tHard Board\n",
      "       ImStucc\tImitation Stucco\n",
      "       MetalSd\tMetal Siding\n",
      "       Other\tOther\n",
      "       Plywood\tPlywood\n",
      "       PreCast\tPreCast\t\n",
      "       Stone\tStone\n",
      "       Stucco\tStucco\n",
      "       VinylSd\tVinyl Siding\n",
      "       Wd Sdng\tWood Siding\n",
      "       WdShing\tWood Shingles\n",
      "\t\n",
      "Exterior2nd: Exterior covering on house (if more than one material)\n",
      "\n",
      "       AsbShng\tAsbestos Shingles\n",
      "       AsphShn\tAsphalt Shingles\n",
      "       BrkComm\tBrick Common\n",
      "       BrkFace\tBrick Face\n",
      "       CBlock\tCinder Block\n",
      "       CemntBd\tCement Board\n",
      "       HdBoard\tHard Board\n",
      "       ImStucc\tImitation Stucco\n",
      "       MetalSd\tMetal Siding\n",
      "       Other\tOther\n",
      "       Plywood\tPlywood\n",
      "       PreCast\tPreCast\n",
      "       Stone\tStone\n",
      "       Stucco\tStucco\n",
      "       VinylSd\tVinyl Siding\n",
      "       Wd Sdng\tWood Siding\n",
      "       WdShing\tWood Shingles\n",
      "\t\n",
      "MasVnrType: Masonry veneer type\n",
      "\n",
      "       BrkCmn\tBrick Common\n",
      "       BrkFace\tBrick Face\n",
      "       CBlock\tCinder Block\n",
      "       None\tNone\n",
      "       Stone\tStone\n",
      "\t\n",
      "MasVnrArea: Masonry veneer area in square feet\n",
      "\n",
      "ExterQual: Evaluates the quality of the material on the exterior \n",
      "\t\t\n",
      "       Ex\tExcellent\n",
      "       Gd\tGood\n",
      "       TA\tAverage/Typical\n",
      "       Fa\tFair\n",
      "       Po\tPoor\n",
      "\t\t\n",
      "ExterCond: Evaluates the present condition of the material on the exterior\n",
      "\t\t\n",
      "       Ex\tExcellent\n",
      "       Gd\tGood\n",
      "       TA\tAverage/Typical\n",
      "       Fa\tFair\n",
      "       Po\tPoor\n",
      "\t\t\n",
      "Foundation: Type of foundation\n",
      "\t\t\n",
      "       BrkTil\tBrick & Tile\n",
      "       CBlock\tCinder Block\n",
      "       PConc\tPoured Contrete\t\n",
      "       Slab\tSlab\n",
      "       Stone\tStone\n",
      "       Wood\tWood\n",
      "\t\t\n",
      "BsmtQual: Evaluates the height of the basement\n",
      "\n",
      "       Ex\tExcellent (100+ inches)\t\n",
      "       Gd\tGood (90-99 inches)\n",
      "       TA\tTypical (80-89 inches)\n",
      "       Fa\tFair (70-79 inches)\n",
      "       Po\tPoor (<70 inches\n",
      "       NA\tNo Basement\n",
      "\t\t\n",
      "BsmtCond: Evaluates the general condition of the basement\n",
      "\n",
      "       Ex\tExcellent\n",
      "       Gd\tGood\n",
      "       TA\tTypical - slight dampness allowed\n",
      "       Fa\tFair - dampness or some cracking or settling\n",
      "       Po\tPoor - Severe cracking, settling, or wetness\n",
      "       NA\tNo Basement\n",
      "\t\n",
      "BsmtExposure: Refers to walkout or garden level walls\n",
      "\n",
      "       Gd\tGood Exposure\n",
      "       Av\tAverage Exposure (split levels or foyers typically score average or above)\t\n",
      "       Mn\tMimimum Exposure\n",
      "       No\tNo Exposure\n",
      "       NA\tNo Basement\n",
      "\t\n",
      "BsmtFinType1: Rating of basement finished area\n",
      "\n",
      "       GLQ\tGood Living Quarters\n",
      "       ALQ\tAverage Living Quarters\n",
      "       BLQ\tBelow Average Living Quarters\t\n",
      "       Rec\tAverage Rec Room\n",
      "       LwQ\tLow Quality\n",
      "       Unf\tUnfinshed\n",
      "       NA\tNo Basement\n",
      "\t\t\n",
      "BsmtFinSF1: Type 1 finished square feet\n",
      "\n",
      "BsmtFinType2: Rating of basement finished area (if multiple types)\n",
      "\n",
      "       GLQ\tGood Living Quarters\n",
      "       ALQ\tAverage Living Quarters\n",
      "       BLQ\tBelow Average Living Quarters\t\n",
      "       Rec\tAverage Rec Room\n",
      "       LwQ\tLow Quality\n",
      "       Unf\tUnfinshed\n",
      "       NA\tNo Basement\n",
      "\n",
      "BsmtFinSF2: Type 2 finished square feet\n",
      "\n",
      "BsmtUnfSF: Unfinished square feet of basement area\n",
      "\n",
      "TotalBsmtSF: Total square feet of basement area\n",
      "\n",
      "Heating: Type of heating\n",
      "\t\t\n",
      "       Floor\tFloor Furnace\n",
      "       GasA\tGas forced warm air furnace\n",
      "       GasW\tGas hot water or steam heat\n",
      "       Grav\tGravity furnace\t\n",
      "       OthW\tHot water or steam heat other than gas\n",
      "       Wall\tWall furnace\n",
      "\t\t\n",
      "HeatingQC: Heating quality and condition\n",
      "\n",
      "       Ex\tExcellent\n",
      "       Gd\tGood\n",
      "       TA\tAverage/Typical\n",
      "       Fa\tFair\n",
      "       Po\tPoor\n",
      "\t\t\n",
      "CentralAir: Central air conditioning\n",
      "\n",
      "       N\tNo\n",
      "       Y\tYes\n",
      "\t\t\n",
      "Electrical: Electrical system\n",
      "\n",
      "       SBrkr\tStandard Circuit Breakers & Romex\n",
      "       FuseA\tFuse Box over 60 AMP and all Romex wiring (Average)\t\n",
      "       FuseF\t60 AMP Fuse Box and mostly Romex wiring (Fair)\n",
      "       FuseP\t60 AMP Fuse Box and mostly knob & tube wiring (poor)\n",
      "       Mix\tMixed\n",
      "\t\t\n",
      "1stFlrSF: First Floor square feet\n",
      " \n",
      "2ndFlrSF: Second floor square feet\n",
      "\n",
      "LowQualFinSF: Low quality finished square feet (all floors)\n",
      "\n",
      "GrLivArea: Above grade (ground) living area square feet\n",
      "\n",
      "BsmtFullBath: Basement full bathrooms\n",
      "\n",
      "BsmtHalfBath: Basement half bathrooms\n",
      "\n",
      "FullBath: Full bathrooms above grade\n",
      "\n",
      "HalfBath: Half baths above grade\n",
      "\n",
      "Bedroom: Bedrooms above grade (does NOT include basement bedrooms)\n",
      "\n",
      "Kitchen: Kitchens above grade\n",
      "\n",
      "KitchenQual: Kitchen quality\n",
      "\n",
      "       Ex\tExcellent\n",
      "       Gd\tGood\n",
      "       TA\tTypical/Average\n",
      "       Fa\tFair\n",
      "       Po\tPoor\n",
      "       \t\n",
      "TotRmsAbvGrd: Total rooms above grade (does not include bathrooms)\n",
      "\n",
      "Functional: Home functionality (Assume typical unless deductions are warranted)\n",
      "\n",
      "       Typ\tTypical Functionality\n",
      "       Min1\tMinor Deductions 1\n",
      "       Min2\tMinor Deductions 2\n",
      "       Mod\tModerate Deductions\n",
      "       Maj1\tMajor Deductions 1\n",
      "       Maj2\tMajor Deductions 2\n",
      "       Sev\tSeverely Damaged\n",
      "       Sal\tSalvage only\n",
      "\t\t\n",
      "Fireplaces: Number of fireplaces\n",
      "\n",
      "FireplaceQu: Fireplace quality\n",
      "\n",
      "       Ex\tExcellent - Exceptional Masonry Fireplace\n",
      "       Gd\tGood - Masonry Fireplace in main level\n",
      "       TA\tAverage - Prefabricated Fireplace in main living area or Masonry Fireplace in basement\n",
      "       Fa\tFair - Prefabricated Fireplace in basement\n",
      "       Po\tPoor - Ben Franklin Stove\n",
      "       NA\tNo Fireplace\n",
      "\t\t\n",
      "GarageType: Garage location\n",
      "\t\t\n",
      "       2Types\tMore than one type of garage\n",
      "       Attchd\tAttached to home\n",
      "       Basment\tBasement Garage\n",
      "       BuiltIn\tBuilt-In (Garage part of house - typically has room above garage)\n",
      "       CarPort\tCar Port\n",
      "       Detchd\tDetached from home\n",
      "       NA\tNo Garage\n",
      "\t\t\n",
      "GarageYrBlt: Year garage was built\n",
      "\t\t\n",
      "GarageFinish: Interior finish of the garage\n",
      "\n",
      "       Fin\tFinished\n",
      "       RFn\tRough Finished\t\n",
      "       Unf\tUnfinished\n",
      "       NA\tNo Garage\n",
      "\t\t\n",
      "GarageCars: Size of garage in car capacity\n",
      "\n",
      "GarageArea: Size of garage in square feet\n",
      "\n",
      "GarageQual: Garage quality\n",
      "\n",
      "       Ex\tExcellent\n",
      "       Gd\tGood\n",
      "       TA\tTypical/Average\n",
      "       Fa\tFair\n",
      "       Po\tPoor\n",
      "       NA\tNo Garage\n",
      "\t\t\n",
      "GarageCond: Garage condition\n",
      "\n",
      "       Ex\tExcellent\n",
      "       Gd\tGood\n",
      "       TA\tTypical/Average\n",
      "       Fa\tFair\n",
      "       Po\tPoor\n",
      "       NA\tNo Garage\n",
      "\t\t\n",
      "PavedDrive: Paved driveway\n",
      "\n",
      "       Y\tPaved \n",
      "       P\tPartial Pavement\n",
      "       N\tDirt/Gravel\n",
      "\t\t\n",
      "WoodDeckSF: Wood deck area in square feet\n",
      "\n",
      "OpenPorchSF: Open porch area in square feet\n",
      "\n",
      "EnclosedPorch: Enclosed porch area in square feet\n",
      "\n",
      "3SsnPorch: Three season porch area in square feet\n",
      "\n",
      "ScreenPorch: Screen porch area in square feet\n",
      "\n",
      "PoolArea: Pool area in square feet\n",
      "\n",
      "PoolQC: Pool quality\n",
      "\t\t\n",
      "       Ex\tExcellent\n",
      "       Gd\tGood\n",
      "       TA\tAverage/Typical\n",
      "       Fa\tFair\n",
      "       NA\tNo Pool\n",
      "\t\t\n",
      "Fence: Fence quality\n",
      "\t\t\n",
      "       GdPrv\tGood Privacy\n",
      "       MnPrv\tMinimum Privacy\n",
      "       GdWo\tGood Wood\n",
      "       MnWw\tMinimum Wood/Wire\n",
      "       NA\tNo Fence\n",
      "\t\n",
      "MiscFeature: Miscellaneous feature not covered in other categories\n",
      "\t\t\n",
      "       Elev\tElevator\n",
      "       Gar2\t2nd Garage (if not described in garage section)\n",
      "       Othr\tOther\n",
      "       Shed\tShed (over 100 SF)\n",
      "       TenC\tTennis Court\n",
      "       NA\tNone\n",
      "\t\t\n",
      "MiscVal: $Value of miscellaneous feature\n",
      "\n",
      "MoSold: Month Sold (MM)\n",
      "\n",
      "YrSold: Year Sold (YYYY)\n",
      "\n",
      "SaleType: Type of sale\n",
      "\t\t\n",
      "       WD \tWarranty Deed - Conventional\n",
      "       CWD\tWarranty Deed - Cash\n",
      "       VWD\tWarranty Deed - VA Loan\n",
      "       New\tHome just constructed and sold\n",
      "       COD\tCourt Officer Deed/Estate\n",
      "       Con\tContract 15% Down payment regular terms\n",
      "       ConLw\tContract Low Down payment and low interest\n",
      "       ConLI\tContract Low Interest\n",
      "       ConLD\tContract Low Down\n",
      "       Oth\tOther\n",
      "\t\t\n",
      "SaleCondition: Condition of sale\n",
      "\n",
      "       Normal\tNormal Sale\n",
      "       Abnorml\tAbnormal Sale -  trade, foreclosure, short sale\n",
      "       AdjLand\tAdjoining Land Purchase\n",
      "       Alloca\tAllocation - two linked properties with separate deeds, typically condo with a garage unit\t\n",
      "       Family\tSale between family members\n",
      "       Partial\tHome was not completed when last assessed (associated with New Homes)\n",
      "\n"
     ]
    }
   ],
   "source": [
    "f = open(\"data/data_description.txt\", \"r\")\n",
    "print(f.read())"
   ]
  },
  {
   "cell_type": "markdown",
   "metadata": {},
   "source": [
    "# 3. Feature Engineering"
   ]
  },
  {
   "cell_type": "code",
   "execution_count": 10,
   "metadata": {},
   "outputs": [
    {
     "data": {
      "text/html": [
       "<div>\n",
       "<style scoped>\n",
       "    .dataframe tbody tr th:only-of-type {\n",
       "        vertical-align: middle;\n",
       "    }\n",
       "\n",
       "    .dataframe tbody tr th {\n",
       "        vertical-align: top;\n",
       "    }\n",
       "\n",
       "    .dataframe thead th {\n",
       "        text-align: right;\n",
       "    }\n",
       "</style>\n",
       "<table border=\"1\" class=\"dataframe\">\n",
       "  <thead>\n",
       "    <tr style=\"text-align: right;\">\n",
       "      <th></th>\n",
       "      <th>Id</th>\n",
       "      <th>MSSubClass</th>\n",
       "      <th>LotFrontage</th>\n",
       "      <th>LotArea</th>\n",
       "      <th>OverallQual</th>\n",
       "      <th>OverallCond</th>\n",
       "      <th>YearBuilt</th>\n",
       "      <th>YearRemodAdd</th>\n",
       "      <th>MasVnrArea</th>\n",
       "      <th>BsmtFinSF1</th>\n",
       "      <th>...</th>\n",
       "      <th>WoodDeckSF</th>\n",
       "      <th>OpenPorchSF</th>\n",
       "      <th>EnclosedPorch</th>\n",
       "      <th>3SsnPorch</th>\n",
       "      <th>ScreenPorch</th>\n",
       "      <th>PoolArea</th>\n",
       "      <th>MiscVal</th>\n",
       "      <th>MoSold</th>\n",
       "      <th>YrSold</th>\n",
       "      <th>SalePrice</th>\n",
       "    </tr>\n",
       "  </thead>\n",
       "  <tbody>\n",
       "    <tr>\n",
       "      <th>count</th>\n",
       "      <td>1460.000000</td>\n",
       "      <td>1460.000000</td>\n",
       "      <td>1201.000000</td>\n",
       "      <td>1460.000000</td>\n",
       "      <td>1460.000000</td>\n",
       "      <td>1460.000000</td>\n",
       "      <td>1460.000000</td>\n",
       "      <td>1460.000000</td>\n",
       "      <td>1452.000000</td>\n",
       "      <td>1460.000000</td>\n",
       "      <td>...</td>\n",
       "      <td>1460.000000</td>\n",
       "      <td>1460.000000</td>\n",
       "      <td>1460.000000</td>\n",
       "      <td>1460.000000</td>\n",
       "      <td>1460.000000</td>\n",
       "      <td>1460.000000</td>\n",
       "      <td>1460.000000</td>\n",
       "      <td>1460.000000</td>\n",
       "      <td>1460.000000</td>\n",
       "      <td>1460.000000</td>\n",
       "    </tr>\n",
       "    <tr>\n",
       "      <th>mean</th>\n",
       "      <td>730.500000</td>\n",
       "      <td>56.897260</td>\n",
       "      <td>70.049958</td>\n",
       "      <td>10516.828082</td>\n",
       "      <td>6.099315</td>\n",
       "      <td>5.575342</td>\n",
       "      <td>1971.267808</td>\n",
       "      <td>1984.865753</td>\n",
       "      <td>103.685262</td>\n",
       "      <td>443.639726</td>\n",
       "      <td>...</td>\n",
       "      <td>94.244521</td>\n",
       "      <td>46.660274</td>\n",
       "      <td>21.954110</td>\n",
       "      <td>3.409589</td>\n",
       "      <td>15.060959</td>\n",
       "      <td>2.758904</td>\n",
       "      <td>43.489041</td>\n",
       "      <td>6.321918</td>\n",
       "      <td>2007.815753</td>\n",
       "      <td>180921.195890</td>\n",
       "    </tr>\n",
       "    <tr>\n",
       "      <th>std</th>\n",
       "      <td>421.610009</td>\n",
       "      <td>42.300571</td>\n",
       "      <td>24.284752</td>\n",
       "      <td>9981.264932</td>\n",
       "      <td>1.382997</td>\n",
       "      <td>1.112799</td>\n",
       "      <td>30.202904</td>\n",
       "      <td>20.645407</td>\n",
       "      <td>181.066207</td>\n",
       "      <td>456.098091</td>\n",
       "      <td>...</td>\n",
       "      <td>125.338794</td>\n",
       "      <td>66.256028</td>\n",
       "      <td>61.119149</td>\n",
       "      <td>29.317331</td>\n",
       "      <td>55.757415</td>\n",
       "      <td>40.177307</td>\n",
       "      <td>496.123024</td>\n",
       "      <td>2.703626</td>\n",
       "      <td>1.328095</td>\n",
       "      <td>79442.502883</td>\n",
       "    </tr>\n",
       "    <tr>\n",
       "      <th>min</th>\n",
       "      <td>1.000000</td>\n",
       "      <td>20.000000</td>\n",
       "      <td>21.000000</td>\n",
       "      <td>1300.000000</td>\n",
       "      <td>1.000000</td>\n",
       "      <td>1.000000</td>\n",
       "      <td>1872.000000</td>\n",
       "      <td>1950.000000</td>\n",
       "      <td>0.000000</td>\n",
       "      <td>0.000000</td>\n",
       "      <td>...</td>\n",
       "      <td>0.000000</td>\n",
       "      <td>0.000000</td>\n",
       "      <td>0.000000</td>\n",
       "      <td>0.000000</td>\n",
       "      <td>0.000000</td>\n",
       "      <td>0.000000</td>\n",
       "      <td>0.000000</td>\n",
       "      <td>1.000000</td>\n",
       "      <td>2006.000000</td>\n",
       "      <td>34900.000000</td>\n",
       "    </tr>\n",
       "    <tr>\n",
       "      <th>25%</th>\n",
       "      <td>365.750000</td>\n",
       "      <td>20.000000</td>\n",
       "      <td>59.000000</td>\n",
       "      <td>7553.500000</td>\n",
       "      <td>5.000000</td>\n",
       "      <td>5.000000</td>\n",
       "      <td>1954.000000</td>\n",
       "      <td>1967.000000</td>\n",
       "      <td>0.000000</td>\n",
       "      <td>0.000000</td>\n",
       "      <td>...</td>\n",
       "      <td>0.000000</td>\n",
       "      <td>0.000000</td>\n",
       "      <td>0.000000</td>\n",
       "      <td>0.000000</td>\n",
       "      <td>0.000000</td>\n",
       "      <td>0.000000</td>\n",
       "      <td>0.000000</td>\n",
       "      <td>5.000000</td>\n",
       "      <td>2007.000000</td>\n",
       "      <td>129975.000000</td>\n",
       "    </tr>\n",
       "    <tr>\n",
       "      <th>50%</th>\n",
       "      <td>730.500000</td>\n",
       "      <td>50.000000</td>\n",
       "      <td>69.000000</td>\n",
       "      <td>9478.500000</td>\n",
       "      <td>6.000000</td>\n",
       "      <td>5.000000</td>\n",
       "      <td>1973.000000</td>\n",
       "      <td>1994.000000</td>\n",
       "      <td>0.000000</td>\n",
       "      <td>383.500000</td>\n",
       "      <td>...</td>\n",
       "      <td>0.000000</td>\n",
       "      <td>25.000000</td>\n",
       "      <td>0.000000</td>\n",
       "      <td>0.000000</td>\n",
       "      <td>0.000000</td>\n",
       "      <td>0.000000</td>\n",
       "      <td>0.000000</td>\n",
       "      <td>6.000000</td>\n",
       "      <td>2008.000000</td>\n",
       "      <td>163000.000000</td>\n",
       "    </tr>\n",
       "    <tr>\n",
       "      <th>75%</th>\n",
       "      <td>1095.250000</td>\n",
       "      <td>70.000000</td>\n",
       "      <td>80.000000</td>\n",
       "      <td>11601.500000</td>\n",
       "      <td>7.000000</td>\n",
       "      <td>6.000000</td>\n",
       "      <td>2000.000000</td>\n",
       "      <td>2004.000000</td>\n",
       "      <td>166.000000</td>\n",
       "      <td>712.250000</td>\n",
       "      <td>...</td>\n",
       "      <td>168.000000</td>\n",
       "      <td>68.000000</td>\n",
       "      <td>0.000000</td>\n",
       "      <td>0.000000</td>\n",
       "      <td>0.000000</td>\n",
       "      <td>0.000000</td>\n",
       "      <td>0.000000</td>\n",
       "      <td>8.000000</td>\n",
       "      <td>2009.000000</td>\n",
       "      <td>214000.000000</td>\n",
       "    </tr>\n",
       "    <tr>\n",
       "      <th>max</th>\n",
       "      <td>1460.000000</td>\n",
       "      <td>190.000000</td>\n",
       "      <td>313.000000</td>\n",
       "      <td>215245.000000</td>\n",
       "      <td>10.000000</td>\n",
       "      <td>9.000000</td>\n",
       "      <td>2010.000000</td>\n",
       "      <td>2010.000000</td>\n",
       "      <td>1600.000000</td>\n",
       "      <td>5644.000000</td>\n",
       "      <td>...</td>\n",
       "      <td>857.000000</td>\n",
       "      <td>547.000000</td>\n",
       "      <td>552.000000</td>\n",
       "      <td>508.000000</td>\n",
       "      <td>480.000000</td>\n",
       "      <td>738.000000</td>\n",
       "      <td>15500.000000</td>\n",
       "      <td>12.000000</td>\n",
       "      <td>2010.000000</td>\n",
       "      <td>755000.000000</td>\n",
       "    </tr>\n",
       "  </tbody>\n",
       "</table>\n",
       "<p>8 rows × 38 columns</p>\n",
       "</div>"
      ],
      "text/plain": [
       "                Id   MSSubClass  LotFrontage        LotArea  OverallQual  \\\n",
       "count  1460.000000  1460.000000  1201.000000    1460.000000  1460.000000   \n",
       "mean    730.500000    56.897260    70.049958   10516.828082     6.099315   \n",
       "std     421.610009    42.300571    24.284752    9981.264932     1.382997   \n",
       "min       1.000000    20.000000    21.000000    1300.000000     1.000000   \n",
       "25%     365.750000    20.000000    59.000000    7553.500000     5.000000   \n",
       "50%     730.500000    50.000000    69.000000    9478.500000     6.000000   \n",
       "75%    1095.250000    70.000000    80.000000   11601.500000     7.000000   \n",
       "max    1460.000000   190.000000   313.000000  215245.000000    10.000000   \n",
       "\n",
       "       OverallCond    YearBuilt  YearRemodAdd   MasVnrArea   BsmtFinSF1  ...  \\\n",
       "count  1460.000000  1460.000000   1460.000000  1452.000000  1460.000000  ...   \n",
       "mean      5.575342  1971.267808   1984.865753   103.685262   443.639726  ...   \n",
       "std       1.112799    30.202904     20.645407   181.066207   456.098091  ...   \n",
       "min       1.000000  1872.000000   1950.000000     0.000000     0.000000  ...   \n",
       "25%       5.000000  1954.000000   1967.000000     0.000000     0.000000  ...   \n",
       "50%       5.000000  1973.000000   1994.000000     0.000000   383.500000  ...   \n",
       "75%       6.000000  2000.000000   2004.000000   166.000000   712.250000  ...   \n",
       "max       9.000000  2010.000000   2010.000000  1600.000000  5644.000000  ...   \n",
       "\n",
       "        WoodDeckSF  OpenPorchSF  EnclosedPorch    3SsnPorch  ScreenPorch  \\\n",
       "count  1460.000000  1460.000000    1460.000000  1460.000000  1460.000000   \n",
       "mean     94.244521    46.660274      21.954110     3.409589    15.060959   \n",
       "std     125.338794    66.256028      61.119149    29.317331    55.757415   \n",
       "min       0.000000     0.000000       0.000000     0.000000     0.000000   \n",
       "25%       0.000000     0.000000       0.000000     0.000000     0.000000   \n",
       "50%       0.000000    25.000000       0.000000     0.000000     0.000000   \n",
       "75%     168.000000    68.000000       0.000000     0.000000     0.000000   \n",
       "max     857.000000   547.000000     552.000000   508.000000   480.000000   \n",
       "\n",
       "          PoolArea       MiscVal       MoSold       YrSold      SalePrice  \n",
       "count  1460.000000   1460.000000  1460.000000  1460.000000    1460.000000  \n",
       "mean      2.758904     43.489041     6.321918  2007.815753  180921.195890  \n",
       "std      40.177307    496.123024     2.703626     1.328095   79442.502883  \n",
       "min       0.000000      0.000000     1.000000  2006.000000   34900.000000  \n",
       "25%       0.000000      0.000000     5.000000  2007.000000  129975.000000  \n",
       "50%       0.000000      0.000000     6.000000  2008.000000  163000.000000  \n",
       "75%       0.000000      0.000000     8.000000  2009.000000  214000.000000  \n",
       "max     738.000000  15500.000000    12.000000  2010.000000  755000.000000  \n",
       "\n",
       "[8 rows x 38 columns]"
      ]
     },
     "execution_count": 10,
     "metadata": {},
     "output_type": "execute_result"
    }
   ],
   "source": [
    "df_train.describe()"
   ]
  },
  {
   "cell_type": "markdown",
   "metadata": {},
   "source": [
    "**Function to create ranges for continuous feature**"
   ]
  },
  {
   "cell_type": "code",
   "execution_count": 11,
   "metadata": {},
   "outputs": [],
   "source": [
    "def create_ranges(max_value, min_value, value):\n",
    "    #print(value)\n",
    "    shifted_max_value = max_value + abs(min_value)\n",
    "    shifted_value = value + abs(min_value)\n",
    "    #print(type(shifted_max_value))\n",
    "    #print(type(shifted_value))\n",
    "    percentage = np.divide(shifted_value, shifted_max_value)\n",
    "    #print(type(percentage))\n",
    "    #print(percentage)\n",
    "    output_range = int(round(percentage*10))\n",
    "    #print(output_range)\n",
    "\n",
    "    return output_range"
   ]
  },
  {
   "cell_type": "markdown",
   "metadata": {},
   "source": [
    "## 3.1 MSSubClass \n",
    "Change feature values to be represented by number from 1 and up."
   ]
  },
  {
   "cell_type": "markdown",
   "metadata": {},
   "source": [
    "**Feature Description:**  \n",
    "MSSubClass: Identifies the type of dwelling involved in the sale.\t\n",
    "\n",
    "        20\t1-STORY 1946 & NEWER ALL STYLES\n",
    "        30\t1-STORY 1945 & OLDER\n",
    "        40\t1-STORY W/FINISHED ATTIC ALL AGES\n",
    "        45\t1-1/2 STORY - UNFINISHED ALL AGES\n",
    "        50\t1-1/2 STORY FINISHED ALL AGES\n",
    "        60\t2-STORY 1946 & NEWER\n",
    "        70\t2-STORY 1945 & OLDER\n",
    "        75\t2-1/2 STORY ALL AGES\n",
    "        80\tSPLIT OR MULTI-LEVEL\n",
    "        85\tSPLIT FOYER\n",
    "        90\tDUPLEX - ALL STYLES AND AGES\n",
    "       120\t1-STORY PUD (Planned Unit Development) - 1946 & NEWER\n",
    "       150\t1-1/2 STORY PUD - ALL AGES\n",
    "       160\t2-STORY PUD - 1946 & NEWER\n",
    "       180\tPUD - MULTILEVEL - INCL SPLIT LEV/FOYER\n",
    "       190\t2 FAMILY CONVERSION - ALL STYLES AND AGES\n",
    "       \n",
    "**Feature Engineering:**\n",
    "Create a binary feature where 1 is 1 story and 0 is more than 1 story."
   ]
  },
  {
   "cell_type": "code",
   "execution_count": 12,
   "metadata": {},
   "outputs": [
    {
     "data": {
      "text/plain": [
       "0"
      ]
     },
     "execution_count": 12,
     "metadata": {},
     "output_type": "execute_result"
    }
   ],
   "source": [
    "df_train.MSSubClass.isna().sum()"
   ]
  },
  {
   "cell_type": "code",
   "execution_count": 13,
   "metadata": {},
   "outputs": [
    {
     "data": {
      "text/plain": [
       "20     536\n",
       "60     299\n",
       "50     144\n",
       "120     87\n",
       "30      69\n",
       "160     63\n",
       "70      60\n",
       "80      58\n",
       "90      52\n",
       "190     30\n",
       "85      20\n",
       "75      16\n",
       "45      12\n",
       "180     10\n",
       "40       4\n",
       "Name: MSSubClass, dtype: int64"
      ]
     },
     "execution_count": 13,
     "metadata": {},
     "output_type": "execute_result"
    }
   ],
   "source": [
    "df_train.MSSubClass.value_counts()"
   ]
  },
  {
   "cell_type": "code",
   "execution_count": 14,
   "metadata": {},
   "outputs": [],
   "source": [
    "one_story_nums = [20, 30, 40, 120]\n",
    "\n",
    "def mssubclass_feateng(input):\n",
    "    if input in one_story_nums:\n",
    "        return 1\n",
    "    else:\n",
    "        return 0"
   ]
  },
  {
   "cell_type": "code",
   "execution_count": 15,
   "metadata": {
    "scrolled": true
   },
   "outputs": [],
   "source": [
    "df_train['MSSubClass_1story'] = df_train.apply(lambda x: mssubclass_feateng(x.MSSubClass), axis=1)\n",
    "df_test['MSSubClass_1story'] = df_test.apply(lambda x: mssubclass_feateng(x.MSSubClass), axis=1)"
   ]
  },
  {
   "cell_type": "code",
   "execution_count": 16,
   "metadata": {},
   "outputs": [
    {
     "data": {
      "text/plain": [
       "0    764\n",
       "1    696\n",
       "Name: MSSubClass_1story, dtype: int64"
      ]
     },
     "execution_count": 16,
     "metadata": {},
     "output_type": "execute_result"
    }
   ],
   "source": [
    "df_train.MSSubClass_1story.value_counts()"
   ]
  },
  {
   "cell_type": "code",
   "execution_count": 17,
   "metadata": {},
   "outputs": [
    {
     "data": {
      "text/plain": [
       "0    764\n",
       "1    696\n",
       "Name: MSSubClass_1story, dtype: int64"
      ]
     },
     "execution_count": 17,
     "metadata": {},
     "output_type": "execute_result"
    }
   ],
   "source": [
    "df_train.MSSubClass_1story.value_counts()"
   ]
  },
  {
   "cell_type": "code",
   "execution_count": 18,
   "metadata": {},
   "outputs": [],
   "source": [
    "df_train['MSSubClass_1story'] = df_train['MSSubClass_1story'].astype('category')\n",
    "df_test['MSSubClass_1story'] = df_test['MSSubClass_1story'].astype('category')"
   ]
  },
  {
   "cell_type": "code",
   "execution_count": 19,
   "metadata": {},
   "outputs": [
    {
     "data": {
      "text/html": [
       "<div>\n",
       "<style scoped>\n",
       "    .dataframe tbody tr th:only-of-type {\n",
       "        vertical-align: middle;\n",
       "    }\n",
       "\n",
       "    .dataframe tbody tr th {\n",
       "        vertical-align: top;\n",
       "    }\n",
       "\n",
       "    .dataframe thead th {\n",
       "        text-align: right;\n",
       "    }\n",
       "</style>\n",
       "<table border=\"1\" class=\"dataframe\">\n",
       "  <thead>\n",
       "    <tr style=\"text-align: right;\">\n",
       "      <th></th>\n",
       "      <th>Id</th>\n",
       "      <th>MSZoning</th>\n",
       "      <th>LotFrontage</th>\n",
       "      <th>LotArea</th>\n",
       "      <th>Street</th>\n",
       "      <th>Alley</th>\n",
       "      <th>LotShape</th>\n",
       "      <th>LandContour</th>\n",
       "      <th>Utilities</th>\n",
       "      <th>LotConfig</th>\n",
       "      <th>...</th>\n",
       "      <th>PoolQC</th>\n",
       "      <th>Fence</th>\n",
       "      <th>MiscFeature</th>\n",
       "      <th>MiscVal</th>\n",
       "      <th>MoSold</th>\n",
       "      <th>YrSold</th>\n",
       "      <th>SaleType</th>\n",
       "      <th>SaleCondition</th>\n",
       "      <th>SalePrice</th>\n",
       "      <th>MSSubClass_1story</th>\n",
       "    </tr>\n",
       "  </thead>\n",
       "  <tbody>\n",
       "    <tr>\n",
       "      <th>0</th>\n",
       "      <td>1</td>\n",
       "      <td>RL</td>\n",
       "      <td>65.0</td>\n",
       "      <td>8450</td>\n",
       "      <td>Pave</td>\n",
       "      <td>NaN</td>\n",
       "      <td>Reg</td>\n",
       "      <td>Lvl</td>\n",
       "      <td>AllPub</td>\n",
       "      <td>Inside</td>\n",
       "      <td>...</td>\n",
       "      <td>NaN</td>\n",
       "      <td>NaN</td>\n",
       "      <td>NaN</td>\n",
       "      <td>0</td>\n",
       "      <td>2</td>\n",
       "      <td>2008</td>\n",
       "      <td>WD</td>\n",
       "      <td>Normal</td>\n",
       "      <td>208500</td>\n",
       "      <td>0</td>\n",
       "    </tr>\n",
       "    <tr>\n",
       "      <th>1</th>\n",
       "      <td>2</td>\n",
       "      <td>RL</td>\n",
       "      <td>80.0</td>\n",
       "      <td>9600</td>\n",
       "      <td>Pave</td>\n",
       "      <td>NaN</td>\n",
       "      <td>Reg</td>\n",
       "      <td>Lvl</td>\n",
       "      <td>AllPub</td>\n",
       "      <td>FR2</td>\n",
       "      <td>...</td>\n",
       "      <td>NaN</td>\n",
       "      <td>NaN</td>\n",
       "      <td>NaN</td>\n",
       "      <td>0</td>\n",
       "      <td>5</td>\n",
       "      <td>2007</td>\n",
       "      <td>WD</td>\n",
       "      <td>Normal</td>\n",
       "      <td>181500</td>\n",
       "      <td>1</td>\n",
       "    </tr>\n",
       "    <tr>\n",
       "      <th>2</th>\n",
       "      <td>3</td>\n",
       "      <td>RL</td>\n",
       "      <td>68.0</td>\n",
       "      <td>11250</td>\n",
       "      <td>Pave</td>\n",
       "      <td>NaN</td>\n",
       "      <td>IR1</td>\n",
       "      <td>Lvl</td>\n",
       "      <td>AllPub</td>\n",
       "      <td>Inside</td>\n",
       "      <td>...</td>\n",
       "      <td>NaN</td>\n",
       "      <td>NaN</td>\n",
       "      <td>NaN</td>\n",
       "      <td>0</td>\n",
       "      <td>9</td>\n",
       "      <td>2008</td>\n",
       "      <td>WD</td>\n",
       "      <td>Normal</td>\n",
       "      <td>223500</td>\n",
       "      <td>0</td>\n",
       "    </tr>\n",
       "    <tr>\n",
       "      <th>3</th>\n",
       "      <td>4</td>\n",
       "      <td>RL</td>\n",
       "      <td>60.0</td>\n",
       "      <td>9550</td>\n",
       "      <td>Pave</td>\n",
       "      <td>NaN</td>\n",
       "      <td>IR1</td>\n",
       "      <td>Lvl</td>\n",
       "      <td>AllPub</td>\n",
       "      <td>Corner</td>\n",
       "      <td>...</td>\n",
       "      <td>NaN</td>\n",
       "      <td>NaN</td>\n",
       "      <td>NaN</td>\n",
       "      <td>0</td>\n",
       "      <td>2</td>\n",
       "      <td>2006</td>\n",
       "      <td>WD</td>\n",
       "      <td>Abnorml</td>\n",
       "      <td>140000</td>\n",
       "      <td>0</td>\n",
       "    </tr>\n",
       "    <tr>\n",
       "      <th>4</th>\n",
       "      <td>5</td>\n",
       "      <td>RL</td>\n",
       "      <td>84.0</td>\n",
       "      <td>14260</td>\n",
       "      <td>Pave</td>\n",
       "      <td>NaN</td>\n",
       "      <td>IR1</td>\n",
       "      <td>Lvl</td>\n",
       "      <td>AllPub</td>\n",
       "      <td>FR2</td>\n",
       "      <td>...</td>\n",
       "      <td>NaN</td>\n",
       "      <td>NaN</td>\n",
       "      <td>NaN</td>\n",
       "      <td>0</td>\n",
       "      <td>12</td>\n",
       "      <td>2008</td>\n",
       "      <td>WD</td>\n",
       "      <td>Normal</td>\n",
       "      <td>250000</td>\n",
       "      <td>0</td>\n",
       "    </tr>\n",
       "  </tbody>\n",
       "</table>\n",
       "<p>5 rows × 81 columns</p>\n",
       "</div>"
      ],
      "text/plain": [
       "   Id MSZoning  LotFrontage  LotArea Street Alley LotShape LandContour  \\\n",
       "0   1       RL         65.0     8450   Pave   NaN      Reg         Lvl   \n",
       "1   2       RL         80.0     9600   Pave   NaN      Reg         Lvl   \n",
       "2   3       RL         68.0    11250   Pave   NaN      IR1         Lvl   \n",
       "3   4       RL         60.0     9550   Pave   NaN      IR1         Lvl   \n",
       "4   5       RL         84.0    14260   Pave   NaN      IR1         Lvl   \n",
       "\n",
       "  Utilities LotConfig  ... PoolQC Fence MiscFeature MiscVal MoSold YrSold  \\\n",
       "0    AllPub    Inside  ...    NaN   NaN         NaN       0      2   2008   \n",
       "1    AllPub       FR2  ...    NaN   NaN         NaN       0      5   2007   \n",
       "2    AllPub    Inside  ...    NaN   NaN         NaN       0      9   2008   \n",
       "3    AllPub    Corner  ...    NaN   NaN         NaN       0      2   2006   \n",
       "4    AllPub       FR2  ...    NaN   NaN         NaN       0     12   2008   \n",
       "\n",
       "   SaleType  SaleCondition  SalePrice  MSSubClass_1story  \n",
       "0        WD         Normal     208500                  0  \n",
       "1        WD         Normal     181500                  1  \n",
       "2        WD         Normal     223500                  0  \n",
       "3        WD        Abnorml     140000                  0  \n",
       "4        WD         Normal     250000                  0  \n",
       "\n",
       "[5 rows x 81 columns]"
      ]
     },
     "execution_count": 19,
     "metadata": {},
     "output_type": "execute_result"
    }
   ],
   "source": [
    "df_train.drop('MSSubClass', axis=1, inplace=True)\n",
    "df_test.drop('MSSubClass', axis=1, inplace=True)\n",
    "\n",
    "df_train.head()"
   ]
  },
  {
   "cell_type": "markdown",
   "metadata": {},
   "source": [
    "## 3.2 MSZoning"
   ]
  },
  {
   "cell_type": "markdown",
   "metadata": {},
   "source": [
    "**Feature Description:**  \n",
    "MSZoning: Identifies the general zoning classification of the sale.\n",
    "\t\t\n",
    "       A\tAgriculture\n",
    "       C\tCommercial\n",
    "       FV\tFloating Village Residential\n",
    "       I\tIndustrial\n",
    "       RH\tResidential High Density\n",
    "       RL\tResidential Low Density\n",
    "       RP\tResidential Low Density Park \n",
    "       RM\tResidential Medium Density"
   ]
  },
  {
   "cell_type": "code",
   "execution_count": 20,
   "metadata": {},
   "outputs": [
    {
     "data": {
      "text/plain": [
       "RL         1151\n",
       "RM          218\n",
       "FV           65\n",
       "RH           16\n",
       "C (all)      10\n",
       "Name: MSZoning, dtype: int64"
      ]
     },
     "execution_count": 20,
     "metadata": {},
     "output_type": "execute_result"
    }
   ],
   "source": [
    "df_train.MSZoning.value_counts()"
   ]
  },
  {
   "cell_type": "code",
   "execution_count": 21,
   "metadata": {},
   "outputs": [
    {
     "data": {
      "text/plain": [
       "RL         1114\n",
       "RM          242\n",
       "FV           74\n",
       "C (all)      15\n",
       "RH           10\n",
       "Name: MSZoning, dtype: int64"
      ]
     },
     "execution_count": 21,
     "metadata": {},
     "output_type": "execute_result"
    }
   ],
   "source": [
    "df_test.MSZoning.value_counts()"
   ]
  },
  {
   "cell_type": "code",
   "execution_count": 22,
   "metadata": {},
   "outputs": [],
   "source": [
    "### Create dummies to handle categorical feature"
   ]
  },
  {
   "cell_type": "code",
   "execution_count": 23,
   "metadata": {},
   "outputs": [],
   "source": [
    "df_train = pd.concat([df_train.drop('MSZoning', axis=1), pd.get_dummies(df_train['MSZoning'], prefix='MSZoning')], axis=1)\n",
    "df_test = pd.concat([df_test.drop('MSZoning', axis=1), pd.get_dummies(df_test['MSZoning'], prefix='MSZoning')], axis=1)\n"
   ]
  },
  {
   "cell_type": "code",
   "execution_count": 24,
   "metadata": {},
   "outputs": [
    {
     "data": {
      "text/html": [
       "<div>\n",
       "<style scoped>\n",
       "    .dataframe tbody tr th:only-of-type {\n",
       "        vertical-align: middle;\n",
       "    }\n",
       "\n",
       "    .dataframe tbody tr th {\n",
       "        vertical-align: top;\n",
       "    }\n",
       "\n",
       "    .dataframe thead th {\n",
       "        text-align: right;\n",
       "    }\n",
       "</style>\n",
       "<table border=\"1\" class=\"dataframe\">\n",
       "  <thead>\n",
       "    <tr style=\"text-align: right;\">\n",
       "      <th></th>\n",
       "      <th>Id</th>\n",
       "      <th>LotFrontage</th>\n",
       "      <th>LotArea</th>\n",
       "      <th>Street</th>\n",
       "      <th>Alley</th>\n",
       "      <th>LotShape</th>\n",
       "      <th>LandContour</th>\n",
       "      <th>Utilities</th>\n",
       "      <th>LotConfig</th>\n",
       "      <th>LandSlope</th>\n",
       "      <th>...</th>\n",
       "      <th>YrSold</th>\n",
       "      <th>SaleType</th>\n",
       "      <th>SaleCondition</th>\n",
       "      <th>SalePrice</th>\n",
       "      <th>MSSubClass_1story</th>\n",
       "      <th>MSZoning_C (all)</th>\n",
       "      <th>MSZoning_FV</th>\n",
       "      <th>MSZoning_RH</th>\n",
       "      <th>MSZoning_RL</th>\n",
       "      <th>MSZoning_RM</th>\n",
       "    </tr>\n",
       "  </thead>\n",
       "  <tbody>\n",
       "    <tr>\n",
       "      <th>0</th>\n",
       "      <td>1</td>\n",
       "      <td>65.0</td>\n",
       "      <td>8450</td>\n",
       "      <td>Pave</td>\n",
       "      <td>NaN</td>\n",
       "      <td>Reg</td>\n",
       "      <td>Lvl</td>\n",
       "      <td>AllPub</td>\n",
       "      <td>Inside</td>\n",
       "      <td>Gtl</td>\n",
       "      <td>...</td>\n",
       "      <td>2008</td>\n",
       "      <td>WD</td>\n",
       "      <td>Normal</td>\n",
       "      <td>208500</td>\n",
       "      <td>0</td>\n",
       "      <td>0</td>\n",
       "      <td>0</td>\n",
       "      <td>0</td>\n",
       "      <td>1</td>\n",
       "      <td>0</td>\n",
       "    </tr>\n",
       "    <tr>\n",
       "      <th>1</th>\n",
       "      <td>2</td>\n",
       "      <td>80.0</td>\n",
       "      <td>9600</td>\n",
       "      <td>Pave</td>\n",
       "      <td>NaN</td>\n",
       "      <td>Reg</td>\n",
       "      <td>Lvl</td>\n",
       "      <td>AllPub</td>\n",
       "      <td>FR2</td>\n",
       "      <td>Gtl</td>\n",
       "      <td>...</td>\n",
       "      <td>2007</td>\n",
       "      <td>WD</td>\n",
       "      <td>Normal</td>\n",
       "      <td>181500</td>\n",
       "      <td>1</td>\n",
       "      <td>0</td>\n",
       "      <td>0</td>\n",
       "      <td>0</td>\n",
       "      <td>1</td>\n",
       "      <td>0</td>\n",
       "    </tr>\n",
       "    <tr>\n",
       "      <th>2</th>\n",
       "      <td>3</td>\n",
       "      <td>68.0</td>\n",
       "      <td>11250</td>\n",
       "      <td>Pave</td>\n",
       "      <td>NaN</td>\n",
       "      <td>IR1</td>\n",
       "      <td>Lvl</td>\n",
       "      <td>AllPub</td>\n",
       "      <td>Inside</td>\n",
       "      <td>Gtl</td>\n",
       "      <td>...</td>\n",
       "      <td>2008</td>\n",
       "      <td>WD</td>\n",
       "      <td>Normal</td>\n",
       "      <td>223500</td>\n",
       "      <td>0</td>\n",
       "      <td>0</td>\n",
       "      <td>0</td>\n",
       "      <td>0</td>\n",
       "      <td>1</td>\n",
       "      <td>0</td>\n",
       "    </tr>\n",
       "    <tr>\n",
       "      <th>3</th>\n",
       "      <td>4</td>\n",
       "      <td>60.0</td>\n",
       "      <td>9550</td>\n",
       "      <td>Pave</td>\n",
       "      <td>NaN</td>\n",
       "      <td>IR1</td>\n",
       "      <td>Lvl</td>\n",
       "      <td>AllPub</td>\n",
       "      <td>Corner</td>\n",
       "      <td>Gtl</td>\n",
       "      <td>...</td>\n",
       "      <td>2006</td>\n",
       "      <td>WD</td>\n",
       "      <td>Abnorml</td>\n",
       "      <td>140000</td>\n",
       "      <td>0</td>\n",
       "      <td>0</td>\n",
       "      <td>0</td>\n",
       "      <td>0</td>\n",
       "      <td>1</td>\n",
       "      <td>0</td>\n",
       "    </tr>\n",
       "    <tr>\n",
       "      <th>4</th>\n",
       "      <td>5</td>\n",
       "      <td>84.0</td>\n",
       "      <td>14260</td>\n",
       "      <td>Pave</td>\n",
       "      <td>NaN</td>\n",
       "      <td>IR1</td>\n",
       "      <td>Lvl</td>\n",
       "      <td>AllPub</td>\n",
       "      <td>FR2</td>\n",
       "      <td>Gtl</td>\n",
       "      <td>...</td>\n",
       "      <td>2008</td>\n",
       "      <td>WD</td>\n",
       "      <td>Normal</td>\n",
       "      <td>250000</td>\n",
       "      <td>0</td>\n",
       "      <td>0</td>\n",
       "      <td>0</td>\n",
       "      <td>0</td>\n",
       "      <td>1</td>\n",
       "      <td>0</td>\n",
       "    </tr>\n",
       "  </tbody>\n",
       "</table>\n",
       "<p>5 rows × 85 columns</p>\n",
       "</div>"
      ],
      "text/plain": [
       "   Id  LotFrontage  LotArea Street Alley LotShape LandContour Utilities  \\\n",
       "0   1         65.0     8450   Pave   NaN      Reg         Lvl    AllPub   \n",
       "1   2         80.0     9600   Pave   NaN      Reg         Lvl    AllPub   \n",
       "2   3         68.0    11250   Pave   NaN      IR1         Lvl    AllPub   \n",
       "3   4         60.0     9550   Pave   NaN      IR1         Lvl    AllPub   \n",
       "4   5         84.0    14260   Pave   NaN      IR1         Lvl    AllPub   \n",
       "\n",
       "  LotConfig LandSlope  ... YrSold SaleType SaleCondition SalePrice  \\\n",
       "0    Inside       Gtl  ...   2008       WD        Normal    208500   \n",
       "1       FR2       Gtl  ...   2007       WD        Normal    181500   \n",
       "2    Inside       Gtl  ...   2008       WD        Normal    223500   \n",
       "3    Corner       Gtl  ...   2006       WD       Abnorml    140000   \n",
       "4       FR2       Gtl  ...   2008       WD        Normal    250000   \n",
       "\n",
       "  MSSubClass_1story  MSZoning_C (all)  MSZoning_FV  MSZoning_RH  MSZoning_RL  \\\n",
       "0                 0                 0            0            0            1   \n",
       "1                 1                 0            0            0            1   \n",
       "2                 0                 0            0            0            1   \n",
       "3                 0                 0            0            0            1   \n",
       "4                 0                 0            0            0            1   \n",
       "\n",
       "  MSZoning_RM  \n",
       "0           0  \n",
       "1           0  \n",
       "2           0  \n",
       "3           0  \n",
       "4           0  \n",
       "\n",
       "[5 rows x 85 columns]"
      ]
     },
     "execution_count": 24,
     "metadata": {},
     "output_type": "execute_result"
    }
   ],
   "source": [
    "df_train.head()"
   ]
  },
  {
   "cell_type": "markdown",
   "metadata": {},
   "source": [
    "## 3.3 LotFrontage"
   ]
  },
  {
   "cell_type": "code",
   "execution_count": 25,
   "metadata": {},
   "outputs": [
    {
     "data": {
      "text/plain": [
       "count    1201.000000\n",
       "mean       70.049958\n",
       "std        24.284752\n",
       "min        21.000000\n",
       "25%        59.000000\n",
       "50%        69.000000\n",
       "75%        80.000000\n",
       "max       313.000000\n",
       "Name: LotFrontage, dtype: float64"
      ]
     },
     "execution_count": 25,
     "metadata": {},
     "output_type": "execute_result"
    }
   ],
   "source": [
    "df_train.LotFrontage.describe()"
   ]
  },
  {
   "cell_type": "code",
   "execution_count": 26,
   "metadata": {},
   "outputs": [
    {
     "data": {
      "text/plain": [
       "259"
      ]
     },
     "execution_count": 26,
     "metadata": {},
     "output_type": "execute_result"
    }
   ],
   "source": [
    "df_train.LotFrontage.isna().sum()"
   ]
  },
  {
   "cell_type": "code",
   "execution_count": 27,
   "metadata": {},
   "outputs": [
    {
     "data": {
      "text/plain": [
       "227"
      ]
     },
     "execution_count": 27,
     "metadata": {},
     "output_type": "execute_result"
    }
   ],
   "source": [
    "df_test.LotFrontage.isna().sum()"
   ]
  },
  {
   "cell_type": "markdown",
   "metadata": {},
   "source": [
    "### Drop LotFrontage\n",
    "Drop this feature as there are 259 NaNs which is close to 20% of the samples."
   ]
  },
  {
   "cell_type": "markdown",
   "metadata": {},
   "source": [
    "An alternative would be to estimate the LotFrontage based on the LotArea."
   ]
  },
  {
   "cell_type": "code",
   "execution_count": 28,
   "metadata": {},
   "outputs": [
    {
     "data": {
      "text/plain": [
       "<matplotlib.axes._subplots.AxesSubplot at 0x1a1ee2a8d0>"
      ]
     },
     "execution_count": 28,
     "metadata": {},
     "output_type": "execute_result"
    },
    {
     "data": {
      "image/png": "[encoded data removed]",
      "text/plain": [
       "<Figure size 432x288 with 1 Axes>"
      ]
     },
     "metadata": {
      "needs_background": "light"
     },
     "output_type": "display_data"
    }
   ],
   "source": [
    "sns.scatterplot(x='LotFrontage', y='LotArea', data=df_train)"
   ]
  },
  {
   "cell_type": "code",
   "execution_count": 29,
   "metadata": {},
   "outputs": [],
   "source": [
    "df_train.drop('LotFrontage', axis=1, inplace=True)\n",
    "df_test.drop('LotFrontage', axis=1, inplace=True)"
   ]
  },
  {
   "cell_type": "markdown",
   "metadata": {},
   "source": [
    "## 3.4 Lot Area"
   ]
  },
  {
   "cell_type": "code",
   "execution_count": 30,
   "metadata": {},
   "outputs": [
    {
     "data": {
      "text/plain": [
       "count      1460.000000\n",
       "mean      10516.828082\n",
       "std        9981.264932\n",
       "min        1300.000000\n",
       "25%        7553.500000\n",
       "50%        9478.500000\n",
       "75%       11601.500000\n",
       "max      215245.000000\n",
       "Name: LotArea, dtype: float64"
      ]
     },
     "execution_count": 30,
     "metadata": {},
     "output_type": "execute_result"
    }
   ],
   "source": [
    "df_train.LotArea.describe()"
   ]
  },
  {
   "cell_type": "markdown",
   "metadata": {},
   "source": [
    "**Remove outliers**"
   ]
  },
  {
   "cell_type": "code",
   "execution_count": 31,
   "metadata": {},
   "outputs": [],
   "source": [
    "df_train = df_train[df_train['LotArea'] < 150000]\n",
    "df_test = df_test[df_test['LotArea'] < 150000]"
   ]
  },
  {
   "cell_type": "code",
   "execution_count": 32,
   "metadata": {},
   "outputs": [
    {
     "data": {
      "text/plain": [
       "count      1457.000000\n",
       "mean      10168.609472\n",
       "std        6281.850623\n",
       "min        1300.000000\n",
       "25%        7540.000000\n",
       "50%        9473.000000\n",
       "75%       11600.000000\n",
       "max      115149.000000\n",
       "Name: LotArea, dtype: float64"
      ]
     },
     "execution_count": 32,
     "metadata": {},
     "output_type": "execute_result"
    }
   ],
   "source": [
    "df_train.LotArea.describe()"
   ]
  },
  {
   "cell_type": "markdown",
   "metadata": {},
   "source": [
    "## 3.5 Street\n",
    "Drop this feature as 99.7% has the same value."
   ]
  },
  {
   "cell_type": "code",
   "execution_count": 33,
   "metadata": {},
   "outputs": [
    {
     "data": {
      "text/plain": [
       "Pave    1452\n",
       "Grvl       5\n",
       "Name: Street, dtype: int64"
      ]
     },
     "execution_count": 33,
     "metadata": {},
     "output_type": "execute_result"
    }
   ],
   "source": [
    "df_train.Street.value_counts()"
   ]
  },
  {
   "cell_type": "code",
   "execution_count": 34,
   "metadata": {},
   "outputs": [],
   "source": [
    "df_train.drop('Street', axis=1, inplace=True)\n",
    "df_test.drop('Street', axis=1, inplace=True)"
   ]
  },
  {
   "cell_type": "markdown",
   "metadata": {},
   "source": [
    "## 3.6 Alley"
   ]
  },
  {
   "cell_type": "code",
   "execution_count": 35,
   "metadata": {},
   "outputs": [
    {
     "data": {
      "text/plain": [
       "Grvl    50\n",
       "Pave    41\n",
       "Name: Alley, dtype: int64"
      ]
     },
     "execution_count": 35,
     "metadata": {},
     "output_type": "execute_result"
    }
   ],
   "source": [
    "df_train.Alley.value_counts()"
   ]
  },
  {
   "cell_type": "code",
   "execution_count": 36,
   "metadata": {},
   "outputs": [
    {
     "data": {
      "text/plain": [
       "1366"
      ]
     },
     "execution_count": 36,
     "metadata": {},
     "output_type": "execute_result"
    }
   ],
   "source": [
    "df_train.Alley.isna().sum()"
   ]
  },
  {
   "cell_type": "markdown",
   "metadata": {},
   "source": [
    "**Drop Alley feature as 1366 of 1452 are NaNs**"
   ]
  },
  {
   "cell_type": "code",
   "execution_count": 37,
   "metadata": {},
   "outputs": [],
   "source": [
    "df_train.drop('Alley', axis=1, inplace=True)\n",
    "df_test.drop('Alley', axis=1, inplace=True)"
   ]
  },
  {
   "cell_type": "markdown",
   "metadata": {},
   "source": [
    "## 3.7 LotShape"
   ]
  },
  {
   "cell_type": "markdown",
   "metadata": {},
   "source": [
    "**Feature Description**  \n",
    "LotShape: General shape of property\n",
    "\n",
    "       Reg\tRegular\t\n",
    "       IR1\tSlightly irregular\n",
    "       IR2\tModerately Irregular\n",
    "       IR3\tIrregular"
   ]
  },
  {
   "cell_type": "code",
   "execution_count": 38,
   "metadata": {},
   "outputs": [
    {
     "data": {
      "text/plain": [
       "Reg    925\n",
       "IR1    483\n",
       "IR2     40\n",
       "IR3      9\n",
       "Name: LotShape, dtype: int64"
      ]
     },
     "execution_count": 38,
     "metadata": {},
     "output_type": "execute_result"
    }
   ],
   "source": [
    "df_train.LotShape.value_counts()"
   ]
  },
  {
   "cell_type": "code",
   "execution_count": 39,
   "metadata": {},
   "outputs": [
    {
     "data": {
      "text/plain": [
       "0"
      ]
     },
     "execution_count": 39,
     "metadata": {},
     "output_type": "execute_result"
    }
   ],
   "source": [
    "df_train.LotShape.isna().sum()"
   ]
  },
  {
   "cell_type": "markdown",
   "metadata": {},
   "source": [
    "**Replace LotShape with binary feature LotShape_regular**"
   ]
  },
  {
   "cell_type": "code",
   "execution_count": 40,
   "metadata": {},
   "outputs": [],
   "source": [
    "df_train['LotShape_regular'] = df_train.apply(lambda x: 1 if x.LotShape == \"Reg\" else 0, axis=1)\n",
    "df_test['LotShape_regular'] = df_test.apply(lambda x: 1 if x.LotShape == \"Reg\" else 0, axis=1)"
   ]
  },
  {
   "cell_type": "code",
   "execution_count": 41,
   "metadata": {},
   "outputs": [
    {
     "data": {
      "text/plain": [
       "1    925\n",
       "0    532\n",
       "Name: LotShape_regular, dtype: int64"
      ]
     },
     "execution_count": 41,
     "metadata": {},
     "output_type": "execute_result"
    }
   ],
   "source": [
    "df_train.LotShape_regular.value_counts()"
   ]
  },
  {
   "cell_type": "code",
   "execution_count": 42,
   "metadata": {},
   "outputs": [],
   "source": [
    "df_train.drop('LotShape', axis=1, inplace=True)\n",
    "df_test.drop('LotShape', axis=1, inplace=True)"
   ]
  },
  {
   "cell_type": "markdown",
   "metadata": {},
   "source": [
    "## 3.8 Land Contour\n",
    "**Feature Description**  \n",
    "LandContour: Flatness of the property\n",
    "\n",
    "       Lvl\tNear Flat/Level\t\n",
    "       Bnk\tBanked - Quick and significant rise from street grade to building\n",
    "       HLS\tHillside - Significant slope from side to side\n",
    "       Low\tDepression"
   ]
  },
  {
   "cell_type": "code",
   "execution_count": 43,
   "metadata": {},
   "outputs": [
    {
     "data": {
      "text/plain": [
       "Lvl    1311\n",
       "Bnk      63\n",
       "HLS      49\n",
       "Low      34\n",
       "Name: LandContour, dtype: int64"
      ]
     },
     "execution_count": 43,
     "metadata": {},
     "output_type": "execute_result"
    }
   ],
   "source": [
    "df_train.LandContour.value_counts()"
   ]
  },
  {
   "cell_type": "code",
   "execution_count": 44,
   "metadata": {},
   "outputs": [
    {
     "data": {
      "text/plain": [
       "0"
      ]
     },
     "execution_count": 44,
     "metadata": {},
     "output_type": "execute_result"
    }
   ],
   "source": [
    "df_train.LandContour.isna().sum()"
   ]
  },
  {
   "cell_type": "code",
   "execution_count": 45,
   "metadata": {},
   "outputs": [],
   "source": [
    "df_train['LandContour_level'] = df_train.apply(lambda x: 1 if \"Lvl\" in x.LandContour else 0, axis=1)\n",
    "df_test['LandContour_level'] = df_test.apply(lambda x: 1 if \"Lvl\" in x.LandContour else 0, axis=1)\n"
   ]
  },
  {
   "cell_type": "code",
   "execution_count": 46,
   "metadata": {},
   "outputs": [
    {
     "data": {
      "text/plain": [
       "1    1311\n",
       "0     146\n",
       "Name: LandContour_level, dtype: int64"
      ]
     },
     "execution_count": 46,
     "metadata": {},
     "output_type": "execute_result"
    }
   ],
   "source": [
    "df_train.LandContour_level.value_counts()"
   ]
  },
  {
   "cell_type": "code",
   "execution_count": 47,
   "metadata": {},
   "outputs": [],
   "source": [
    "df_train.drop('LandContour', axis=1, inplace=True)\n",
    "df_test.drop('LandContour', axis=1, inplace=True)"
   ]
  },
  {
   "cell_type": "markdown",
   "metadata": {},
   "source": [
    "## 3.9 Utilities\n",
    "Utilities: Type of utilities available\n",
    "\t\t\n",
    "       AllPub\tAll public Utilities (E,G,W,& S)\t\n",
    "       NoSewr\tElectricity, Gas, and Water (Septic Tank)\n",
    "       NoSeWa\tElectricity and Gas Only\n",
    "       ELO\tElectricity only"
   ]
  },
  {
   "cell_type": "code",
   "execution_count": 48,
   "metadata": {},
   "outputs": [
    {
     "data": {
      "text/plain": [
       "AllPub    1456\n",
       "NoSeWa       1\n",
       "Name: Utilities, dtype: int64"
      ]
     },
     "execution_count": 48,
     "metadata": {},
     "output_type": "execute_result"
    }
   ],
   "source": [
    "df_train.Utilities.value_counts()"
   ]
  },
  {
   "cell_type": "markdown",
   "metadata": {},
   "source": [
    "**Drop this feature as all but one sample are the same**"
   ]
  },
  {
   "cell_type": "code",
   "execution_count": 49,
   "metadata": {},
   "outputs": [],
   "source": [
    "df_train.drop('Utilities', axis=1, inplace=True)\n",
    "df_test.drop('Utilities', axis=1, inplace=True)"
   ]
  },
  {
   "cell_type": "markdown",
   "metadata": {},
   "source": [
    "## 3.10 LotConfig\n",
    "LotConfig: Lot configuration\n",
    "\n",
    "       Inside\tInside lot\n",
    "       Corner\tCorner lot\n",
    "       CulDSac\tCul-de-sac\n",
    "       FR2\tFrontage on 2 sides of property\n",
    "       FR3\tFrontage on 3 sides of property"
   ]
  },
  {
   "cell_type": "code",
   "execution_count": 50,
   "metadata": {},
   "outputs": [
    {
     "data": {
      "text/plain": [
       "Inside     1051\n",
       "Corner      262\n",
       "CulDSac      93\n",
       "FR2          47\n",
       "FR3           4\n",
       "Name: LotConfig, dtype: int64"
      ]
     },
     "execution_count": 50,
     "metadata": {},
     "output_type": "execute_result"
    }
   ],
   "source": [
    "df_train.LotConfig.value_counts()"
   ]
  },
  {
   "cell_type": "code",
   "execution_count": 51,
   "metadata": {},
   "outputs": [
    {
     "data": {
      "text/plain": [
       "0"
      ]
     },
     "execution_count": 51,
     "metadata": {},
     "output_type": "execute_result"
    }
   ],
   "source": [
    "df_train.LotConfig.isna().sum()"
   ]
  },
  {
   "cell_type": "code",
   "execution_count": 52,
   "metadata": {},
   "outputs": [],
   "source": [
    "df_train['LotConfig'] = df_train.apply(lambda x: x.LotConfig[:2] if \"FR\" in x.LotConfig else x.LotConfig, axis=1)\n",
    "df_test['LotConfig'] = df_test.apply(lambda x: x.LotConfig[:2] if \"FR\" in x.LotConfig else x.LotConfig, axis=1)"
   ]
  },
  {
   "cell_type": "code",
   "execution_count": 53,
   "metadata": {},
   "outputs": [
    {
     "data": {
      "text/plain": [
       "Inside     1051\n",
       "Corner      262\n",
       "CulDSac      93\n",
       "FR           51\n",
       "Name: LotConfig, dtype: int64"
      ]
     },
     "execution_count": 53,
     "metadata": {},
     "output_type": "execute_result"
    }
   ],
   "source": [
    "df_train.LotConfig.value_counts()"
   ]
  },
  {
   "cell_type": "code",
   "execution_count": 54,
   "metadata": {},
   "outputs": [],
   "source": [
    "df_train = pd.concat([df_train.drop('LotConfig', axis=1), pd.get_dummies(df_train['LotConfig'], prefix='LotConfig')], axis=1)\n",
    "df_test = pd.concat([df_test.drop('LotConfig', axis=1), pd.get_dummies(df_test['LotConfig'], prefix='LotConfig')], axis=1)"
   ]
  },
  {
   "cell_type": "markdown",
   "metadata": {},
   "source": [
    "## 3.11 LandSlope\n",
    "LandSlope: Slope of property\n",
    "\t\t\n",
    "       Gtl\tGentle slope\n",
    "       Mod\tModerate Slope\t\n",
    "       Sev\tSevere Slope"
   ]
  },
  {
   "cell_type": "code",
   "execution_count": 55,
   "metadata": {},
   "outputs": [
    {
     "data": {
      "text/plain": [
       "Gtl    1382\n",
       "Mod      65\n",
       "Sev      10\n",
       "Name: LandSlope, dtype: int64"
      ]
     },
     "execution_count": 55,
     "metadata": {},
     "output_type": "execute_result"
    }
   ],
   "source": [
    "df_train.LandSlope.value_counts()"
   ]
  },
  {
   "cell_type": "code",
   "execution_count": 56,
   "metadata": {},
   "outputs": [
    {
     "data": {
      "text/plain": [
       "0"
      ]
     },
     "execution_count": 56,
     "metadata": {},
     "output_type": "execute_result"
    }
   ],
   "source": [
    "df_train.LandSlope.isna().sum()"
   ]
  },
  {
   "cell_type": "code",
   "execution_count": 57,
   "metadata": {},
   "outputs": [],
   "source": [
    "df_train = pd.concat([df_train.drop('LandSlope', axis=1), pd.get_dummies(df_train['LandSlope'], prefix='LandSlope')], axis=1)\n",
    "df_test = pd.concat([df_test.drop('LandSlope', axis=1), pd.get_dummies(df_test['LandSlope'], prefix='LandSlope')], axis=1)\n"
   ]
  },
  {
   "cell_type": "markdown",
   "metadata": {},
   "source": [
    "## 3.12 Neighborhood\n",
    "Neighborhood: Physical locations within Ames city limits\n",
    "\n",
    "       Blmngtn\tBloomington Heights\n",
    "       Blueste\tBluestem\n",
    "       BrDale\tBriardale\n",
    "       BrkSide\tBrookside\n",
    "       ClearCr\tClear Creek\n",
    "       CollgCr\tCollege Creek\n",
    "       Crawfor\tCrawford\n",
    "       Edwards\tEdwards\n",
    "       Gilbert\tGilbert\n",
    "       IDOTRR\tIowa DOT and Rail Road\n",
    "       MeadowV\tMeadow Village\n",
    "       Mitchel\tMitchell\n",
    "       Names\tNorth Ames\n",
    "       NoRidge\tNorthridge\n",
    "       NPkVill\tNorthpark Villa\n",
    "       NridgHt\tNorthridge Heights\n",
    "       NWAmes\tNorthwest Ames\n",
    "       OldTown\tOld Town\n",
    "       SWISU\tSouth & West of Iowa State University\n",
    "       Sawyer\tSawyer\n",
    "       SawyerW\tSawyer West\n",
    "       Somerst\tSomerset\n",
    "       StoneBr\tStone Brook\n",
    "       Timber\tTimberland\n",
    "       Veenker\tVeenker"
   ]
  },
  {
   "cell_type": "code",
   "execution_count": 58,
   "metadata": {},
   "outputs": [
    {
     "data": {
      "text/plain": [
       "NAmes      225\n",
       "CollgCr    150\n",
       "OldTown    113\n",
       "Edwards    100\n",
       "Somerst     86\n",
       "Gilbert     79\n",
       "NridgHt     77\n",
       "Sawyer      74\n",
       "NWAmes      73\n",
       "SawyerW     59\n",
       "BrkSide     58\n",
       "Crawfor     51\n",
       "Mitchel     49\n",
       "NoRidge     41\n",
       "IDOTRR      37\n",
       "Timber      36\n",
       "ClearCr     27\n",
       "SWISU       25\n",
       "StoneBr     25\n",
       "Blmngtn     17\n",
       "MeadowV     17\n",
       "BrDale      16\n",
       "Veenker     11\n",
       "NPkVill      9\n",
       "Blueste      2\n",
       "Name: Neighborhood, dtype: int64"
      ]
     },
     "execution_count": 58,
     "metadata": {},
     "output_type": "execute_result"
    }
   ],
   "source": [
    "df_train.Neighborhood.value_counts()"
   ]
  },
  {
   "cell_type": "code",
   "execution_count": 59,
   "metadata": {},
   "outputs": [],
   "source": [
    "df_train = pd.concat([df_train.drop('Neighborhood', axis=1), pd.get_dummies(df_train['Neighborhood'], prefix='Neighborhood')], axis=1)\n",
    "df_test = pd.concat([df_test.drop('Neighborhood', axis=1), pd.get_dummies(df_test['Neighborhood'], prefix='Neighborhood')], axis=1)"
   ]
  },
  {
   "cell_type": "markdown",
   "metadata": {},
   "source": [
    "## 3.13 MasVnrArea\n",
    "MasVnrArea: Masonry veneer area in square feet"
   ]
  },
  {
   "cell_type": "code",
   "execution_count": 60,
   "metadata": {},
   "outputs": [
    {
     "data": {
      "text/plain": [
       "8"
      ]
     },
     "execution_count": 60,
     "metadata": {},
     "output_type": "execute_result"
    }
   ],
   "source": [
    "df_train.MasVnrArea.isna().sum()"
   ]
  },
  {
   "cell_type": "markdown",
   "metadata": {},
   "source": [
    "**Set all NaN values to mean**"
   ]
  },
  {
   "cell_type": "code",
   "execution_count": 61,
   "metadata": {},
   "outputs": [
    {
     "data": {
      "text/plain": [
       "103.57418909592823"
      ]
     },
     "execution_count": 61,
     "metadata": {},
     "output_type": "execute_result"
    }
   ],
   "source": [
    "MasVnrArea_mean = df_train.MasVnrArea.mean()\n",
    "MasVnrArea_mean"
   ]
  },
  {
   "cell_type": "code",
   "execution_count": 62,
   "metadata": {},
   "outputs": [],
   "source": [
    "df_train['MasVnrArea'].fillna(MasVnrArea_mean, inplace=True)\n",
    "df_test['MasVnrArea'].fillna(MasVnrArea_mean, inplace=True)"
   ]
  },
  {
   "cell_type": "code",
   "execution_count": 63,
   "metadata": {},
   "outputs": [
    {
     "data": {
      "text/plain": [
       "0"
      ]
     },
     "execution_count": 63,
     "metadata": {},
     "output_type": "execute_result"
    }
   ],
   "source": [
    "df_train.MasVnrArea.isna().sum()"
   ]
  },
  {
   "cell_type": "markdown",
   "metadata": {},
   "source": [
    "## 3.14 Condition1: Proximity to various conditions\n",
    "       Artery  Adjacent to arterial street\n",
    "       Feedr   Adjacent to feeder street\t\n",
    "       Norm\tNormal\t\n",
    "       RRNn\tWithin 200' of North-South Railroad\n",
    "       RRAn\tAdjacent to North-South Railroad\n",
    "       PosN\tNear positive off-site feature--park, greenbelt, etc.\n",
    "       PosA\tAdjacent to postive off-site feature\n",
    "       RRNe\tWithin 200' of East-West Railroad\n",
    "       RRAe\tAdjacent to East-West Railroad"
   ]
  },
  {
   "cell_type": "code",
   "execution_count": 64,
   "metadata": {},
   "outputs": [
    {
     "data": {
      "text/plain": [
       "Norm      1257\n",
       "Feedr       81\n",
       "Artery      48\n",
       "RRAn        26\n",
       "PosN        19\n",
       "RRAe        11\n",
       "PosA         8\n",
       "RRNn         5\n",
       "RRNe         2\n",
       "Name: Condition1, dtype: int64"
      ]
     },
     "execution_count": 64,
     "metadata": {},
     "output_type": "execute_result"
    }
   ],
   "source": [
    "df_train.Condition1.value_counts()"
   ]
  },
  {
   "cell_type": "code",
   "execution_count": 65,
   "metadata": {},
   "outputs": [],
   "source": [
    "df_train['Condition1_Norm'] = df_train.apply(lambda x: 1 if x.Condition1 =='Norm' else 0, axis=1)\n",
    "df_test['Condition1_Norm'] = df_test.apply(lambda x: 1 if x.Condition1 =='Norm' else 0, axis=1)"
   ]
  },
  {
   "cell_type": "code",
   "execution_count": 66,
   "metadata": {},
   "outputs": [],
   "source": [
    "df_train[['Condition1', 'Condition1_Norm']];"
   ]
  },
  {
   "cell_type": "code",
   "execution_count": 67,
   "metadata": {},
   "outputs": [],
   "source": [
    "df_train.drop('Condition1', axis=1, inplace=True)\n",
    "df_test.drop('Condition1', axis=1, inplace=True)"
   ]
  },
  {
   "cell_type": "markdown",
   "metadata": {},
   "source": [
    "## 3.15 Condition2: Proximity to various conditions (if more than one is present)\n",
    "\n",
    "       Artery  Adjacent to arterial street\n",
    "       Feedr   Adjacent to feeder street\t\n",
    "       Norm\tNormal\t\n",
    "       RRNn\tWithin 200' of North-South Railroad\n",
    "       RRAn\tAdjacent to North-South Railroad\n",
    "       PosN\tNear positive off-site feature--park, greenbelt, etc.\n",
    "       PosA\tAdjacent to postive off-site feature\n",
    "       RRNe\tWithin 200' of East-West Railroad\n",
    "       RRAe\tAdjacent to East-West Railroad"
   ]
  },
  {
   "cell_type": "code",
   "execution_count": 68,
   "metadata": {},
   "outputs": [
    {
     "data": {
      "text/plain": [
       "Norm      1442\n",
       "Feedr        6\n",
       "RRNn         2\n",
       "Artery       2\n",
       "PosN         2\n",
       "RRAe         1\n",
       "RRAn         1\n",
       "PosA         1\n",
       "Name: Condition2, dtype: int64"
      ]
     },
     "execution_count": 68,
     "metadata": {},
     "output_type": "execute_result"
    }
   ],
   "source": [
    "df_train.Condition2.value_counts()"
   ]
  },
  {
   "cell_type": "code",
   "execution_count": 69,
   "metadata": {},
   "outputs": [],
   "source": [
    "df_train.drop('Condition2', axis=1, inplace=True)\n",
    "df_test.drop('Condition2', axis=1, inplace=True)"
   ]
  },
  {
   "cell_type": "markdown",
   "metadata": {},
   "source": [
    "## 3.16 BldgType: Type of dwelling\n",
    "       1Fam\t  Single-family Detached\t\n",
    "       2FmCon\tTwo-family Conversion; originally built as one-family dwelling\n",
    "       Duplx\t Duplex\n",
    "       TwnhsE\tTownhouse End Unit\n",
    "       TwnhsI\tTownhouse Inside Unit"
   ]
  },
  {
   "cell_type": "code",
   "execution_count": 70,
   "metadata": {},
   "outputs": [
    {
     "data": {
      "text/plain": [
       "0"
      ]
     },
     "execution_count": 70,
     "metadata": {},
     "output_type": "execute_result"
    }
   ],
   "source": [
    "df_train.BldgType.isna().sum()"
   ]
  },
  {
   "cell_type": "code",
   "execution_count": 71,
   "metadata": {},
   "outputs": [
    {
     "data": {
      "text/plain": [
       "1Fam      1218\n",
       "TwnhsE     114\n",
       "Duplex      52\n",
       "Twnhs       43\n",
       "2fmCon      30\n",
       "Name: BldgType, dtype: int64"
      ]
     },
     "execution_count": 71,
     "metadata": {},
     "output_type": "execute_result"
    }
   ],
   "source": [
    "df_train.BldgType.value_counts()"
   ]
  },
  {
   "cell_type": "code",
   "execution_count": 72,
   "metadata": {},
   "outputs": [],
   "source": [
    "df_train = pd.concat([df_train, pd.get_dummies(df_train.BldgType, prefix='BldgType')], axis=1)\n",
    "df_test = pd.concat([df_test, pd.get_dummies(df_test.BldgType, prefix='BldgType')], axis=1)"
   ]
  },
  {
   "cell_type": "code",
   "execution_count": 73,
   "metadata": {},
   "outputs": [],
   "source": [
    "df_train.drop('BldgType', axis=1, inplace=True)\n",
    "df_test.drop('BldgType', axis=1, inplace=True)"
   ]
  },
  {
   "cell_type": "markdown",
   "metadata": {},
   "source": [
    "## 3.17 HouseStyle: Style of dwelling\n",
    "       1Story\tOne story\n",
    "       1.5Fin\tOne and one-half story: 2nd level finished\n",
    "       1.5Unf\tOne and one-half story: 2nd level unfinished\n",
    "       2Story\tTwo story\n",
    "       2.5Fin\tTwo and one-half story: 2nd level finished\n",
    "       2.5Unf\tTwo and one-half story: 2nd level unfinished\n",
    "       SFoyer\tSplit Foyer\n",
    "       SLvl\t  Split Level"
   ]
  },
  {
   "cell_type": "code",
   "execution_count": 74,
   "metadata": {},
   "outputs": [
    {
     "data": {
      "text/plain": [
       "1Story    725\n",
       "2Story    445\n",
       "1.5Fin    152\n",
       "SLvl       65\n",
       "SFoyer     37\n",
       "1.5Unf     14\n",
       "2.5Unf     11\n",
       "2.5Fin      8\n",
       "Name: HouseStyle, dtype: int64"
      ]
     },
     "execution_count": 74,
     "metadata": {},
     "output_type": "execute_result"
    }
   ],
   "source": [
    "df_train.HouseStyle.value_counts()"
   ]
  },
  {
   "cell_type": "code",
   "execution_count": 75,
   "metadata": {},
   "outputs": [],
   "source": [
    "df_train = pd.concat([df_train, pd.get_dummies(df_train.HouseStyle, prefix='HouseStyle')], axis=1)\n",
    "df_test = pd.concat([df_test, pd.get_dummies(df_test.HouseStyle, prefix='HouseStyle')], axis=1)"
   ]
  },
  {
   "cell_type": "code",
   "execution_count": 76,
   "metadata": {},
   "outputs": [],
   "source": [
    "df_train.drop('HouseStyle', axis=1, inplace=True)\n",
    "df_test.drop('HouseStyle', axis=1, inplace=True)"
   ]
  },
  {
   "cell_type": "markdown",
   "metadata": {},
   "source": [
    "## 3.18 OverallQual: Rates the overall material and finish of the house\n",
    "       10\tVery Excellent\n",
    "       9\tExcellent\n",
    "       8\tVery Good\n",
    "       7\tGood\n",
    "       6\tAbove Average\n",
    "       5\tAverage\n",
    "       4\tBelow Average\n",
    "       3\tFair\n",
    "       2\tPoor\n",
    "       1\tVery Poor"
   ]
  },
  {
   "cell_type": "code",
   "execution_count": 77,
   "metadata": {},
   "outputs": [
    {
     "data": {
      "text/plain": [
       "5     396\n",
       "6     373\n",
       "7     318\n",
       "8     168\n",
       "4     116\n",
       "9      43\n",
       "3      20\n",
       "10     18\n",
       "2       3\n",
       "1       2\n",
       "Name: OverallQual, dtype: int64"
      ]
     },
     "execution_count": 77,
     "metadata": {},
     "output_type": "execute_result"
    }
   ],
   "source": [
    "df_train.OverallQual.value_counts()"
   ]
  },
  {
   "cell_type": "code",
   "execution_count": 78,
   "metadata": {},
   "outputs": [
    {
     "data": {
      "text/plain": [
       "0"
      ]
     },
     "execution_count": 78,
     "metadata": {},
     "output_type": "execute_result"
    }
   ],
   "source": [
    "df_train.OverallQual.isna().sum()"
   ]
  },
  {
   "cell_type": "code",
   "execution_count": 79,
   "metadata": {},
   "outputs": [],
   "source": [
    "df_train = pd.concat([df_train, pd.get_dummies(df_train.OverallQual, prefix='OverallQual')], axis=1)\n",
    "df_test = pd.concat([df_test, pd.get_dummies(df_test.OverallQual, prefix='OverallQual')], axis=1)"
   ]
  },
  {
   "cell_type": "code",
   "execution_count": 80,
   "metadata": {},
   "outputs": [
    {
     "data": {
      "text/html": [
       "<div>\n",
       "<style scoped>\n",
       "    .dataframe tbody tr th:only-of-type {\n",
       "        vertical-align: middle;\n",
       "    }\n",
       "\n",
       "    .dataframe tbody tr th {\n",
       "        vertical-align: top;\n",
       "    }\n",
       "\n",
       "    .dataframe thead th {\n",
       "        text-align: right;\n",
       "    }\n",
       "</style>\n",
       "<table border=\"1\" class=\"dataframe\">\n",
       "  <thead>\n",
       "    <tr style=\"text-align: right;\">\n",
       "      <th></th>\n",
       "      <th>Id</th>\n",
       "      <th>LotArea</th>\n",
       "      <th>OverallQual</th>\n",
       "      <th>OverallCond</th>\n",
       "      <th>YearBuilt</th>\n",
       "      <th>YearRemodAdd</th>\n",
       "      <th>RoofStyle</th>\n",
       "      <th>RoofMatl</th>\n",
       "      <th>Exterior1st</th>\n",
       "      <th>Exterior2nd</th>\n",
       "      <th>...</th>\n",
       "      <th>OverallQual_1</th>\n",
       "      <th>OverallQual_2</th>\n",
       "      <th>OverallQual_3</th>\n",
       "      <th>OverallQual_4</th>\n",
       "      <th>OverallQual_5</th>\n",
       "      <th>OverallQual_6</th>\n",
       "      <th>OverallQual_7</th>\n",
       "      <th>OverallQual_8</th>\n",
       "      <th>OverallQual_9</th>\n",
       "      <th>OverallQual_10</th>\n",
       "    </tr>\n",
       "  </thead>\n",
       "  <tbody>\n",
       "    <tr>\n",
       "      <th>0</th>\n",
       "      <td>1</td>\n",
       "      <td>8450</td>\n",
       "      <td>7</td>\n",
       "      <td>5</td>\n",
       "      <td>2003</td>\n",
       "      <td>2003</td>\n",
       "      <td>Gable</td>\n",
       "      <td>CompShg</td>\n",
       "      <td>VinylSd</td>\n",
       "      <td>VinylSd</td>\n",
       "      <td>...</td>\n",
       "      <td>0</td>\n",
       "      <td>0</td>\n",
       "      <td>0</td>\n",
       "      <td>0</td>\n",
       "      <td>0</td>\n",
       "      <td>0</td>\n",
       "      <td>1</td>\n",
       "      <td>0</td>\n",
       "      <td>0</td>\n",
       "      <td>0</td>\n",
       "    </tr>\n",
       "    <tr>\n",
       "      <th>1</th>\n",
       "      <td>2</td>\n",
       "      <td>9600</td>\n",
       "      <td>6</td>\n",
       "      <td>8</td>\n",
       "      <td>1976</td>\n",
       "      <td>1976</td>\n",
       "      <td>Gable</td>\n",
       "      <td>CompShg</td>\n",
       "      <td>MetalSd</td>\n",
       "      <td>MetalSd</td>\n",
       "      <td>...</td>\n",
       "      <td>0</td>\n",
       "      <td>0</td>\n",
       "      <td>0</td>\n",
       "      <td>0</td>\n",
       "      <td>0</td>\n",
       "      <td>1</td>\n",
       "      <td>0</td>\n",
       "      <td>0</td>\n",
       "      <td>0</td>\n",
       "      <td>0</td>\n",
       "    </tr>\n",
       "    <tr>\n",
       "      <th>2</th>\n",
       "      <td>3</td>\n",
       "      <td>11250</td>\n",
       "      <td>7</td>\n",
       "      <td>5</td>\n",
       "      <td>2001</td>\n",
       "      <td>2002</td>\n",
       "      <td>Gable</td>\n",
       "      <td>CompShg</td>\n",
       "      <td>VinylSd</td>\n",
       "      <td>VinylSd</td>\n",
       "      <td>...</td>\n",
       "      <td>0</td>\n",
       "      <td>0</td>\n",
       "      <td>0</td>\n",
       "      <td>0</td>\n",
       "      <td>0</td>\n",
       "      <td>0</td>\n",
       "      <td>1</td>\n",
       "      <td>0</td>\n",
       "      <td>0</td>\n",
       "      <td>0</td>\n",
       "    </tr>\n",
       "    <tr>\n",
       "      <th>3</th>\n",
       "      <td>4</td>\n",
       "      <td>9550</td>\n",
       "      <td>7</td>\n",
       "      <td>5</td>\n",
       "      <td>1915</td>\n",
       "      <td>1970</td>\n",
       "      <td>Gable</td>\n",
       "      <td>CompShg</td>\n",
       "      <td>Wd Sdng</td>\n",
       "      <td>Wd Shng</td>\n",
       "      <td>...</td>\n",
       "      <td>0</td>\n",
       "      <td>0</td>\n",
       "      <td>0</td>\n",
       "      <td>0</td>\n",
       "      <td>0</td>\n",
       "      <td>0</td>\n",
       "      <td>1</td>\n",
       "      <td>0</td>\n",
       "      <td>0</td>\n",
       "      <td>0</td>\n",
       "    </tr>\n",
       "    <tr>\n",
       "      <th>4</th>\n",
       "      <td>5</td>\n",
       "      <td>14260</td>\n",
       "      <td>8</td>\n",
       "      <td>5</td>\n",
       "      <td>2000</td>\n",
       "      <td>2000</td>\n",
       "      <td>Gable</td>\n",
       "      <td>CompShg</td>\n",
       "      <td>VinylSd</td>\n",
       "      <td>VinylSd</td>\n",
       "      <td>...</td>\n",
       "      <td>0</td>\n",
       "      <td>0</td>\n",
       "      <td>0</td>\n",
       "      <td>0</td>\n",
       "      <td>0</td>\n",
       "      <td>0</td>\n",
       "      <td>0</td>\n",
       "      <td>1</td>\n",
       "      <td>0</td>\n",
       "      <td>0</td>\n",
       "    </tr>\n",
       "  </tbody>\n",
       "</table>\n",
       "<p>5 rows × 130 columns</p>\n",
       "</div>"
      ],
      "text/plain": [
       "   Id  LotArea  OverallQual  OverallCond  YearBuilt  YearRemodAdd RoofStyle  \\\n",
       "0   1     8450            7            5       2003          2003     Gable   \n",
       "1   2     9600            6            8       1976          1976     Gable   \n",
       "2   3    11250            7            5       2001          2002     Gable   \n",
       "3   4     9550            7            5       1915          1970     Gable   \n",
       "4   5    14260            8            5       2000          2000     Gable   \n",
       "\n",
       "  RoofMatl Exterior1st Exterior2nd  ... OverallQual_1  OverallQual_2  \\\n",
       "0  CompShg     VinylSd     VinylSd  ...             0              0   \n",
       "1  CompShg     MetalSd     MetalSd  ...             0              0   \n",
       "2  CompShg     VinylSd     VinylSd  ...             0              0   \n",
       "3  CompShg     Wd Sdng     Wd Shng  ...             0              0   \n",
       "4  CompShg     VinylSd     VinylSd  ...             0              0   \n",
       "\n",
       "  OverallQual_3 OverallQual_4 OverallQual_5 OverallQual_6 OverallQual_7  \\\n",
       "0             0             0             0             0             1   \n",
       "1             0             0             0             1             0   \n",
       "2             0             0             0             0             1   \n",
       "3             0             0             0             0             1   \n",
       "4             0             0             0             0             0   \n",
       "\n",
       "  OverallQual_8 OverallQual_9  OverallQual_10  \n",
       "0             0             0               0  \n",
       "1             0             0               0  \n",
       "2             0             0               0  \n",
       "3             0             0               0  \n",
       "4             1             0               0  \n",
       "\n",
       "[5 rows x 130 columns]"
      ]
     },
     "execution_count": 80,
     "metadata": {},
     "output_type": "execute_result"
    }
   ],
   "source": [
    "df_train.head()"
   ]
  },
  {
   "cell_type": "markdown",
   "metadata": {},
   "source": [
    "## 3.19 OverallCond: Rates the overall condition of the house\n",
    "       10\tVery Excellent\n",
    "       9\tExcellent\n",
    "       8\tVery Good\n",
    "       7\tGood\n",
    "       6\tAbove Average\t\n",
    "       5\tAverage\n",
    "       4\tBelow Average\t\n",
    "       3\tFair\n",
    "       2\tPoor\n",
    "       1\tVery Poor"
   ]
  },
  {
   "cell_type": "code",
   "execution_count": 81,
   "metadata": {},
   "outputs": [
    {
     "data": {
      "text/plain": [
       "5    820\n",
       "6    251\n",
       "7    204\n",
       "8     72\n",
       "4     57\n",
       "3     25\n",
       "9     22\n",
       "2      5\n",
       "1      1\n",
       "Name: OverallCond, dtype: int64"
      ]
     },
     "execution_count": 81,
     "metadata": {},
     "output_type": "execute_result"
    }
   ],
   "source": [
    "df_train.OverallCond.value_counts()"
   ]
  },
  {
   "cell_type": "code",
   "execution_count": 82,
   "metadata": {},
   "outputs": [
    {
     "data": {
      "text/plain": [
       "0"
      ]
     },
     "execution_count": 82,
     "metadata": {},
     "output_type": "execute_result"
    }
   ],
   "source": [
    "df_train.OverallCond.isna().sum()"
   ]
  },
  {
   "cell_type": "code",
   "execution_count": 83,
   "metadata": {},
   "outputs": [],
   "source": [
    "df_train = pd.concat([df_train, pd.get_dummies(df_train.OverallCond, prefix='OverallCond')], axis=1)\n",
    "df_test = pd.concat([df_test, pd.get_dummies(df_test.OverallCond, prefix='OverallCond')], axis=1)"
   ]
  },
  {
   "cell_type": "markdown",
   "metadata": {},
   "source": [
    "## 3.20 YearBuilt\n",
    "Original construction date"
   ]
  },
  {
   "cell_type": "code",
   "execution_count": 84,
   "metadata": {},
   "outputs": [],
   "source": [
    "def YearBuilt_ranges(year):\n",
    "    if year <= 1900:\n",
    "        built_range = 'pre_1900'\n",
    "    elif year > 1900 and year <= 1925:\n",
    "        built_range = '1900_1925'\n",
    "    elif year > 1925 and year <= 1950:\n",
    "        built_range = '1925_1950'\n",
    "    elif year > 1950 and year <= 1975:\n",
    "        built_range = '1950_1975'\n",
    "    elif year > 1975 and year <= 2000:\n",
    "        built_range = '1975_2000'\n",
    "    elif year > 2000:\n",
    "        built_range = 'post_2000'\n",
    "        \n",
    "    return built_range"
   ]
  },
  {
   "cell_type": "code",
   "execution_count": 85,
   "metadata": {},
   "outputs": [],
   "source": [
    "df_train['YearBuilt_range'] = df_train.apply(lambda x: YearBuilt_ranges(x.YearBuilt), axis=1)\n",
    "df_test['YearBuilt_range'] = df_test.apply(lambda x: YearBuilt_ranges(x.YearBuilt), axis=1)"
   ]
  },
  {
   "cell_type": "code",
   "execution_count": 86,
   "metadata": {},
   "outputs": [],
   "source": [
    "df_train[['YearBuilt_range']];"
   ]
  },
  {
   "cell_type": "code",
   "execution_count": 87,
   "metadata": {},
   "outputs": [],
   "source": [
    "df_train = pd.concat([df_train, pd.get_dummies(df_train.YearBuilt_range, prefix='YearBuilt_range')], axis=1)\n",
    "df_test = pd.concat([df_test, pd.get_dummies(df_test.YearBuilt_range, prefix='YearBuilt_range')], axis=1)"
   ]
  },
  {
   "cell_type": "code",
   "execution_count": 88,
   "metadata": {},
   "outputs": [],
   "source": [
    "df_train['Age'] = df_train.apply(lambda x: 2010 - x.YearBuilt, axis=1)\n",
    "df_test['Age'] = df_test.apply(lambda x: 2010 - x.YearBuilt, axis=1)"
   ]
  },
  {
   "cell_type": "code",
   "execution_count": 89,
   "metadata": {},
   "outputs": [],
   "source": [
    "df_train.drop('YearBuilt', axis=1, inplace=True)\n",
    "df_test.drop('YearBuilt', axis=1, inplace=True)"
   ]
  },
  {
   "cell_type": "markdown",
   "metadata": {},
   "source": [
    "## 3.21 YearRemodAdd\n",
    "Remodel date (same as construction date if no remodeling or additions)"
   ]
  },
  {
   "cell_type": "code",
   "execution_count": 90,
   "metadata": {},
   "outputs": [
    {
     "data": {
      "text/plain": [
       "1950    178\n",
       "2006     96\n",
       "2007     76\n",
       "2005     73\n",
       "2004     62\n",
       "Name: YearRemodAdd, dtype: int64"
      ]
     },
     "execution_count": 90,
     "metadata": {},
     "output_type": "execute_result"
    }
   ],
   "source": [
    "df_train.YearRemodAdd.value_counts().head()"
   ]
  },
  {
   "cell_type": "code",
   "execution_count": 91,
   "metadata": {},
   "outputs": [],
   "source": [
    "df_train['YearsSinceRemod'] = df_train.apply(lambda x: 2010 - x.YearRemodAdd, axis=1)\n",
    "df_test['YearsSinceRemod']  = df_test.apply(lambda x: 2010 - x.YearRemodAdd, axis=1)"
   ]
  },
  {
   "cell_type": "code",
   "execution_count": 92,
   "metadata": {},
   "outputs": [],
   "source": [
    "df_train.drop('YearRemodAdd', axis=1, inplace=True)\n",
    "df_test.drop('YearRemodAdd', axis=1, inplace=True)"
   ]
  },
  {
   "cell_type": "markdown",
   "metadata": {},
   "source": [
    "## 3.22 RoofStyle: Type of roof\n",
    "\n",
    "       Flat\t    Flat\n",
    "       Gable\t   Gable\n",
    "       Gambrel\t Gabrel (Barn)\n",
    "       Hip\t     Hip\n",
    "       Mansard\t Mansard\n",
    "       Shed\t    Shed"
   ]
  },
  {
   "cell_type": "code",
   "execution_count": 93,
   "metadata": {},
   "outputs": [
    {
     "data": {
      "text/plain": [
       "Gable      1139\n",
       "Hip         285\n",
       "Flat         13\n",
       "Gambrel      11\n",
       "Mansard       7\n",
       "Shed          2\n",
       "Name: RoofStyle, dtype: int64"
      ]
     },
     "execution_count": 93,
     "metadata": {},
     "output_type": "execute_result"
    }
   ],
   "source": [
    "df_train.RoofStyle.value_counts()"
   ]
  },
  {
   "cell_type": "code",
   "execution_count": 94,
   "metadata": {},
   "outputs": [],
   "source": [
    "df_train = pd.concat([df_train, pd.get_dummies(df_train.RoofStyle, prefix='RoofStyle')], axis=1)\n",
    "df_test = pd.concat([df_test, pd.get_dummies(df_test.RoofStyle, prefix='RoofStyle')], axis=1)"
   ]
  },
  {
   "cell_type": "code",
   "execution_count": 95,
   "metadata": {},
   "outputs": [],
   "source": [
    "df_train.drop('RoofStyle', axis=1, inplace=True)\n",
    "df_test.drop('RoofStyle', axis=1, inplace=True)"
   ]
  },
  {
   "cell_type": "markdown",
   "metadata": {},
   "source": [
    "## 3.23 RoofMatl: Roof material\n",
    "\n",
    "       ClyTile\tClay or Tile\n",
    "       CompShg\tStandard (Composite) Shingle\n",
    "       Membran\tMembrane\n",
    "       Metal\tMetal\n",
    "       Roll\tRoll\n",
    "       Tar&Grv\tGravel & Tar\n",
    "       WdShake\tWood Shakes\n",
    "       WdShngl\tWood Shingles"
   ]
  },
  {
   "cell_type": "code",
   "execution_count": 96,
   "metadata": {},
   "outputs": [
    {
     "data": {
      "text/plain": [
       "CompShg    1431\n",
       "Tar&Grv      11\n",
       "WdShngl       6\n",
       "WdShake       5\n",
       "Membran       1\n",
       "ClyTile       1\n",
       "Roll          1\n",
       "Metal         1\n",
       "Name: RoofMatl, dtype: int64"
      ]
     },
     "execution_count": 96,
     "metadata": {},
     "output_type": "execute_result"
    }
   ],
   "source": [
    "df_train.RoofMatl.value_counts()"
   ]
  },
  {
   "cell_type": "markdown",
   "metadata": {},
   "source": [
    "**Remove feature as 98% of the samples are one category**"
   ]
  },
  {
   "cell_type": "code",
   "execution_count": 97,
   "metadata": {},
   "outputs": [],
   "source": [
    "df_train.drop('RoofMatl', axis=1, inplace=True)\n",
    "df_test.drop('RoofMatl', axis=1, inplace=True)"
   ]
  },
  {
   "cell_type": "markdown",
   "metadata": {},
   "source": [
    "## 3.24 Exterior1st: Exterior covering on house\n",
    "\n",
    "       AsbShng\tAsbestos Shingles\n",
    "       AsphShn\tAsphalt Shingles\n",
    "       BrkComm\tBrick Common\n",
    "       BrkFace\tBrick Face\n",
    "       CBlock\tCinder Block\n",
    "       CemntBd\tCement Board\n",
    "       HdBoard\tHard Board\n",
    "       ImStucc\tImitation Stucco\n",
    "       MetalSd\tMetal Siding\n",
    "       Other\tOther\n",
    "       Plywood\tPlywood\n",
    "       PreCast\tPreCast\t\n",
    "       Stone\tStone\n",
    "       Stucco\tStucco\n",
    "       VinylSd\tVinyl Siding\n",
    "       Wd Sdng\tWood Siding\n",
    "       WdShing\tWood Shingles"
   ]
  },
  {
   "cell_type": "code",
   "execution_count": 98,
   "metadata": {},
   "outputs": [
    {
     "data": {
      "text/plain": [
       "VinylSd    515\n",
       "HdBoard    222\n",
       "MetalSd    220\n",
       "Wd Sdng    205\n",
       "Plywood    107\n",
       "CemntBd     61\n",
       "BrkFace     49\n",
       "WdShing     26\n",
       "Stucco      25\n",
       "AsbShng     20\n",
       "BrkComm      2\n",
       "Stone        2\n",
       "CBlock       1\n",
       "AsphShn      1\n",
       "ImStucc      1\n",
       "Name: Exterior1st, dtype: int64"
      ]
     },
     "execution_count": 98,
     "metadata": {},
     "output_type": "execute_result"
    }
   ],
   "source": [
    "df_train.Exterior1st.value_counts()"
   ]
  },
  {
   "cell_type": "code",
   "execution_count": 99,
   "metadata": {},
   "outputs": [
    {
     "data": {
      "text/plain": [
       "0"
      ]
     },
     "execution_count": 99,
     "metadata": {},
     "output_type": "execute_result"
    }
   ],
   "source": [
    "df_train.Exterior1st.isna().sum()"
   ]
  },
  {
   "cell_type": "code",
   "execution_count": 100,
   "metadata": {},
   "outputs": [],
   "source": [
    "def transform_Exterior1st(category):\n",
    "    list_above100 = ['VinylSd', 'HdBoard', 'MetalSd', 'Wd Sdng', 'Plywood']\n",
    "    if category not in list_above100:\n",
    "        return 'Other'\n",
    "    else:\n",
    "        return category"
   ]
  },
  {
   "cell_type": "code",
   "execution_count": 101,
   "metadata": {},
   "outputs": [],
   "source": [
    "df_train['Exterior1st'] = df_train.apply(lambda x: transform_Exterior1st(x.Exterior1st), axis=1)"
   ]
  },
  {
   "cell_type": "code",
   "execution_count": 102,
   "metadata": {},
   "outputs": [],
   "source": [
    "df_train = pd.concat([df_train, pd.get_dummies(df_train.Exterior1st, prefix='Exterior1st')], axis=1)\n",
    "df_test = pd.concat([df_test, pd.get_dummies(df_test.Exterior1st, prefix='Exterior1st')], axis=1)"
   ]
  },
  {
   "cell_type": "code",
   "execution_count": 103,
   "metadata": {},
   "outputs": [],
   "source": [
    "df_train.drop('Exterior1st', axis=1, inplace=True)\n",
    "df_test.drop('Exterior1st', axis=1, inplace=True)"
   ]
  },
  {
   "cell_type": "code",
   "execution_count": 104,
   "metadata": {},
   "outputs": [
    {
     "data": {
      "text/html": [
       "<div>\n",
       "<style scoped>\n",
       "    .dataframe tbody tr th:only-of-type {\n",
       "        vertical-align: middle;\n",
       "    }\n",
       "\n",
       "    .dataframe tbody tr th {\n",
       "        vertical-align: top;\n",
       "    }\n",
       "\n",
       "    .dataframe thead th {\n",
       "        text-align: right;\n",
       "    }\n",
       "</style>\n",
       "<table border=\"1\" class=\"dataframe\">\n",
       "  <thead>\n",
       "    <tr style=\"text-align: right;\">\n",
       "      <th></th>\n",
       "      <th>Id</th>\n",
       "      <th>LotArea</th>\n",
       "      <th>OverallQual</th>\n",
       "      <th>OverallCond</th>\n",
       "      <th>Exterior2nd</th>\n",
       "      <th>MasVnrType</th>\n",
       "      <th>MasVnrArea</th>\n",
       "      <th>ExterQual</th>\n",
       "      <th>ExterCond</th>\n",
       "      <th>Foundation</th>\n",
       "      <th>...</th>\n",
       "      <th>RoofStyle_Gambrel</th>\n",
       "      <th>RoofStyle_Hip</th>\n",
       "      <th>RoofStyle_Mansard</th>\n",
       "      <th>RoofStyle_Shed</th>\n",
       "      <th>Exterior1st_HdBoard</th>\n",
       "      <th>Exterior1st_MetalSd</th>\n",
       "      <th>Exterior1st_Other</th>\n",
       "      <th>Exterior1st_Plywood</th>\n",
       "      <th>Exterior1st_VinylSd</th>\n",
       "      <th>Exterior1st_Wd Sdng</th>\n",
       "    </tr>\n",
       "  </thead>\n",
       "  <tbody>\n",
       "    <tr>\n",
       "      <th>0</th>\n",
       "      <td>1</td>\n",
       "      <td>8450</td>\n",
       "      <td>7</td>\n",
       "      <td>5</td>\n",
       "      <td>VinylSd</td>\n",
       "      <td>BrkFace</td>\n",
       "      <td>196.0</td>\n",
       "      <td>Gd</td>\n",
       "      <td>TA</td>\n",
       "      <td>PConc</td>\n",
       "      <td>...</td>\n",
       "      <td>0</td>\n",
       "      <td>0</td>\n",
       "      <td>0</td>\n",
       "      <td>0</td>\n",
       "      <td>0</td>\n",
       "      <td>0</td>\n",
       "      <td>0</td>\n",
       "      <td>0</td>\n",
       "      <td>1</td>\n",
       "      <td>0</td>\n",
       "    </tr>\n",
       "    <tr>\n",
       "      <th>1</th>\n",
       "      <td>2</td>\n",
       "      <td>9600</td>\n",
       "      <td>6</td>\n",
       "      <td>8</td>\n",
       "      <td>MetalSd</td>\n",
       "      <td>None</td>\n",
       "      <td>0.0</td>\n",
       "      <td>TA</td>\n",
       "      <td>TA</td>\n",
       "      <td>CBlock</td>\n",
       "      <td>...</td>\n",
       "      <td>0</td>\n",
       "      <td>0</td>\n",
       "      <td>0</td>\n",
       "      <td>0</td>\n",
       "      <td>0</td>\n",
       "      <td>1</td>\n",
       "      <td>0</td>\n",
       "      <td>0</td>\n",
       "      <td>0</td>\n",
       "      <td>0</td>\n",
       "    </tr>\n",
       "    <tr>\n",
       "      <th>2</th>\n",
       "      <td>3</td>\n",
       "      <td>11250</td>\n",
       "      <td>7</td>\n",
       "      <td>5</td>\n",
       "      <td>VinylSd</td>\n",
       "      <td>BrkFace</td>\n",
       "      <td>162.0</td>\n",
       "      <td>Gd</td>\n",
       "      <td>TA</td>\n",
       "      <td>PConc</td>\n",
       "      <td>...</td>\n",
       "      <td>0</td>\n",
       "      <td>0</td>\n",
       "      <td>0</td>\n",
       "      <td>0</td>\n",
       "      <td>0</td>\n",
       "      <td>0</td>\n",
       "      <td>0</td>\n",
       "      <td>0</td>\n",
       "      <td>1</td>\n",
       "      <td>0</td>\n",
       "    </tr>\n",
       "    <tr>\n",
       "      <th>3</th>\n",
       "      <td>4</td>\n",
       "      <td>9550</td>\n",
       "      <td>7</td>\n",
       "      <td>5</td>\n",
       "      <td>Wd Shng</td>\n",
       "      <td>None</td>\n",
       "      <td>0.0</td>\n",
       "      <td>TA</td>\n",
       "      <td>TA</td>\n",
       "      <td>BrkTil</td>\n",
       "      <td>...</td>\n",
       "      <td>0</td>\n",
       "      <td>0</td>\n",
       "      <td>0</td>\n",
       "      <td>0</td>\n",
       "      <td>0</td>\n",
       "      <td>0</td>\n",
       "      <td>0</td>\n",
       "      <td>0</td>\n",
       "      <td>0</td>\n",
       "      <td>1</td>\n",
       "    </tr>\n",
       "    <tr>\n",
       "      <th>4</th>\n",
       "      <td>5</td>\n",
       "      <td>14260</td>\n",
       "      <td>8</td>\n",
       "      <td>5</td>\n",
       "      <td>VinylSd</td>\n",
       "      <td>BrkFace</td>\n",
       "      <td>350.0</td>\n",
       "      <td>Gd</td>\n",
       "      <td>TA</td>\n",
       "      <td>PConc</td>\n",
       "      <td>...</td>\n",
       "      <td>0</td>\n",
       "      <td>0</td>\n",
       "      <td>0</td>\n",
       "      <td>0</td>\n",
       "      <td>0</td>\n",
       "      <td>0</td>\n",
       "      <td>0</td>\n",
       "      <td>0</td>\n",
       "      <td>1</td>\n",
       "      <td>0</td>\n",
       "    </tr>\n",
       "  </tbody>\n",
       "</table>\n",
       "<p>5 rows × 155 columns</p>\n",
       "</div>"
      ],
      "text/plain": [
       "   Id  LotArea  OverallQual  OverallCond Exterior2nd MasVnrType  MasVnrArea  \\\n",
       "0   1     8450            7            5     VinylSd    BrkFace       196.0   \n",
       "1   2     9600            6            8     MetalSd       None         0.0   \n",
       "2   3    11250            7            5     VinylSd    BrkFace       162.0   \n",
       "3   4     9550            7            5     Wd Shng       None         0.0   \n",
       "4   5    14260            8            5     VinylSd    BrkFace       350.0   \n",
       "\n",
       "  ExterQual ExterCond Foundation  ... RoofStyle_Gambrel RoofStyle_Hip  \\\n",
       "0        Gd        TA      PConc  ...                 0             0   \n",
       "1        TA        TA     CBlock  ...                 0             0   \n",
       "2        Gd        TA      PConc  ...                 0             0   \n",
       "3        TA        TA     BrkTil  ...                 0             0   \n",
       "4        Gd        TA      PConc  ...                 0             0   \n",
       "\n",
       "  RoofStyle_Mansard RoofStyle_Shed  Exterior1st_HdBoard Exterior1st_MetalSd  \\\n",
       "0                 0              0                    0                   0   \n",
       "1                 0              0                    0                   1   \n",
       "2                 0              0                    0                   0   \n",
       "3                 0              0                    0                   0   \n",
       "4                 0              0                    0                   0   \n",
       "\n",
       "   Exterior1st_Other  Exterior1st_Plywood  Exterior1st_VinylSd  \\\n",
       "0                  0                    0                    1   \n",
       "1                  0                    0                    0   \n",
       "2                  0                    0                    1   \n",
       "3                  0                    0                    0   \n",
       "4                  0                    0                    1   \n",
       "\n",
       "  Exterior1st_Wd Sdng  \n",
       "0                   0  \n",
       "1                   0  \n",
       "2                   0  \n",
       "3                   1  \n",
       "4                   0  \n",
       "\n",
       "[5 rows x 155 columns]"
      ]
     },
     "execution_count": 104,
     "metadata": {},
     "output_type": "execute_result"
    }
   ],
   "source": [
    "df_train.head()"
   ]
  },
  {
   "cell_type": "markdown",
   "metadata": {},
   "source": [
    "## 3.25 Exterior2nd: Exterior covering on house (if more than one material)\n",
    "\n",
    "       AsbShng\tAsbestos Shingles\n",
    "       AsphShn\tAsphalt Shingles\n",
    "       BrkComm\tBrick Common\n",
    "       BrkFace\tBrick Face\n",
    "       CBlock\tCinder Block\n",
    "       CemntBd\tCement Board\n",
    "       HdBoard\tHard Board\n",
    "       ImStucc\tImitation Stucco\n",
    "       MetalSd\tMetal Siding\n",
    "       Other\tOther\n",
    "       Plywood\tPlywood\n",
    "       PreCast\tPreCast\n",
    "       Stone\tStone\n",
    "       Stucco\tStucco\n",
    "       VinylSd\tVinyl Siding\n",
    "       Wd Sdng\tWood Siding\n",
    "       WdShing\tWood Shingles"
   ]
  },
  {
   "cell_type": "code",
   "execution_count": 105,
   "metadata": {},
   "outputs": [
    {
     "data": {
      "text/plain": [
       "VinylSd    504\n",
       "MetalSd    214\n",
       "HdBoard    206\n",
       "Wd Sdng    197\n",
       "Plywood    141\n",
       "CmentBd     60\n",
       "Wd Shng     38\n",
       "Stucco      26\n",
       "BrkFace     24\n",
       "AsbShng     20\n",
       "ImStucc     10\n",
       "Brk Cmn      7\n",
       "Stone        5\n",
       "AsphShn      3\n",
       "CBlock       1\n",
       "Other        1\n",
       "Name: Exterior2nd, dtype: int64"
      ]
     },
     "execution_count": 105,
     "metadata": {},
     "output_type": "execute_result"
    }
   ],
   "source": [
    "df_train.Exterior2nd.value_counts()"
   ]
  },
  {
   "cell_type": "code",
   "execution_count": 106,
   "metadata": {},
   "outputs": [
    {
     "data": {
      "text/plain": [
       "0"
      ]
     },
     "execution_count": 106,
     "metadata": {},
     "output_type": "execute_result"
    }
   ],
   "source": [
    "df_train.Exterior2nd.isna().sum()"
   ]
  },
  {
   "cell_type": "code",
   "execution_count": 107,
   "metadata": {},
   "outputs": [],
   "source": [
    "def transform_Exterior2nd(category):\n",
    "    list_above100 = ['VinylSd', 'HdBoard', 'MetalSd', 'Wd Sdng', 'Plywood']\n",
    "    if category not in list_above100:\n",
    "        return 'Other'\n",
    "    else:\n",
    "        return category"
   ]
  },
  {
   "cell_type": "code",
   "execution_count": 108,
   "metadata": {},
   "outputs": [],
   "source": [
    "df_train['Exterior2nd'] = df_train.apply(lambda x: transform_Exterior2nd(x.Exterior2nd), axis=1)"
   ]
  },
  {
   "cell_type": "code",
   "execution_count": 109,
   "metadata": {},
   "outputs": [],
   "source": [
    "df_train = pd.concat([df_train, pd.get_dummies(df_train.Exterior2nd, prefix='Exterior2nd')], axis=1)\n",
    "df_test = pd.concat([df_test, pd.get_dummies(df_test.Exterior2nd, prefix='Exterior2nd')], axis=1)"
   ]
  },
  {
   "cell_type": "code",
   "execution_count": 110,
   "metadata": {},
   "outputs": [],
   "source": [
    "df_train.drop('Exterior2nd', axis=1, inplace=True)\n",
    "df_test.drop('Exterior2nd', axis=1, inplace=True)"
   ]
  },
  {
   "cell_type": "markdown",
   "metadata": {},
   "source": [
    "## 3.26 MasVnrType: Masonry veneer type\n",
    "\n",
    "       BrkCmn\tBrick Common\n",
    "       BrkFace\tBrick Face\n",
    "       CBlock\tCinder Block\n",
    "       None\tNone\n",
    "       Stone\tStone"
   ]
  },
  {
   "cell_type": "code",
   "execution_count": 111,
   "metadata": {},
   "outputs": [
    {
     "data": {
      "text/plain": [
       "None       862\n",
       "BrkFace    445\n",
       "Stone      128\n",
       "BrkCmn      14\n",
       "NaN          8\n",
       "Name: MasVnrType, dtype: int64"
      ]
     },
     "execution_count": 111,
     "metadata": {},
     "output_type": "execute_result"
    }
   ],
   "source": [
    "df_train.MasVnrType.value_counts(dropna=False)"
   ]
  },
  {
   "cell_type": "code",
   "execution_count": 112,
   "metadata": {},
   "outputs": [],
   "source": [
    "df_train = pd.concat([df_train, pd.get_dummies(df_train.MasVnrType, prefix='MasVnrType')], axis=1)\n",
    "df_test = pd.concat([df_test, pd.get_dummies(df_test.MasVnrType, prefix='MasVnrType')], axis=1)"
   ]
  },
  {
   "cell_type": "code",
   "execution_count": 113,
   "metadata": {},
   "outputs": [],
   "source": [
    "df_train.drop('MasVnrType', axis=1, inplace=True)\n",
    "df_test.drop('MasVnrType', axis=1, inplace=True)"
   ]
  },
  {
   "cell_type": "code",
   "execution_count": 114,
   "metadata": {},
   "outputs": [
    {
     "data": {
      "text/html": [
       "<div>\n",
       "<style scoped>\n",
       "    .dataframe tbody tr th:only-of-type {\n",
       "        vertical-align: middle;\n",
       "    }\n",
       "\n",
       "    .dataframe tbody tr th {\n",
       "        vertical-align: top;\n",
       "    }\n",
       "\n",
       "    .dataframe thead th {\n",
       "        text-align: right;\n",
       "    }\n",
       "</style>\n",
       "<table border=\"1\" class=\"dataframe\">\n",
       "  <thead>\n",
       "    <tr style=\"text-align: right;\">\n",
       "      <th></th>\n",
       "      <th>Id</th>\n",
       "      <th>LotArea</th>\n",
       "      <th>OverallQual</th>\n",
       "      <th>OverallCond</th>\n",
       "      <th>MasVnrArea</th>\n",
       "      <th>ExterQual</th>\n",
       "      <th>ExterCond</th>\n",
       "      <th>Foundation</th>\n",
       "      <th>BsmtQual</th>\n",
       "      <th>BsmtCond</th>\n",
       "      <th>...</th>\n",
       "      <th>Exterior2nd_HdBoard</th>\n",
       "      <th>Exterior2nd_MetalSd</th>\n",
       "      <th>Exterior2nd_Other</th>\n",
       "      <th>Exterior2nd_Plywood</th>\n",
       "      <th>Exterior2nd_VinylSd</th>\n",
       "      <th>Exterior2nd_Wd Sdng</th>\n",
       "      <th>MasVnrType_BrkCmn</th>\n",
       "      <th>MasVnrType_BrkFace</th>\n",
       "      <th>MasVnrType_None</th>\n",
       "      <th>MasVnrType_Stone</th>\n",
       "    </tr>\n",
       "  </thead>\n",
       "  <tbody>\n",
       "    <tr>\n",
       "      <th>0</th>\n",
       "      <td>1</td>\n",
       "      <td>8450</td>\n",
       "      <td>7</td>\n",
       "      <td>5</td>\n",
       "      <td>196.0</td>\n",
       "      <td>Gd</td>\n",
       "      <td>TA</td>\n",
       "      <td>PConc</td>\n",
       "      <td>Gd</td>\n",
       "      <td>TA</td>\n",
       "      <td>...</td>\n",
       "      <td>0</td>\n",
       "      <td>0</td>\n",
       "      <td>0</td>\n",
       "      <td>0</td>\n",
       "      <td>1</td>\n",
       "      <td>0</td>\n",
       "      <td>0</td>\n",
       "      <td>1</td>\n",
       "      <td>0</td>\n",
       "      <td>0</td>\n",
       "    </tr>\n",
       "    <tr>\n",
       "      <th>1</th>\n",
       "      <td>2</td>\n",
       "      <td>9600</td>\n",
       "      <td>6</td>\n",
       "      <td>8</td>\n",
       "      <td>0.0</td>\n",
       "      <td>TA</td>\n",
       "      <td>TA</td>\n",
       "      <td>CBlock</td>\n",
       "      <td>Gd</td>\n",
       "      <td>TA</td>\n",
       "      <td>...</td>\n",
       "      <td>0</td>\n",
       "      <td>1</td>\n",
       "      <td>0</td>\n",
       "      <td>0</td>\n",
       "      <td>0</td>\n",
       "      <td>0</td>\n",
       "      <td>0</td>\n",
       "      <td>0</td>\n",
       "      <td>1</td>\n",
       "      <td>0</td>\n",
       "    </tr>\n",
       "    <tr>\n",
       "      <th>2</th>\n",
       "      <td>3</td>\n",
       "      <td>11250</td>\n",
       "      <td>7</td>\n",
       "      <td>5</td>\n",
       "      <td>162.0</td>\n",
       "      <td>Gd</td>\n",
       "      <td>TA</td>\n",
       "      <td>PConc</td>\n",
       "      <td>Gd</td>\n",
       "      <td>TA</td>\n",
       "      <td>...</td>\n",
       "      <td>0</td>\n",
       "      <td>0</td>\n",
       "      <td>0</td>\n",
       "      <td>0</td>\n",
       "      <td>1</td>\n",
       "      <td>0</td>\n",
       "      <td>0</td>\n",
       "      <td>1</td>\n",
       "      <td>0</td>\n",
       "      <td>0</td>\n",
       "    </tr>\n",
       "    <tr>\n",
       "      <th>3</th>\n",
       "      <td>4</td>\n",
       "      <td>9550</td>\n",
       "      <td>7</td>\n",
       "      <td>5</td>\n",
       "      <td>0.0</td>\n",
       "      <td>TA</td>\n",
       "      <td>TA</td>\n",
       "      <td>BrkTil</td>\n",
       "      <td>TA</td>\n",
       "      <td>Gd</td>\n",
       "      <td>...</td>\n",
       "      <td>0</td>\n",
       "      <td>0</td>\n",
       "      <td>1</td>\n",
       "      <td>0</td>\n",
       "      <td>0</td>\n",
       "      <td>0</td>\n",
       "      <td>0</td>\n",
       "      <td>0</td>\n",
       "      <td>1</td>\n",
       "      <td>0</td>\n",
       "    </tr>\n",
       "    <tr>\n",
       "      <th>4</th>\n",
       "      <td>5</td>\n",
       "      <td>14260</td>\n",
       "      <td>8</td>\n",
       "      <td>5</td>\n",
       "      <td>350.0</td>\n",
       "      <td>Gd</td>\n",
       "      <td>TA</td>\n",
       "      <td>PConc</td>\n",
       "      <td>Gd</td>\n",
       "      <td>TA</td>\n",
       "      <td>...</td>\n",
       "      <td>0</td>\n",
       "      <td>0</td>\n",
       "      <td>0</td>\n",
       "      <td>0</td>\n",
       "      <td>1</td>\n",
       "      <td>0</td>\n",
       "      <td>0</td>\n",
       "      <td>1</td>\n",
       "      <td>0</td>\n",
       "      <td>0</td>\n",
       "    </tr>\n",
       "  </tbody>\n",
       "</table>\n",
       "<p>5 rows × 163 columns</p>\n",
       "</div>"
      ],
      "text/plain": [
       "   Id  LotArea  OverallQual  OverallCond  MasVnrArea ExterQual ExterCond  \\\n",
       "0   1     8450            7            5       196.0        Gd        TA   \n",
       "1   2     9600            6            8         0.0        TA        TA   \n",
       "2   3    11250            7            5       162.0        Gd        TA   \n",
       "3   4     9550            7            5         0.0        TA        TA   \n",
       "4   5    14260            8            5       350.0        Gd        TA   \n",
       "\n",
       "  Foundation BsmtQual BsmtCond  ... Exterior2nd_HdBoard Exterior2nd_MetalSd  \\\n",
       "0      PConc       Gd       TA  ...                   0                   0   \n",
       "1     CBlock       Gd       TA  ...                   0                   1   \n",
       "2      PConc       Gd       TA  ...                   0                   0   \n",
       "3     BrkTil       TA       Gd  ...                   0                   0   \n",
       "4      PConc       Gd       TA  ...                   0                   0   \n",
       "\n",
       "   Exterior2nd_Other Exterior2nd_Plywood  Exterior2nd_VinylSd  \\\n",
       "0                  0                   0                    1   \n",
       "1                  0                   0                    0   \n",
       "2                  0                   0                    1   \n",
       "3                  1                   0                    0   \n",
       "4                  0                   0                    1   \n",
       "\n",
       "   Exterior2nd_Wd Sdng  MasVnrType_BrkCmn MasVnrType_BrkFace MasVnrType_None  \\\n",
       "0                    0                  0                  1               0   \n",
       "1                    0                  0                  0               1   \n",
       "2                    0                  0                  1               0   \n",
       "3                    0                  0                  0               1   \n",
       "4                    0                  0                  1               0   \n",
       "\n",
       "  MasVnrType_Stone  \n",
       "0                0  \n",
       "1                0  \n",
       "2                0  \n",
       "3                0  \n",
       "4                0  \n",
       "\n",
       "[5 rows x 163 columns]"
      ]
     },
     "execution_count": 114,
     "metadata": {},
     "output_type": "execute_result"
    }
   ],
   "source": [
    "df_train.head()"
   ]
  },
  {
   "cell_type": "markdown",
   "metadata": {},
   "source": [
    "## 3.27 MasVnrArea\n",
    "    Masonry veneer area in square feet\n"
   ]
  },
  {
   "cell_type": "code",
   "execution_count": 115,
   "metadata": {},
   "outputs": [
    {
     "data": {
      "text/plain": [
       "count    1457.000000\n",
       "mean      103.574189\n",
       "std       180.456188\n",
       "min         0.000000\n",
       "25%         0.000000\n",
       "50%         0.000000\n",
       "75%       164.000000\n",
       "max      1600.000000\n",
       "Name: MasVnrArea, dtype: float64"
      ]
     },
     "execution_count": 115,
     "metadata": {},
     "output_type": "execute_result"
    }
   ],
   "source": [
    "df_train.MasVnrArea.describe()"
   ]
  },
  {
   "cell_type": "code",
   "execution_count": 116,
   "metadata": {},
   "outputs": [
    {
     "data": {
      "text/plain": [
       "<matplotlib.axes._subplots.AxesSubplot at 0x1a1eee03c8>"
      ]
     },
     "execution_count": 116,
     "metadata": {},
     "output_type": "execute_result"
    },
    {
     "data": {
      "image/png": "[encoded data removed]",
      "text/plain": [
       "<Figure size 432x288 with 1 Axes>"
      ]
     },
     "metadata": {
      "needs_background": "light"
     },
     "output_type": "display_data"
    }
   ],
   "source": [
    "df_train.MasVnrArea.plot()"
   ]
  },
  {
   "cell_type": "markdown",
   "metadata": {},
   "source": [
    "## 3.28 ExterQual: Evaluates the quality of the material on the exterior \n",
    "       Ex\tExcellent\n",
    "       Gd\tGood\n",
    "       TA\tAverage/Typical\n",
    "       Fa\tFair\n",
    "       Po\tPoor"
   ]
  },
  {
   "cell_type": "code",
   "execution_count": 117,
   "metadata": {},
   "outputs": [
    {
     "data": {
      "text/plain": [
       "TA    904\n",
       "Gd    487\n",
       "Ex     52\n",
       "Fa     14\n",
       "Name: ExterQual, dtype: int64"
      ]
     },
     "execution_count": 117,
     "metadata": {},
     "output_type": "execute_result"
    }
   ],
   "source": [
    "df_train.ExterQual.value_counts(dropna=False)"
   ]
  },
  {
   "cell_type": "code",
   "execution_count": 118,
   "metadata": {},
   "outputs": [],
   "source": [
    "df_train = pd.concat([df_train, pd.get_dummies(df_train.ExterQual, prefix='ExterQual')], axis=1)\n",
    "df_test = pd.concat([df_test, pd.get_dummies(df_test.ExterQual, prefix='ExterQual')], axis=1)"
   ]
  },
  {
   "cell_type": "code",
   "execution_count": 119,
   "metadata": {},
   "outputs": [],
   "source": [
    "df_train.drop('ExterQual', axis=1, inplace=True)\n",
    "df_test.drop('ExterQual', axis=1, inplace=True)"
   ]
  },
  {
   "cell_type": "code",
   "execution_count": 120,
   "metadata": {},
   "outputs": [
    {
     "data": {
      "text/html": [
       "<div>\n",
       "<style scoped>\n",
       "    .dataframe tbody tr th:only-of-type {\n",
       "        vertical-align: middle;\n",
       "    }\n",
       "\n",
       "    .dataframe tbody tr th {\n",
       "        vertical-align: top;\n",
       "    }\n",
       "\n",
       "    .dataframe thead th {\n",
       "        text-align: right;\n",
       "    }\n",
       "</style>\n",
       "<table border=\"1\" class=\"dataframe\">\n",
       "  <thead>\n",
       "    <tr style=\"text-align: right;\">\n",
       "      <th></th>\n",
       "      <th>Id</th>\n",
       "      <th>LotArea</th>\n",
       "      <th>OverallQual</th>\n",
       "      <th>OverallCond</th>\n",
       "      <th>MasVnrArea</th>\n",
       "      <th>ExterCond</th>\n",
       "      <th>Foundation</th>\n",
       "      <th>BsmtQual</th>\n",
       "      <th>BsmtCond</th>\n",
       "      <th>BsmtExposure</th>\n",
       "      <th>...</th>\n",
       "      <th>Exterior2nd_VinylSd</th>\n",
       "      <th>Exterior2nd_Wd Sdng</th>\n",
       "      <th>MasVnrType_BrkCmn</th>\n",
       "      <th>MasVnrType_BrkFace</th>\n",
       "      <th>MasVnrType_None</th>\n",
       "      <th>MasVnrType_Stone</th>\n",
       "      <th>ExterQual_Ex</th>\n",
       "      <th>ExterQual_Fa</th>\n",
       "      <th>ExterQual_Gd</th>\n",
       "      <th>ExterQual_TA</th>\n",
       "    </tr>\n",
       "  </thead>\n",
       "  <tbody>\n",
       "    <tr>\n",
       "      <th>0</th>\n",
       "      <td>1</td>\n",
       "      <td>8450</td>\n",
       "      <td>7</td>\n",
       "      <td>5</td>\n",
       "      <td>196.0</td>\n",
       "      <td>TA</td>\n",
       "      <td>PConc</td>\n",
       "      <td>Gd</td>\n",
       "      <td>TA</td>\n",
       "      <td>No</td>\n",
       "      <td>...</td>\n",
       "      <td>1</td>\n",
       "      <td>0</td>\n",
       "      <td>0</td>\n",
       "      <td>1</td>\n",
       "      <td>0</td>\n",
       "      <td>0</td>\n",
       "      <td>0</td>\n",
       "      <td>0</td>\n",
       "      <td>1</td>\n",
       "      <td>0</td>\n",
       "    </tr>\n",
       "    <tr>\n",
       "      <th>1</th>\n",
       "      <td>2</td>\n",
       "      <td>9600</td>\n",
       "      <td>6</td>\n",
       "      <td>8</td>\n",
       "      <td>0.0</td>\n",
       "      <td>TA</td>\n",
       "      <td>CBlock</td>\n",
       "      <td>Gd</td>\n",
       "      <td>TA</td>\n",
       "      <td>Gd</td>\n",
       "      <td>...</td>\n",
       "      <td>0</td>\n",
       "      <td>0</td>\n",
       "      <td>0</td>\n",
       "      <td>0</td>\n",
       "      <td>1</td>\n",
       "      <td>0</td>\n",
       "      <td>0</td>\n",
       "      <td>0</td>\n",
       "      <td>0</td>\n",
       "      <td>1</td>\n",
       "    </tr>\n",
       "    <tr>\n",
       "      <th>2</th>\n",
       "      <td>3</td>\n",
       "      <td>11250</td>\n",
       "      <td>7</td>\n",
       "      <td>5</td>\n",
       "      <td>162.0</td>\n",
       "      <td>TA</td>\n",
       "      <td>PConc</td>\n",
       "      <td>Gd</td>\n",
       "      <td>TA</td>\n",
       "      <td>Mn</td>\n",
       "      <td>...</td>\n",
       "      <td>1</td>\n",
       "      <td>0</td>\n",
       "      <td>0</td>\n",
       "      <td>1</td>\n",
       "      <td>0</td>\n",
       "      <td>0</td>\n",
       "      <td>0</td>\n",
       "      <td>0</td>\n",
       "      <td>1</td>\n",
       "      <td>0</td>\n",
       "    </tr>\n",
       "    <tr>\n",
       "      <th>3</th>\n",
       "      <td>4</td>\n",
       "      <td>9550</td>\n",
       "      <td>7</td>\n",
       "      <td>5</td>\n",
       "      <td>0.0</td>\n",
       "      <td>TA</td>\n",
       "      <td>BrkTil</td>\n",
       "      <td>TA</td>\n",
       "      <td>Gd</td>\n",
       "      <td>No</td>\n",
       "      <td>...</td>\n",
       "      <td>0</td>\n",
       "      <td>0</td>\n",
       "      <td>0</td>\n",
       "      <td>0</td>\n",
       "      <td>1</td>\n",
       "      <td>0</td>\n",
       "      <td>0</td>\n",
       "      <td>0</td>\n",
       "      <td>0</td>\n",
       "      <td>1</td>\n",
       "    </tr>\n",
       "    <tr>\n",
       "      <th>4</th>\n",
       "      <td>5</td>\n",
       "      <td>14260</td>\n",
       "      <td>8</td>\n",
       "      <td>5</td>\n",
       "      <td>350.0</td>\n",
       "      <td>TA</td>\n",
       "      <td>PConc</td>\n",
       "      <td>Gd</td>\n",
       "      <td>TA</td>\n",
       "      <td>Av</td>\n",
       "      <td>...</td>\n",
       "      <td>1</td>\n",
       "      <td>0</td>\n",
       "      <td>0</td>\n",
       "      <td>1</td>\n",
       "      <td>0</td>\n",
       "      <td>0</td>\n",
       "      <td>0</td>\n",
       "      <td>0</td>\n",
       "      <td>1</td>\n",
       "      <td>0</td>\n",
       "    </tr>\n",
       "  </tbody>\n",
       "</table>\n",
       "<p>5 rows × 166 columns</p>\n",
       "</div>"
      ],
      "text/plain": [
       "   Id  LotArea  OverallQual  OverallCond  MasVnrArea ExterCond Foundation  \\\n",
       "0   1     8450            7            5       196.0        TA      PConc   \n",
       "1   2     9600            6            8         0.0        TA     CBlock   \n",
       "2   3    11250            7            5       162.0        TA      PConc   \n",
       "3   4     9550            7            5         0.0        TA     BrkTil   \n",
       "4   5    14260            8            5       350.0        TA      PConc   \n",
       "\n",
       "  BsmtQual BsmtCond BsmtExposure  ... Exterior2nd_VinylSd  \\\n",
       "0       Gd       TA           No  ...                   1   \n",
       "1       Gd       TA           Gd  ...                   0   \n",
       "2       Gd       TA           Mn  ...                   1   \n",
       "3       TA       Gd           No  ...                   0   \n",
       "4       Gd       TA           Av  ...                   1   \n",
       "\n",
       "   Exterior2nd_Wd Sdng MasVnrType_BrkCmn  MasVnrType_BrkFace  MasVnrType_None  \\\n",
       "0                    0                 0                   1                0   \n",
       "1                    0                 0                   0                1   \n",
       "2                    0                 0                   1                0   \n",
       "3                    0                 0                   0                1   \n",
       "4                    0                 0                   1                0   \n",
       "\n",
       "   MasVnrType_Stone ExterQual_Ex ExterQual_Fa ExterQual_Gd ExterQual_TA  \n",
       "0                 0            0            0            1            0  \n",
       "1                 0            0            0            0            1  \n",
       "2                 0            0            0            1            0  \n",
       "3                 0            0            0            0            1  \n",
       "4                 0            0            0            1            0  \n",
       "\n",
       "[5 rows x 166 columns]"
      ]
     },
     "execution_count": 120,
     "metadata": {},
     "output_type": "execute_result"
    }
   ],
   "source": [
    "df_train.head()"
   ]
  },
  {
   "cell_type": "markdown",
   "metadata": {},
   "source": [
    "## 3.29 ExterCond: Evaluates the present condition of the material on the exterior\n",
    "       Ex\tExcellent\n",
    "       Gd\tGood\n",
    "       TA\tAverage/Typical\n",
    "       Fa\tFair\n",
    "       Po\tPoor"
   ]
  },
  {
   "cell_type": "code",
   "execution_count": 121,
   "metadata": {},
   "outputs": [
    {
     "data": {
      "text/plain": [
       "TA    1279\n",
       "Gd     146\n",
       "Fa      28\n",
       "Ex       3\n",
       "Po       1\n",
       "Name: ExterCond, dtype: int64"
      ]
     },
     "execution_count": 121,
     "metadata": {},
     "output_type": "execute_result"
    }
   ],
   "source": [
    "df_train.ExterCond.value_counts(dropna=False)"
   ]
  },
  {
   "cell_type": "code",
   "execution_count": 122,
   "metadata": {},
   "outputs": [],
   "source": [
    "df_train = pd.concat([df_train, pd.get_dummies(df_train.ExterCond, prefix='ExterCond')], axis=1)\n",
    "df_test = pd.concat([df_test, pd.get_dummies(df_test.ExterCond, prefix='ExterCond')], axis=1)"
   ]
  },
  {
   "cell_type": "code",
   "execution_count": 123,
   "metadata": {},
   "outputs": [],
   "source": [
    "df_train.drop('ExterCond', axis=1, inplace=True)\n",
    "df_test.drop('ExterCond', axis=1, inplace=True)"
   ]
  },
  {
   "cell_type": "code",
   "execution_count": 124,
   "metadata": {},
   "outputs": [
    {
     "data": {
      "text/html": [
       "<div>\n",
       "<style scoped>\n",
       "    .dataframe tbody tr th:only-of-type {\n",
       "        vertical-align: middle;\n",
       "    }\n",
       "\n",
       "    .dataframe tbody tr th {\n",
       "        vertical-align: top;\n",
       "    }\n",
       "\n",
       "    .dataframe thead th {\n",
       "        text-align: right;\n",
       "    }\n",
       "</style>\n",
       "<table border=\"1\" class=\"dataframe\">\n",
       "  <thead>\n",
       "    <tr style=\"text-align: right;\">\n",
       "      <th></th>\n",
       "      <th>Id</th>\n",
       "      <th>LotArea</th>\n",
       "      <th>OverallQual</th>\n",
       "      <th>OverallCond</th>\n",
       "      <th>MasVnrArea</th>\n",
       "      <th>Foundation</th>\n",
       "      <th>BsmtQual</th>\n",
       "      <th>BsmtCond</th>\n",
       "      <th>BsmtExposure</th>\n",
       "      <th>BsmtFinType1</th>\n",
       "      <th>...</th>\n",
       "      <th>MasVnrType_Stone</th>\n",
       "      <th>ExterQual_Ex</th>\n",
       "      <th>ExterQual_Fa</th>\n",
       "      <th>ExterQual_Gd</th>\n",
       "      <th>ExterQual_TA</th>\n",
       "      <th>ExterCond_Ex</th>\n",
       "      <th>ExterCond_Fa</th>\n",
       "      <th>ExterCond_Gd</th>\n",
       "      <th>ExterCond_Po</th>\n",
       "      <th>ExterCond_TA</th>\n",
       "    </tr>\n",
       "  </thead>\n",
       "  <tbody>\n",
       "    <tr>\n",
       "      <th>0</th>\n",
       "      <td>1</td>\n",
       "      <td>8450</td>\n",
       "      <td>7</td>\n",
       "      <td>5</td>\n",
       "      <td>196.0</td>\n",
       "      <td>PConc</td>\n",
       "      <td>Gd</td>\n",
       "      <td>TA</td>\n",
       "      <td>No</td>\n",
       "      <td>GLQ</td>\n",
       "      <td>...</td>\n",
       "      <td>0</td>\n",
       "      <td>0</td>\n",
       "      <td>0</td>\n",
       "      <td>1</td>\n",
       "      <td>0</td>\n",
       "      <td>0</td>\n",
       "      <td>0</td>\n",
       "      <td>0</td>\n",
       "      <td>0</td>\n",
       "      <td>1</td>\n",
       "    </tr>\n",
       "    <tr>\n",
       "      <th>1</th>\n",
       "      <td>2</td>\n",
       "      <td>9600</td>\n",
       "      <td>6</td>\n",
       "      <td>8</td>\n",
       "      <td>0.0</td>\n",
       "      <td>CBlock</td>\n",
       "      <td>Gd</td>\n",
       "      <td>TA</td>\n",
       "      <td>Gd</td>\n",
       "      <td>ALQ</td>\n",
       "      <td>...</td>\n",
       "      <td>0</td>\n",
       "      <td>0</td>\n",
       "      <td>0</td>\n",
       "      <td>0</td>\n",
       "      <td>1</td>\n",
       "      <td>0</td>\n",
       "      <td>0</td>\n",
       "      <td>0</td>\n",
       "      <td>0</td>\n",
       "      <td>1</td>\n",
       "    </tr>\n",
       "    <tr>\n",
       "      <th>2</th>\n",
       "      <td>3</td>\n",
       "      <td>11250</td>\n",
       "      <td>7</td>\n",
       "      <td>5</td>\n",
       "      <td>162.0</td>\n",
       "      <td>PConc</td>\n",
       "      <td>Gd</td>\n",
       "      <td>TA</td>\n",
       "      <td>Mn</td>\n",
       "      <td>GLQ</td>\n",
       "      <td>...</td>\n",
       "      <td>0</td>\n",
       "      <td>0</td>\n",
       "      <td>0</td>\n",
       "      <td>1</td>\n",
       "      <td>0</td>\n",
       "      <td>0</td>\n",
       "      <td>0</td>\n",
       "      <td>0</td>\n",
       "      <td>0</td>\n",
       "      <td>1</td>\n",
       "    </tr>\n",
       "    <tr>\n",
       "      <th>3</th>\n",
       "      <td>4</td>\n",
       "      <td>9550</td>\n",
       "      <td>7</td>\n",
       "      <td>5</td>\n",
       "      <td>0.0</td>\n",
       "      <td>BrkTil</td>\n",
       "      <td>TA</td>\n",
       "      <td>Gd</td>\n",
       "      <td>No</td>\n",
       "      <td>ALQ</td>\n",
       "      <td>...</td>\n",
       "      <td>0</td>\n",
       "      <td>0</td>\n",
       "      <td>0</td>\n",
       "      <td>0</td>\n",
       "      <td>1</td>\n",
       "      <td>0</td>\n",
       "      <td>0</td>\n",
       "      <td>0</td>\n",
       "      <td>0</td>\n",
       "      <td>1</td>\n",
       "    </tr>\n",
       "    <tr>\n",
       "      <th>4</th>\n",
       "      <td>5</td>\n",
       "      <td>14260</td>\n",
       "      <td>8</td>\n",
       "      <td>5</td>\n",
       "      <td>350.0</td>\n",
       "      <td>PConc</td>\n",
       "      <td>Gd</td>\n",
       "      <td>TA</td>\n",
       "      <td>Av</td>\n",
       "      <td>GLQ</td>\n",
       "      <td>...</td>\n",
       "      <td>0</td>\n",
       "      <td>0</td>\n",
       "      <td>0</td>\n",
       "      <td>1</td>\n",
       "      <td>0</td>\n",
       "      <td>0</td>\n",
       "      <td>0</td>\n",
       "      <td>0</td>\n",
       "      <td>0</td>\n",
       "      <td>1</td>\n",
       "    </tr>\n",
       "  </tbody>\n",
       "</table>\n",
       "<p>5 rows × 170 columns</p>\n",
       "</div>"
      ],
      "text/plain": [
       "   Id  LotArea  OverallQual  OverallCond  MasVnrArea Foundation BsmtQual  \\\n",
       "0   1     8450            7            5       196.0      PConc       Gd   \n",
       "1   2     9600            6            8         0.0     CBlock       Gd   \n",
       "2   3    11250            7            5       162.0      PConc       Gd   \n",
       "3   4     9550            7            5         0.0     BrkTil       TA   \n",
       "4   5    14260            8            5       350.0      PConc       Gd   \n",
       "\n",
       "  BsmtCond BsmtExposure BsmtFinType1  ...  MasVnrType_Stone ExterQual_Ex  \\\n",
       "0       TA           No          GLQ  ...                 0            0   \n",
       "1       TA           Gd          ALQ  ...                 0            0   \n",
       "2       TA           Mn          GLQ  ...                 0            0   \n",
       "3       Gd           No          ALQ  ...                 0            0   \n",
       "4       TA           Av          GLQ  ...                 0            0   \n",
       "\n",
       "   ExterQual_Fa  ExterQual_Gd  ExterQual_TA ExterCond_Ex ExterCond_Fa  \\\n",
       "0             0             1             0            0            0   \n",
       "1             0             0             1            0            0   \n",
       "2             0             1             0            0            0   \n",
       "3             0             0             1            0            0   \n",
       "4             0             1             0            0            0   \n",
       "\n",
       "  ExterCond_Gd ExterCond_Po  ExterCond_TA  \n",
       "0            0            0             1  \n",
       "1            0            0             1  \n",
       "2            0            0             1  \n",
       "3            0            0             1  \n",
       "4            0            0             1  \n",
       "\n",
       "[5 rows x 170 columns]"
      ]
     },
     "execution_count": 124,
     "metadata": {},
     "output_type": "execute_result"
    }
   ],
   "source": [
    "df_train.head()"
   ]
  },
  {
   "cell_type": "markdown",
   "metadata": {},
   "source": [
    "## 3.30 Foundation: Type of foundation\n",
    "       BrkTil\tBrick & Tile\n",
    "       CBlock\tCinder Block\n",
    "       PConc\t Poured Contrete\t\n",
    "       Slab\t  Slab\n",
    "       Stone\t Stone\n",
    "       Wood\t  Wood\n"
   ]
  },
  {
   "cell_type": "code",
   "execution_count": 125,
   "metadata": {},
   "outputs": [
    {
     "data": {
      "text/plain": [
       "PConc     647\n",
       "CBlock    631\n",
       "BrkTil    146\n",
       "Slab       24\n",
       "Stone       6\n",
       "Wood        3\n",
       "Name: Foundation, dtype: int64"
      ]
     },
     "execution_count": 125,
     "metadata": {},
     "output_type": "execute_result"
    }
   ],
   "source": [
    "df_train.Foundation.value_counts(dropna=False)"
   ]
  },
  {
   "cell_type": "code",
   "execution_count": 126,
   "metadata": {},
   "outputs": [],
   "source": [
    "df_train = pd.concat([df_train, pd.get_dummies(df_train.Foundation, prefix='Foundation')], axis=1)\n",
    "df_test = pd.concat([df_test, pd.get_dummies(df_test.Foundation, prefix='Foundation')], axis=1)"
   ]
  },
  {
   "cell_type": "code",
   "execution_count": 127,
   "metadata": {},
   "outputs": [],
   "source": [
    "df_train.drop('Foundation', axis=1, inplace=True)\n",
    "df_test.drop('Foundation', axis=1, inplace=True)"
   ]
  },
  {
   "cell_type": "code",
   "execution_count": 128,
   "metadata": {},
   "outputs": [
    {
     "data": {
      "text/html": [
       "<div>\n",
       "<style scoped>\n",
       "    .dataframe tbody tr th:only-of-type {\n",
       "        vertical-align: middle;\n",
       "    }\n",
       "\n",
       "    .dataframe tbody tr th {\n",
       "        vertical-align: top;\n",
       "    }\n",
       "\n",
       "    .dataframe thead th {\n",
       "        text-align: right;\n",
       "    }\n",
       "</style>\n",
       "<table border=\"1\" class=\"dataframe\">\n",
       "  <thead>\n",
       "    <tr style=\"text-align: right;\">\n",
       "      <th></th>\n",
       "      <th>Id</th>\n",
       "      <th>LotArea</th>\n",
       "      <th>OverallQual</th>\n",
       "      <th>OverallCond</th>\n",
       "      <th>MasVnrArea</th>\n",
       "      <th>BsmtQual</th>\n",
       "      <th>BsmtCond</th>\n",
       "      <th>BsmtExposure</th>\n",
       "      <th>BsmtFinType1</th>\n",
       "      <th>BsmtFinSF1</th>\n",
       "      <th>...</th>\n",
       "      <th>ExterCond_Fa</th>\n",
       "      <th>ExterCond_Gd</th>\n",
       "      <th>ExterCond_Po</th>\n",
       "      <th>ExterCond_TA</th>\n",
       "      <th>Foundation_BrkTil</th>\n",
       "      <th>Foundation_CBlock</th>\n",
       "      <th>Foundation_PConc</th>\n",
       "      <th>Foundation_Slab</th>\n",
       "      <th>Foundation_Stone</th>\n",
       "      <th>Foundation_Wood</th>\n",
       "    </tr>\n",
       "  </thead>\n",
       "  <tbody>\n",
       "    <tr>\n",
       "      <th>0</th>\n",
       "      <td>1</td>\n",
       "      <td>8450</td>\n",
       "      <td>7</td>\n",
       "      <td>5</td>\n",
       "      <td>196.0</td>\n",
       "      <td>Gd</td>\n",
       "      <td>TA</td>\n",
       "      <td>No</td>\n",
       "      <td>GLQ</td>\n",
       "      <td>706</td>\n",
       "      <td>...</td>\n",
       "      <td>0</td>\n",
       "      <td>0</td>\n",
       "      <td>0</td>\n",
       "      <td>1</td>\n",
       "      <td>0</td>\n",
       "      <td>0</td>\n",
       "      <td>1</td>\n",
       "      <td>0</td>\n",
       "      <td>0</td>\n",
       "      <td>0</td>\n",
       "    </tr>\n",
       "    <tr>\n",
       "      <th>1</th>\n",
       "      <td>2</td>\n",
       "      <td>9600</td>\n",
       "      <td>6</td>\n",
       "      <td>8</td>\n",
       "      <td>0.0</td>\n",
       "      <td>Gd</td>\n",
       "      <td>TA</td>\n",
       "      <td>Gd</td>\n",
       "      <td>ALQ</td>\n",
       "      <td>978</td>\n",
       "      <td>...</td>\n",
       "      <td>0</td>\n",
       "      <td>0</td>\n",
       "      <td>0</td>\n",
       "      <td>1</td>\n",
       "      <td>0</td>\n",
       "      <td>1</td>\n",
       "      <td>0</td>\n",
       "      <td>0</td>\n",
       "      <td>0</td>\n",
       "      <td>0</td>\n",
       "    </tr>\n",
       "    <tr>\n",
       "      <th>2</th>\n",
       "      <td>3</td>\n",
       "      <td>11250</td>\n",
       "      <td>7</td>\n",
       "      <td>5</td>\n",
       "      <td>162.0</td>\n",
       "      <td>Gd</td>\n",
       "      <td>TA</td>\n",
       "      <td>Mn</td>\n",
       "      <td>GLQ</td>\n",
       "      <td>486</td>\n",
       "      <td>...</td>\n",
       "      <td>0</td>\n",
       "      <td>0</td>\n",
       "      <td>0</td>\n",
       "      <td>1</td>\n",
       "      <td>0</td>\n",
       "      <td>0</td>\n",
       "      <td>1</td>\n",
       "      <td>0</td>\n",
       "      <td>0</td>\n",
       "      <td>0</td>\n",
       "    </tr>\n",
       "    <tr>\n",
       "      <th>3</th>\n",
       "      <td>4</td>\n",
       "      <td>9550</td>\n",
       "      <td>7</td>\n",
       "      <td>5</td>\n",
       "      <td>0.0</td>\n",
       "      <td>TA</td>\n",
       "      <td>Gd</td>\n",
       "      <td>No</td>\n",
       "      <td>ALQ</td>\n",
       "      <td>216</td>\n",
       "      <td>...</td>\n",
       "      <td>0</td>\n",
       "      <td>0</td>\n",
       "      <td>0</td>\n",
       "      <td>1</td>\n",
       "      <td>1</td>\n",
       "      <td>0</td>\n",
       "      <td>0</td>\n",
       "      <td>0</td>\n",
       "      <td>0</td>\n",
       "      <td>0</td>\n",
       "    </tr>\n",
       "    <tr>\n",
       "      <th>4</th>\n",
       "      <td>5</td>\n",
       "      <td>14260</td>\n",
       "      <td>8</td>\n",
       "      <td>5</td>\n",
       "      <td>350.0</td>\n",
       "      <td>Gd</td>\n",
       "      <td>TA</td>\n",
       "      <td>Av</td>\n",
       "      <td>GLQ</td>\n",
       "      <td>655</td>\n",
       "      <td>...</td>\n",
       "      <td>0</td>\n",
       "      <td>0</td>\n",
       "      <td>0</td>\n",
       "      <td>1</td>\n",
       "      <td>0</td>\n",
       "      <td>0</td>\n",
       "      <td>1</td>\n",
       "      <td>0</td>\n",
       "      <td>0</td>\n",
       "      <td>0</td>\n",
       "    </tr>\n",
       "  </tbody>\n",
       "</table>\n",
       "<p>5 rows × 175 columns</p>\n",
       "</div>"
      ],
      "text/plain": [
       "   Id  LotArea  OverallQual  OverallCond  MasVnrArea BsmtQual BsmtCond  \\\n",
       "0   1     8450            7            5       196.0       Gd       TA   \n",
       "1   2     9600            6            8         0.0       Gd       TA   \n",
       "2   3    11250            7            5       162.0       Gd       TA   \n",
       "3   4     9550            7            5         0.0       TA       Gd   \n",
       "4   5    14260            8            5       350.0       Gd       TA   \n",
       "\n",
       "  BsmtExposure BsmtFinType1  BsmtFinSF1  ... ExterCond_Fa  ExterCond_Gd  \\\n",
       "0           No          GLQ         706  ...            0             0   \n",
       "1           Gd          ALQ         978  ...            0             0   \n",
       "2           Mn          GLQ         486  ...            0             0   \n",
       "3           No          ALQ         216  ...            0             0   \n",
       "4           Av          GLQ         655  ...            0             0   \n",
       "\n",
       "   ExterCond_Po  ExterCond_TA Foundation_BrkTil Foundation_CBlock  \\\n",
       "0             0             1                 0                 0   \n",
       "1             0             1                 0                 1   \n",
       "2             0             1                 0                 0   \n",
       "3             0             1                 1                 0   \n",
       "4             0             1                 0                 0   \n",
       "\n",
       "  Foundation_PConc Foundation_Slab  Foundation_Stone  Foundation_Wood  \n",
       "0                1               0                 0                0  \n",
       "1                0               0                 0                0  \n",
       "2                1               0                 0                0  \n",
       "3                0               0                 0                0  \n",
       "4                1               0                 0                0  \n",
       "\n",
       "[5 rows x 175 columns]"
      ]
     },
     "execution_count": 128,
     "metadata": {},
     "output_type": "execute_result"
    }
   ],
   "source": [
    "df_train.head()"
   ]
  },
  {
   "cell_type": "markdown",
   "metadata": {},
   "source": [
    "## 3.31 BsmtQual: Evaluates the height of the basement\n",
    "       Ex\tExcellent (100+ inches)\t\n",
    "       Gd\tGood (90-99 inches)\n",
    "       TA\tTypical (80-89 inches)\n",
    "       Fa\tFair (70-79 inches)\n",
    "       Po\tPoor (<70 inches\n",
    "       NA\tNo Basement"
   ]
  },
  {
   "cell_type": "code",
   "execution_count": 129,
   "metadata": {},
   "outputs": [
    {
     "data": {
      "text/plain": [
       "TA     648\n",
       "Gd     616\n",
       "Ex     121\n",
       "NaN     37\n",
       "Fa      35\n",
       "Name: BsmtQual, dtype: int64"
      ]
     },
     "execution_count": 129,
     "metadata": {},
     "output_type": "execute_result"
    }
   ],
   "source": [
    "df_train.BsmtQual.value_counts(dropna=False)"
   ]
  },
  {
   "cell_type": "code",
   "execution_count": 130,
   "metadata": {},
   "outputs": [],
   "source": [
    "df_train = pd.concat([df_train, pd.get_dummies(df_train.BsmtQual, prefix='BsmtQual')], axis=1)\n",
    "df_test = pd.concat([df_test, pd.get_dummies(df_test.BsmtQual, prefix='BsmtQual')], axis=1)"
   ]
  },
  {
   "cell_type": "code",
   "execution_count": 131,
   "metadata": {},
   "outputs": [],
   "source": [
    "df_train.drop('BsmtQual', axis=1, inplace=True)\n",
    "df_test.drop('BsmtQual', axis=1, inplace=True)"
   ]
  },
  {
   "cell_type": "code",
   "execution_count": 132,
   "metadata": {},
   "outputs": [
    {
     "data": {
      "text/html": [
       "<div>\n",
       "<style scoped>\n",
       "    .dataframe tbody tr th:only-of-type {\n",
       "        vertical-align: middle;\n",
       "    }\n",
       "\n",
       "    .dataframe tbody tr th {\n",
       "        vertical-align: top;\n",
       "    }\n",
       "\n",
       "    .dataframe thead th {\n",
       "        text-align: right;\n",
       "    }\n",
       "</style>\n",
       "<table border=\"1\" class=\"dataframe\">\n",
       "  <thead>\n",
       "    <tr style=\"text-align: right;\">\n",
       "      <th></th>\n",
       "      <th>Id</th>\n",
       "      <th>LotArea</th>\n",
       "      <th>OverallQual</th>\n",
       "      <th>OverallCond</th>\n",
       "      <th>MasVnrArea</th>\n",
       "      <th>BsmtCond</th>\n",
       "      <th>BsmtExposure</th>\n",
       "      <th>BsmtFinType1</th>\n",
       "      <th>BsmtFinSF1</th>\n",
       "      <th>BsmtFinType2</th>\n",
       "      <th>...</th>\n",
       "      <th>Foundation_BrkTil</th>\n",
       "      <th>Foundation_CBlock</th>\n",
       "      <th>Foundation_PConc</th>\n",
       "      <th>Foundation_Slab</th>\n",
       "      <th>Foundation_Stone</th>\n",
       "      <th>Foundation_Wood</th>\n",
       "      <th>BsmtQual_Ex</th>\n",
       "      <th>BsmtQual_Fa</th>\n",
       "      <th>BsmtQual_Gd</th>\n",
       "      <th>BsmtQual_TA</th>\n",
       "    </tr>\n",
       "  </thead>\n",
       "  <tbody>\n",
       "    <tr>\n",
       "      <th>0</th>\n",
       "      <td>1</td>\n",
       "      <td>8450</td>\n",
       "      <td>7</td>\n",
       "      <td>5</td>\n",
       "      <td>196.0</td>\n",
       "      <td>TA</td>\n",
       "      <td>No</td>\n",
       "      <td>GLQ</td>\n",
       "      <td>706</td>\n",
       "      <td>Unf</td>\n",
       "      <td>...</td>\n",
       "      <td>0</td>\n",
       "      <td>0</td>\n",
       "      <td>1</td>\n",
       "      <td>0</td>\n",
       "      <td>0</td>\n",
       "      <td>0</td>\n",
       "      <td>0</td>\n",
       "      <td>0</td>\n",
       "      <td>1</td>\n",
       "      <td>0</td>\n",
       "    </tr>\n",
       "    <tr>\n",
       "      <th>1</th>\n",
       "      <td>2</td>\n",
       "      <td>9600</td>\n",
       "      <td>6</td>\n",
       "      <td>8</td>\n",
       "      <td>0.0</td>\n",
       "      <td>TA</td>\n",
       "      <td>Gd</td>\n",
       "      <td>ALQ</td>\n",
       "      <td>978</td>\n",
       "      <td>Unf</td>\n",
       "      <td>...</td>\n",
       "      <td>0</td>\n",
       "      <td>1</td>\n",
       "      <td>0</td>\n",
       "      <td>0</td>\n",
       "      <td>0</td>\n",
       "      <td>0</td>\n",
       "      <td>0</td>\n",
       "      <td>0</td>\n",
       "      <td>1</td>\n",
       "      <td>0</td>\n",
       "    </tr>\n",
       "    <tr>\n",
       "      <th>2</th>\n",
       "      <td>3</td>\n",
       "      <td>11250</td>\n",
       "      <td>7</td>\n",
       "      <td>5</td>\n",
       "      <td>162.0</td>\n",
       "      <td>TA</td>\n",
       "      <td>Mn</td>\n",
       "      <td>GLQ</td>\n",
       "      <td>486</td>\n",
       "      <td>Unf</td>\n",
       "      <td>...</td>\n",
       "      <td>0</td>\n",
       "      <td>0</td>\n",
       "      <td>1</td>\n",
       "      <td>0</td>\n",
       "      <td>0</td>\n",
       "      <td>0</td>\n",
       "      <td>0</td>\n",
       "      <td>0</td>\n",
       "      <td>1</td>\n",
       "      <td>0</td>\n",
       "    </tr>\n",
       "    <tr>\n",
       "      <th>3</th>\n",
       "      <td>4</td>\n",
       "      <td>9550</td>\n",
       "      <td>7</td>\n",
       "      <td>5</td>\n",
       "      <td>0.0</td>\n",
       "      <td>Gd</td>\n",
       "      <td>No</td>\n",
       "      <td>ALQ</td>\n",
       "      <td>216</td>\n",
       "      <td>Unf</td>\n",
       "      <td>...</td>\n",
       "      <td>1</td>\n",
       "      <td>0</td>\n",
       "      <td>0</td>\n",
       "      <td>0</td>\n",
       "      <td>0</td>\n",
       "      <td>0</td>\n",
       "      <td>0</td>\n",
       "      <td>0</td>\n",
       "      <td>0</td>\n",
       "      <td>1</td>\n",
       "    </tr>\n",
       "    <tr>\n",
       "      <th>4</th>\n",
       "      <td>5</td>\n",
       "      <td>14260</td>\n",
       "      <td>8</td>\n",
       "      <td>5</td>\n",
       "      <td>350.0</td>\n",
       "      <td>TA</td>\n",
       "      <td>Av</td>\n",
       "      <td>GLQ</td>\n",
       "      <td>655</td>\n",
       "      <td>Unf</td>\n",
       "      <td>...</td>\n",
       "      <td>0</td>\n",
       "      <td>0</td>\n",
       "      <td>1</td>\n",
       "      <td>0</td>\n",
       "      <td>0</td>\n",
       "      <td>0</td>\n",
       "      <td>0</td>\n",
       "      <td>0</td>\n",
       "      <td>1</td>\n",
       "      <td>0</td>\n",
       "    </tr>\n",
       "  </tbody>\n",
       "</table>\n",
       "<p>5 rows × 178 columns</p>\n",
       "</div>"
      ],
      "text/plain": [
       "   Id  LotArea  OverallQual  OverallCond  MasVnrArea BsmtCond BsmtExposure  \\\n",
       "0   1     8450            7            5       196.0       TA           No   \n",
       "1   2     9600            6            8         0.0       TA           Gd   \n",
       "2   3    11250            7            5       162.0       TA           Mn   \n",
       "3   4     9550            7            5         0.0       Gd           No   \n",
       "4   5    14260            8            5       350.0       TA           Av   \n",
       "\n",
       "  BsmtFinType1  BsmtFinSF1 BsmtFinType2  ...  Foundation_BrkTil  \\\n",
       "0          GLQ         706          Unf  ...                  0   \n",
       "1          ALQ         978          Unf  ...                  0   \n",
       "2          GLQ         486          Unf  ...                  0   \n",
       "3          ALQ         216          Unf  ...                  1   \n",
       "4          GLQ         655          Unf  ...                  0   \n",
       "\n",
       "   Foundation_CBlock  Foundation_PConc Foundation_Slab Foundation_Stone  \\\n",
       "0                  0                 1               0                0   \n",
       "1                  1                 0               0                0   \n",
       "2                  0                 1               0                0   \n",
       "3                  0                 0               0                0   \n",
       "4                  0                 1               0                0   \n",
       "\n",
       "  Foundation_Wood BsmtQual_Ex  BsmtQual_Fa  BsmtQual_Gd  BsmtQual_TA  \n",
       "0               0           0            0            1            0  \n",
       "1               0           0            0            1            0  \n",
       "2               0           0            0            1            0  \n",
       "3               0           0            0            0            1  \n",
       "4               0           0            0            1            0  \n",
       "\n",
       "[5 rows x 178 columns]"
      ]
     },
     "execution_count": 132,
     "metadata": {},
     "output_type": "execute_result"
    }
   ],
   "source": [
    "df_train.head()"
   ]
  },
  {
   "cell_type": "markdown",
   "metadata": {},
   "source": [
    "## 3.32 BsmtCond: Evaluates the general condition of the basement\n",
    "       Ex\tExcellent\n",
    "       Gd\tGood\n",
    "       TA\tTypical - slight dampness allowed\n",
    "       Fa\tFair - dampness or some cracking or settling\n",
    "       Po\tPoor - Severe cracking, settling, or wetness\n",
    "       NA\tNo Basement"
   ]
  },
  {
   "cell_type": "code",
   "execution_count": 133,
   "metadata": {},
   "outputs": [
    {
     "data": {
      "text/plain": [
       "TA     1308\n",
       "Gd       65\n",
       "Fa       45\n",
       "NaN      37\n",
       "Po        2\n",
       "Name: BsmtCond, dtype: int64"
      ]
     },
     "execution_count": 133,
     "metadata": {},
     "output_type": "execute_result"
    }
   ],
   "source": [
    "df_train.BsmtCond.value_counts(dropna=False)"
   ]
  },
  {
   "cell_type": "markdown",
   "metadata": {},
   "source": [
    "**Drop as there are a big majority of TA and 37 NaN**"
   ]
  },
  {
   "cell_type": "code",
   "execution_count": 134,
   "metadata": {},
   "outputs": [],
   "source": [
    "df_train.drop('BsmtCond', axis=1, inplace=True)\n",
    "df_test.drop('BsmtCond', axis=1, inplace=True)"
   ]
  },
  {
   "cell_type": "markdown",
   "metadata": {},
   "source": [
    "## 3.33 BsmtExposure: Refers to walkout or garden level walls\n",
    "       Gd\tGood Exposure\n",
    "       Av\tAverage Exposure (split levels or foyers typically score average or above)\t\n",
    "       Mn\tMimimum Exposure\n",
    "       No\tNo Exposure\n",
    "       NA\tNo Basement"
   ]
  },
  {
   "cell_type": "code",
   "execution_count": 135,
   "metadata": {},
   "outputs": [
    {
     "data": {
      "text/plain": [
       "No     953\n",
       "Av     221\n",
       "Gd     131\n",
       "Mn     114\n",
       "NaN     38\n",
       "Name: BsmtExposure, dtype: int64"
      ]
     },
     "execution_count": 135,
     "metadata": {},
     "output_type": "execute_result"
    }
   ],
   "source": [
    "df_train.BsmtExposure.value_counts(dropna=False)"
   ]
  },
  {
   "cell_type": "code",
   "execution_count": 136,
   "metadata": {},
   "outputs": [],
   "source": [
    "df_train = pd.concat([df_train, pd.get_dummies(df_train.BsmtExposure, prefix='BsmtExposure')], axis=1)\n",
    "df_test = pd.concat([df_test, pd.get_dummies(df_test.BsmtExposure, prefix='BsmtExposure')], axis=1)"
   ]
  },
  {
   "cell_type": "code",
   "execution_count": 137,
   "metadata": {},
   "outputs": [],
   "source": [
    "df_train.drop('BsmtExposure', axis=1, inplace=True)\n",
    "df_test.drop('BsmtExposure', axis=1, inplace=True)"
   ]
  },
  {
   "cell_type": "code",
   "execution_count": 138,
   "metadata": {},
   "outputs": [
    {
     "data": {
      "text/html": [
       "<div>\n",
       "<style scoped>\n",
       "    .dataframe tbody tr th:only-of-type {\n",
       "        vertical-align: middle;\n",
       "    }\n",
       "\n",
       "    .dataframe tbody tr th {\n",
       "        vertical-align: top;\n",
       "    }\n",
       "\n",
       "    .dataframe thead th {\n",
       "        text-align: right;\n",
       "    }\n",
       "</style>\n",
       "<table border=\"1\" class=\"dataframe\">\n",
       "  <thead>\n",
       "    <tr style=\"text-align: right;\">\n",
       "      <th></th>\n",
       "      <th>Id</th>\n",
       "      <th>LotArea</th>\n",
       "      <th>OverallQual</th>\n",
       "      <th>OverallCond</th>\n",
       "      <th>MasVnrArea</th>\n",
       "      <th>BsmtFinType1</th>\n",
       "      <th>BsmtFinSF1</th>\n",
       "      <th>BsmtFinType2</th>\n",
       "      <th>BsmtFinSF2</th>\n",
       "      <th>BsmtUnfSF</th>\n",
       "      <th>...</th>\n",
       "      <th>Foundation_Stone</th>\n",
       "      <th>Foundation_Wood</th>\n",
       "      <th>BsmtQual_Ex</th>\n",
       "      <th>BsmtQual_Fa</th>\n",
       "      <th>BsmtQual_Gd</th>\n",
       "      <th>BsmtQual_TA</th>\n",
       "      <th>BsmtExposure_Av</th>\n",
       "      <th>BsmtExposure_Gd</th>\n",
       "      <th>BsmtExposure_Mn</th>\n",
       "      <th>BsmtExposure_No</th>\n",
       "    </tr>\n",
       "  </thead>\n",
       "  <tbody>\n",
       "    <tr>\n",
       "      <th>0</th>\n",
       "      <td>1</td>\n",
       "      <td>8450</td>\n",
       "      <td>7</td>\n",
       "      <td>5</td>\n",
       "      <td>196.0</td>\n",
       "      <td>GLQ</td>\n",
       "      <td>706</td>\n",
       "      <td>Unf</td>\n",
       "      <td>0</td>\n",
       "      <td>150</td>\n",
       "      <td>...</td>\n",
       "      <td>0</td>\n",
       "      <td>0</td>\n",
       "      <td>0</td>\n",
       "      <td>0</td>\n",
       "      <td>1</td>\n",
       "      <td>0</td>\n",
       "      <td>0</td>\n",
       "      <td>0</td>\n",
       "      <td>0</td>\n",
       "      <td>1</td>\n",
       "    </tr>\n",
       "    <tr>\n",
       "      <th>1</th>\n",
       "      <td>2</td>\n",
       "      <td>9600</td>\n",
       "      <td>6</td>\n",
       "      <td>8</td>\n",
       "      <td>0.0</td>\n",
       "      <td>ALQ</td>\n",
       "      <td>978</td>\n",
       "      <td>Unf</td>\n",
       "      <td>0</td>\n",
       "      <td>284</td>\n",
       "      <td>...</td>\n",
       "      <td>0</td>\n",
       "      <td>0</td>\n",
       "      <td>0</td>\n",
       "      <td>0</td>\n",
       "      <td>1</td>\n",
       "      <td>0</td>\n",
       "      <td>0</td>\n",
       "      <td>1</td>\n",
       "      <td>0</td>\n",
       "      <td>0</td>\n",
       "    </tr>\n",
       "    <tr>\n",
       "      <th>2</th>\n",
       "      <td>3</td>\n",
       "      <td>11250</td>\n",
       "      <td>7</td>\n",
       "      <td>5</td>\n",
       "      <td>162.0</td>\n",
       "      <td>GLQ</td>\n",
       "      <td>486</td>\n",
       "      <td>Unf</td>\n",
       "      <td>0</td>\n",
       "      <td>434</td>\n",
       "      <td>...</td>\n",
       "      <td>0</td>\n",
       "      <td>0</td>\n",
       "      <td>0</td>\n",
       "      <td>0</td>\n",
       "      <td>1</td>\n",
       "      <td>0</td>\n",
       "      <td>0</td>\n",
       "      <td>0</td>\n",
       "      <td>1</td>\n",
       "      <td>0</td>\n",
       "    </tr>\n",
       "    <tr>\n",
       "      <th>3</th>\n",
       "      <td>4</td>\n",
       "      <td>9550</td>\n",
       "      <td>7</td>\n",
       "      <td>5</td>\n",
       "      <td>0.0</td>\n",
       "      <td>ALQ</td>\n",
       "      <td>216</td>\n",
       "      <td>Unf</td>\n",
       "      <td>0</td>\n",
       "      <td>540</td>\n",
       "      <td>...</td>\n",
       "      <td>0</td>\n",
       "      <td>0</td>\n",
       "      <td>0</td>\n",
       "      <td>0</td>\n",
       "      <td>0</td>\n",
       "      <td>1</td>\n",
       "      <td>0</td>\n",
       "      <td>0</td>\n",
       "      <td>0</td>\n",
       "      <td>1</td>\n",
       "    </tr>\n",
       "    <tr>\n",
       "      <th>4</th>\n",
       "      <td>5</td>\n",
       "      <td>14260</td>\n",
       "      <td>8</td>\n",
       "      <td>5</td>\n",
       "      <td>350.0</td>\n",
       "      <td>GLQ</td>\n",
       "      <td>655</td>\n",
       "      <td>Unf</td>\n",
       "      <td>0</td>\n",
       "      <td>490</td>\n",
       "      <td>...</td>\n",
       "      <td>0</td>\n",
       "      <td>0</td>\n",
       "      <td>0</td>\n",
       "      <td>0</td>\n",
       "      <td>1</td>\n",
       "      <td>0</td>\n",
       "      <td>1</td>\n",
       "      <td>0</td>\n",
       "      <td>0</td>\n",
       "      <td>0</td>\n",
       "    </tr>\n",
       "  </tbody>\n",
       "</table>\n",
       "<p>5 rows × 180 columns</p>\n",
       "</div>"
      ],
      "text/plain": [
       "   Id  LotArea  OverallQual  OverallCond  MasVnrArea BsmtFinType1  BsmtFinSF1  \\\n",
       "0   1     8450            7            5       196.0          GLQ         706   \n",
       "1   2     9600            6            8         0.0          ALQ         978   \n",
       "2   3    11250            7            5       162.0          GLQ         486   \n",
       "3   4     9550            7            5         0.0          ALQ         216   \n",
       "4   5    14260            8            5       350.0          GLQ         655   \n",
       "\n",
       "  BsmtFinType2  BsmtFinSF2  BsmtUnfSF  ...  Foundation_Stone Foundation_Wood  \\\n",
       "0          Unf           0        150  ...                 0               0   \n",
       "1          Unf           0        284  ...                 0               0   \n",
       "2          Unf           0        434  ...                 0               0   \n",
       "3          Unf           0        540  ...                 0               0   \n",
       "4          Unf           0        490  ...                 0               0   \n",
       "\n",
       "  BsmtQual_Ex BsmtQual_Fa BsmtQual_Gd  BsmtQual_TA  BsmtExposure_Av  \\\n",
       "0           0           0           1            0                0   \n",
       "1           0           0           1            0                0   \n",
       "2           0           0           1            0                0   \n",
       "3           0           0           0            1                0   \n",
       "4           0           0           1            0                1   \n",
       "\n",
       "   BsmtExposure_Gd  BsmtExposure_Mn  BsmtExposure_No  \n",
       "0                0                0                1  \n",
       "1                1                0                0  \n",
       "2                0                1                0  \n",
       "3                0                0                1  \n",
       "4                0                0                0  \n",
       "\n",
       "[5 rows x 180 columns]"
      ]
     },
     "execution_count": 138,
     "metadata": {},
     "output_type": "execute_result"
    }
   ],
   "source": [
    "df_train.head()"
   ]
  },
  {
   "cell_type": "markdown",
   "metadata": {},
   "source": [
    "## 3.34 BsmtFinType1: Rating of basement finished area\n",
    "       GLQ\tGood Living Quarters\n",
    "       ALQ\tAverage Living Quarters\n",
    "       BLQ\tBelow Average Living Quarters\t\n",
    "       Rec\tAverage Rec Room\n",
    "       LwQ\tLow Quality\n",
    "       Unf\tUnfinshed\n",
    "       NA\tNo Basement"
   ]
  },
  {
   "cell_type": "code",
   "execution_count": 139,
   "metadata": {},
   "outputs": [
    {
     "data": {
      "text/plain": [
       "Unf    430\n",
       "GLQ    418\n",
       "ALQ    218\n",
       "BLQ    148\n",
       "Rec    132\n",
       "LwQ     74\n",
       "NaN     37\n",
       "Name: BsmtFinType1, dtype: int64"
      ]
     },
     "execution_count": 139,
     "metadata": {},
     "output_type": "execute_result"
    }
   ],
   "source": [
    "df_train.BsmtFinType1.value_counts(dropna=False)"
   ]
  },
  {
   "cell_type": "code",
   "execution_count": 140,
   "metadata": {},
   "outputs": [],
   "source": [
    "df_train = pd.concat([df_train, pd.get_dummies(df_train.BsmtFinType1, prefix='BsmtFinType1')], axis=1)\n",
    "df_test = pd.concat([df_test, pd.get_dummies(df_test.BsmtFinType1, prefix='BsmtFinType1')], axis=1)"
   ]
  },
  {
   "cell_type": "code",
   "execution_count": 141,
   "metadata": {},
   "outputs": [],
   "source": [
    "df_train.drop('BsmtFinType1', axis=1, inplace=True)\n",
    "df_test.drop('BsmtFinType1', axis=1, inplace=True)"
   ]
  },
  {
   "cell_type": "code",
   "execution_count": 142,
   "metadata": {},
   "outputs": [
    {
     "data": {
      "text/html": [
       "<div>\n",
       "<style scoped>\n",
       "    .dataframe tbody tr th:only-of-type {\n",
       "        vertical-align: middle;\n",
       "    }\n",
       "\n",
       "    .dataframe tbody tr th {\n",
       "        vertical-align: top;\n",
       "    }\n",
       "\n",
       "    .dataframe thead th {\n",
       "        text-align: right;\n",
       "    }\n",
       "</style>\n",
       "<table border=\"1\" class=\"dataframe\">\n",
       "  <thead>\n",
       "    <tr style=\"text-align: right;\">\n",
       "      <th></th>\n",
       "      <th>Id</th>\n",
       "      <th>LotArea</th>\n",
       "      <th>OverallQual</th>\n",
       "      <th>OverallCond</th>\n",
       "      <th>MasVnrArea</th>\n",
       "      <th>BsmtFinSF1</th>\n",
       "      <th>BsmtFinType2</th>\n",
       "      <th>BsmtFinSF2</th>\n",
       "      <th>BsmtUnfSF</th>\n",
       "      <th>TotalBsmtSF</th>\n",
       "      <th>...</th>\n",
       "      <th>BsmtExposure_Av</th>\n",
       "      <th>BsmtExposure_Gd</th>\n",
       "      <th>BsmtExposure_Mn</th>\n",
       "      <th>BsmtExposure_No</th>\n",
       "      <th>BsmtFinType1_ALQ</th>\n",
       "      <th>BsmtFinType1_BLQ</th>\n",
       "      <th>BsmtFinType1_GLQ</th>\n",
       "      <th>BsmtFinType1_LwQ</th>\n",
       "      <th>BsmtFinType1_Rec</th>\n",
       "      <th>BsmtFinType1_Unf</th>\n",
       "    </tr>\n",
       "  </thead>\n",
       "  <tbody>\n",
       "    <tr>\n",
       "      <th>0</th>\n",
       "      <td>1</td>\n",
       "      <td>8450</td>\n",
       "      <td>7</td>\n",
       "      <td>5</td>\n",
       "      <td>196.0</td>\n",
       "      <td>706</td>\n",
       "      <td>Unf</td>\n",
       "      <td>0</td>\n",
       "      <td>150</td>\n",
       "      <td>856</td>\n",
       "      <td>...</td>\n",
       "      <td>0</td>\n",
       "      <td>0</td>\n",
       "      <td>0</td>\n",
       "      <td>1</td>\n",
       "      <td>0</td>\n",
       "      <td>0</td>\n",
       "      <td>1</td>\n",
       "      <td>0</td>\n",
       "      <td>0</td>\n",
       "      <td>0</td>\n",
       "    </tr>\n",
       "    <tr>\n",
       "      <th>1</th>\n",
       "      <td>2</td>\n",
       "      <td>9600</td>\n",
       "      <td>6</td>\n",
       "      <td>8</td>\n",
       "      <td>0.0</td>\n",
       "      <td>978</td>\n",
       "      <td>Unf</td>\n",
       "      <td>0</td>\n",
       "      <td>284</td>\n",
       "      <td>1262</td>\n",
       "      <td>...</td>\n",
       "      <td>0</td>\n",
       "      <td>1</td>\n",
       "      <td>0</td>\n",
       "      <td>0</td>\n",
       "      <td>1</td>\n",
       "      <td>0</td>\n",
       "      <td>0</td>\n",
       "      <td>0</td>\n",
       "      <td>0</td>\n",
       "      <td>0</td>\n",
       "    </tr>\n",
       "    <tr>\n",
       "      <th>2</th>\n",
       "      <td>3</td>\n",
       "      <td>11250</td>\n",
       "      <td>7</td>\n",
       "      <td>5</td>\n",
       "      <td>162.0</td>\n",
       "      <td>486</td>\n",
       "      <td>Unf</td>\n",
       "      <td>0</td>\n",
       "      <td>434</td>\n",
       "      <td>920</td>\n",
       "      <td>...</td>\n",
       "      <td>0</td>\n",
       "      <td>0</td>\n",
       "      <td>1</td>\n",
       "      <td>0</td>\n",
       "      <td>0</td>\n",
       "      <td>0</td>\n",
       "      <td>1</td>\n",
       "      <td>0</td>\n",
       "      <td>0</td>\n",
       "      <td>0</td>\n",
       "    </tr>\n",
       "    <tr>\n",
       "      <th>3</th>\n",
       "      <td>4</td>\n",
       "      <td>9550</td>\n",
       "      <td>7</td>\n",
       "      <td>5</td>\n",
       "      <td>0.0</td>\n",
       "      <td>216</td>\n",
       "      <td>Unf</td>\n",
       "      <td>0</td>\n",
       "      <td>540</td>\n",
       "      <td>756</td>\n",
       "      <td>...</td>\n",
       "      <td>0</td>\n",
       "      <td>0</td>\n",
       "      <td>0</td>\n",
       "      <td>1</td>\n",
       "      <td>1</td>\n",
       "      <td>0</td>\n",
       "      <td>0</td>\n",
       "      <td>0</td>\n",
       "      <td>0</td>\n",
       "      <td>0</td>\n",
       "    </tr>\n",
       "    <tr>\n",
       "      <th>4</th>\n",
       "      <td>5</td>\n",
       "      <td>14260</td>\n",
       "      <td>8</td>\n",
       "      <td>5</td>\n",
       "      <td>350.0</td>\n",
       "      <td>655</td>\n",
       "      <td>Unf</td>\n",
       "      <td>0</td>\n",
       "      <td>490</td>\n",
       "      <td>1145</td>\n",
       "      <td>...</td>\n",
       "      <td>1</td>\n",
       "      <td>0</td>\n",
       "      <td>0</td>\n",
       "      <td>0</td>\n",
       "      <td>0</td>\n",
       "      <td>0</td>\n",
       "      <td>1</td>\n",
       "      <td>0</td>\n",
       "      <td>0</td>\n",
       "      <td>0</td>\n",
       "    </tr>\n",
       "  </tbody>\n",
       "</table>\n",
       "<p>5 rows × 185 columns</p>\n",
       "</div>"
      ],
      "text/plain": [
       "   Id  LotArea  OverallQual  OverallCond  MasVnrArea  BsmtFinSF1 BsmtFinType2  \\\n",
       "0   1     8450            7            5       196.0         706          Unf   \n",
       "1   2     9600            6            8         0.0         978          Unf   \n",
       "2   3    11250            7            5       162.0         486          Unf   \n",
       "3   4     9550            7            5         0.0         216          Unf   \n",
       "4   5    14260            8            5       350.0         655          Unf   \n",
       "\n",
       "   BsmtFinSF2  BsmtUnfSF  TotalBsmtSF  ... BsmtExposure_Av BsmtExposure_Gd  \\\n",
       "0           0        150          856  ...               0               0   \n",
       "1           0        284         1262  ...               0               1   \n",
       "2           0        434          920  ...               0               0   \n",
       "3           0        540          756  ...               0               0   \n",
       "4           0        490         1145  ...               1               0   \n",
       "\n",
       "  BsmtExposure_Mn BsmtExposure_No  BsmtFinType1_ALQ  BsmtFinType1_BLQ  \\\n",
       "0               0               1                 0                 0   \n",
       "1               0               0                 1                 0   \n",
       "2               1               0                 0                 0   \n",
       "3               0               1                 1                 0   \n",
       "4               0               0                 0                 0   \n",
       "\n",
       "   BsmtFinType1_GLQ  BsmtFinType1_LwQ  BsmtFinType1_Rec  BsmtFinType1_Unf  \n",
       "0                 1                 0                 0                 0  \n",
       "1                 0                 0                 0                 0  \n",
       "2                 1                 0                 0                 0  \n",
       "3                 0                 0                 0                 0  \n",
       "4                 1                 0                 0                 0  \n",
       "\n",
       "[5 rows x 185 columns]"
      ]
     },
     "execution_count": 142,
     "metadata": {},
     "output_type": "execute_result"
    }
   ],
   "source": [
    "df_train.head()"
   ]
  },
  {
   "cell_type": "markdown",
   "metadata": {},
   "source": [
    "## 3.35 BsmtFinSF1: Type 1 finished square feet"
   ]
  },
  {
   "cell_type": "code",
   "execution_count": 143,
   "metadata": {},
   "outputs": [
    {
     "data": {
      "text/plain": [
       "count    1457.000000\n",
       "mean      442.369252\n",
       "std       455.556488\n",
       "min         0.000000\n",
       "25%         0.000000\n",
       "50%       381.000000\n",
       "75%       712.000000\n",
       "max      5644.000000\n",
       "Name: BsmtFinSF1, dtype: float64"
      ]
     },
     "execution_count": 143,
     "metadata": {},
     "output_type": "execute_result"
    }
   ],
   "source": [
    "df_train.BsmtFinSF1.describe()"
   ]
  },
  {
   "cell_type": "code",
   "execution_count": 144,
   "metadata": {},
   "outputs": [
    {
     "data": {
      "text/plain": [
       "0"
      ]
     },
     "execution_count": 144,
     "metadata": {},
     "output_type": "execute_result"
    }
   ],
   "source": [
    "df_train.BsmtFinSF1.isna().sum()"
   ]
  },
  {
   "cell_type": "code",
   "execution_count": 145,
   "metadata": {},
   "outputs": [
    {
     "data": {
      "text/plain": [
       "1"
      ]
     },
     "execution_count": 145,
     "metadata": {},
     "output_type": "execute_result"
    }
   ],
   "source": [
    "df_test.BsmtFinSF1.isna().sum()"
   ]
  },
  {
   "cell_type": "code",
   "execution_count": 146,
   "metadata": {},
   "outputs": [],
   "source": [
    "feature = 'BsmtFinSF1'\n",
    "max_value = df_train[[feature]].max()[0]\n",
    "min_value = df_train[[feature]].min()[0]\n",
    "\n",
    "df_train[feature+'_range'] = df_train.apply(lambda x: create_ranges(max_value, min_value, x[[feature]][0]), axis=1)"
   ]
  },
  {
   "cell_type": "markdown",
   "metadata": {},
   "source": [
    "**Fill NaN in test set**"
   ]
  },
  {
   "cell_type": "code",
   "execution_count": 147,
   "metadata": {},
   "outputs": [
    {
     "data": {
      "text/plain": [
       "1"
      ]
     },
     "execution_count": 147,
     "metadata": {},
     "output_type": "execute_result"
    }
   ],
   "source": [
    "df_test.BsmtFinSF1.isna().sum()"
   ]
  },
  {
   "cell_type": "code",
   "execution_count": 148,
   "metadata": {},
   "outputs": [],
   "source": [
    "df_test.BsmtFinSF1.fillna(df_test.BsmtFinSF1.mean(), inplace=True)"
   ]
  },
  {
   "cell_type": "code",
   "execution_count": 149,
   "metadata": {},
   "outputs": [],
   "source": [
    "feature = 'BsmtFinSF1'\n",
    "max_value = df_test[[feature]].max()[0]\n",
    "min_value = df_test[[feature]].min()[0]\n",
    "\n",
    "df_test[feature+'_range'] = df_test.apply(lambda x: create_ranges(max_value, min_value, x[[feature]][0]), axis=1)"
   ]
  },
  {
   "cell_type": "code",
   "execution_count": 150,
   "metadata": {},
   "outputs": [],
   "source": [
    "df_train.drop('BsmtFinSF1', axis=1, inplace=True)\n",
    "df_test.drop('BsmtFinSF1', axis=1, inplace=True)"
   ]
  },
  {
   "cell_type": "code",
   "execution_count": 151,
   "metadata": {},
   "outputs": [
    {
     "data": {
      "text/html": [
       "<div>\n",
       "<style scoped>\n",
       "    .dataframe tbody tr th:only-of-type {\n",
       "        vertical-align: middle;\n",
       "    }\n",
       "\n",
       "    .dataframe tbody tr th {\n",
       "        vertical-align: top;\n",
       "    }\n",
       "\n",
       "    .dataframe thead th {\n",
       "        text-align: right;\n",
       "    }\n",
       "</style>\n",
       "<table border=\"1\" class=\"dataframe\">\n",
       "  <thead>\n",
       "    <tr style=\"text-align: right;\">\n",
       "      <th></th>\n",
       "      <th>Id</th>\n",
       "      <th>LotArea</th>\n",
       "      <th>OverallQual</th>\n",
       "      <th>OverallCond</th>\n",
       "      <th>MasVnrArea</th>\n",
       "      <th>BsmtFinType2</th>\n",
       "      <th>BsmtFinSF2</th>\n",
       "      <th>BsmtUnfSF</th>\n",
       "      <th>TotalBsmtSF</th>\n",
       "      <th>Heating</th>\n",
       "      <th>...</th>\n",
       "      <th>BsmtExposure_Gd</th>\n",
       "      <th>BsmtExposure_Mn</th>\n",
       "      <th>BsmtExposure_No</th>\n",
       "      <th>BsmtFinType1_ALQ</th>\n",
       "      <th>BsmtFinType1_BLQ</th>\n",
       "      <th>BsmtFinType1_GLQ</th>\n",
       "      <th>BsmtFinType1_LwQ</th>\n",
       "      <th>BsmtFinType1_Rec</th>\n",
       "      <th>BsmtFinType1_Unf</th>\n",
       "      <th>BsmtFinSF1_range</th>\n",
       "    </tr>\n",
       "  </thead>\n",
       "  <tbody>\n",
       "    <tr>\n",
       "      <th>0</th>\n",
       "      <td>1</td>\n",
       "      <td>8450</td>\n",
       "      <td>7</td>\n",
       "      <td>5</td>\n",
       "      <td>196.0</td>\n",
       "      <td>Unf</td>\n",
       "      <td>0</td>\n",
       "      <td>150</td>\n",
       "      <td>856</td>\n",
       "      <td>GasA</td>\n",
       "      <td>...</td>\n",
       "      <td>0</td>\n",
       "      <td>0</td>\n",
       "      <td>1</td>\n",
       "      <td>0</td>\n",
       "      <td>0</td>\n",
       "      <td>1</td>\n",
       "      <td>0</td>\n",
       "      <td>0</td>\n",
       "      <td>0</td>\n",
       "      <td>1</td>\n",
       "    </tr>\n",
       "    <tr>\n",
       "      <th>1</th>\n",
       "      <td>2</td>\n",
       "      <td>9600</td>\n",
       "      <td>6</td>\n",
       "      <td>8</td>\n",
       "      <td>0.0</td>\n",
       "      <td>Unf</td>\n",
       "      <td>0</td>\n",
       "      <td>284</td>\n",
       "      <td>1262</td>\n",
       "      <td>GasA</td>\n",
       "      <td>...</td>\n",
       "      <td>1</td>\n",
       "      <td>0</td>\n",
       "      <td>0</td>\n",
       "      <td>1</td>\n",
       "      <td>0</td>\n",
       "      <td>0</td>\n",
       "      <td>0</td>\n",
       "      <td>0</td>\n",
       "      <td>0</td>\n",
       "      <td>2</td>\n",
       "    </tr>\n",
       "    <tr>\n",
       "      <th>2</th>\n",
       "      <td>3</td>\n",
       "      <td>11250</td>\n",
       "      <td>7</td>\n",
       "      <td>5</td>\n",
       "      <td>162.0</td>\n",
       "      <td>Unf</td>\n",
       "      <td>0</td>\n",
       "      <td>434</td>\n",
       "      <td>920</td>\n",
       "      <td>GasA</td>\n",
       "      <td>...</td>\n",
       "      <td>0</td>\n",
       "      <td>1</td>\n",
       "      <td>0</td>\n",
       "      <td>0</td>\n",
       "      <td>0</td>\n",
       "      <td>1</td>\n",
       "      <td>0</td>\n",
       "      <td>0</td>\n",
       "      <td>0</td>\n",
       "      <td>1</td>\n",
       "    </tr>\n",
       "    <tr>\n",
       "      <th>3</th>\n",
       "      <td>4</td>\n",
       "      <td>9550</td>\n",
       "      <td>7</td>\n",
       "      <td>5</td>\n",
       "      <td>0.0</td>\n",
       "      <td>Unf</td>\n",
       "      <td>0</td>\n",
       "      <td>540</td>\n",
       "      <td>756</td>\n",
       "      <td>GasA</td>\n",
       "      <td>...</td>\n",
       "      <td>0</td>\n",
       "      <td>0</td>\n",
       "      <td>1</td>\n",
       "      <td>1</td>\n",
       "      <td>0</td>\n",
       "      <td>0</td>\n",
       "      <td>0</td>\n",
       "      <td>0</td>\n",
       "      <td>0</td>\n",
       "      <td>0</td>\n",
       "    </tr>\n",
       "    <tr>\n",
       "      <th>4</th>\n",
       "      <td>5</td>\n",
       "      <td>14260</td>\n",
       "      <td>8</td>\n",
       "      <td>5</td>\n",
       "      <td>350.0</td>\n",
       "      <td>Unf</td>\n",
       "      <td>0</td>\n",
       "      <td>490</td>\n",
       "      <td>1145</td>\n",
       "      <td>GasA</td>\n",
       "      <td>...</td>\n",
       "      <td>0</td>\n",
       "      <td>0</td>\n",
       "      <td>0</td>\n",
       "      <td>0</td>\n",
       "      <td>0</td>\n",
       "      <td>1</td>\n",
       "      <td>0</td>\n",
       "      <td>0</td>\n",
       "      <td>0</td>\n",
       "      <td>1</td>\n",
       "    </tr>\n",
       "  </tbody>\n",
       "</table>\n",
       "<p>5 rows × 185 columns</p>\n",
       "</div>"
      ],
      "text/plain": [
       "   Id  LotArea  OverallQual  OverallCond  MasVnrArea BsmtFinType2  BsmtFinSF2  \\\n",
       "0   1     8450            7            5       196.0          Unf           0   \n",
       "1   2     9600            6            8         0.0          Unf           0   \n",
       "2   3    11250            7            5       162.0          Unf           0   \n",
       "3   4     9550            7            5         0.0          Unf           0   \n",
       "4   5    14260            8            5       350.0          Unf           0   \n",
       "\n",
       "   BsmtUnfSF  TotalBsmtSF Heating  ... BsmtExposure_Gd BsmtExposure_Mn  \\\n",
       "0        150          856    GasA  ...               0               0   \n",
       "1        284         1262    GasA  ...               1               0   \n",
       "2        434          920    GasA  ...               0               1   \n",
       "3        540          756    GasA  ...               0               0   \n",
       "4        490         1145    GasA  ...               0               0   \n",
       "\n",
       "  BsmtExposure_No  BsmtFinType1_ALQ  BsmtFinType1_BLQ  BsmtFinType1_GLQ  \\\n",
       "0               1                 0                 0                 1   \n",
       "1               0                 1                 0                 0   \n",
       "2               0                 0                 0                 1   \n",
       "3               1                 1                 0                 0   \n",
       "4               0                 0                 0                 1   \n",
       "\n",
       "   BsmtFinType1_LwQ  BsmtFinType1_Rec  BsmtFinType1_Unf  BsmtFinSF1_range  \n",
       "0                 0                 0                 0                 1  \n",
       "1                 0                 0                 0                 2  \n",
       "2                 0                 0                 0                 1  \n",
       "3                 0                 0                 0                 0  \n",
       "4                 0                 0                 0                 1  \n",
       "\n",
       "[5 rows x 185 columns]"
      ]
     },
     "execution_count": 151,
     "metadata": {},
     "output_type": "execute_result"
    }
   ],
   "source": [
    "df_train.head()"
   ]
  },
  {
   "cell_type": "markdown",
   "metadata": {},
   "source": [
    "## 3.36 BsmtFinType2: Rating of basement finished area (if multiple types)\n",
    "       GLQ\tGood Living Quarters\n",
    "       ALQ\tAverage Living Quarters\n",
    "       BLQ\tBelow Average Living Quarters\t\n",
    "       Rec\tAverage Rec Room\n",
    "       LwQ\tLow Quality\n",
    "       Unf\tUnfinshed\n",
    "       NA\tNo Basement"
   ]
  },
  {
   "cell_type": "code",
   "execution_count": 152,
   "metadata": {},
   "outputs": [
    {
     "data": {
      "text/plain": [
       "Unf    1255\n",
       "Rec      53\n",
       "LwQ      46\n",
       "NaN      38\n",
       "BLQ      32\n",
       "ALQ      19\n",
       "GLQ      14\n",
       "Name: BsmtFinType2, dtype: int64"
      ]
     },
     "execution_count": 152,
     "metadata": {},
     "output_type": "execute_result"
    }
   ],
   "source": [
    "df_train.BsmtFinType2.value_counts(dropna=False)"
   ]
  },
  {
   "cell_type": "code",
   "execution_count": 153,
   "metadata": {},
   "outputs": [],
   "source": [
    "df_train = pd.concat([df_train, pd.get_dummies(df_train.BsmtFinType2, prefix='BsmtFinType2')], axis=1)\n",
    "df_test = pd.concat([df_test, pd.get_dummies(df_test.BsmtFinType2, prefix='BsmtFinType2')], axis=1)"
   ]
  },
  {
   "cell_type": "code",
   "execution_count": 154,
   "metadata": {},
   "outputs": [],
   "source": [
    "df_train.drop('BsmtFinType2', axis=1, inplace=True)\n",
    "df_test.drop('BsmtFinType2', axis=1, inplace=True)"
   ]
  },
  {
   "cell_type": "code",
   "execution_count": 155,
   "metadata": {},
   "outputs": [
    {
     "data": {
      "text/html": [
       "<div>\n",
       "<style scoped>\n",
       "    .dataframe tbody tr th:only-of-type {\n",
       "        vertical-align: middle;\n",
       "    }\n",
       "\n",
       "    .dataframe tbody tr th {\n",
       "        vertical-align: top;\n",
       "    }\n",
       "\n",
       "    .dataframe thead th {\n",
       "        text-align: right;\n",
       "    }\n",
       "</style>\n",
       "<table border=\"1\" class=\"dataframe\">\n",
       "  <thead>\n",
       "    <tr style=\"text-align: right;\">\n",
       "      <th></th>\n",
       "      <th>Id</th>\n",
       "      <th>LotArea</th>\n",
       "      <th>OverallQual</th>\n",
       "      <th>OverallCond</th>\n",
       "      <th>MasVnrArea</th>\n",
       "      <th>BsmtFinSF2</th>\n",
       "      <th>BsmtUnfSF</th>\n",
       "      <th>TotalBsmtSF</th>\n",
       "      <th>Heating</th>\n",
       "      <th>HeatingQC</th>\n",
       "      <th>...</th>\n",
       "      <th>BsmtFinType1_LwQ</th>\n",
       "      <th>BsmtFinType1_Rec</th>\n",
       "      <th>BsmtFinType1_Unf</th>\n",
       "      <th>BsmtFinSF1_range</th>\n",
       "      <th>BsmtFinType2_ALQ</th>\n",
       "      <th>BsmtFinType2_BLQ</th>\n",
       "      <th>BsmtFinType2_GLQ</th>\n",
       "      <th>BsmtFinType2_LwQ</th>\n",
       "      <th>BsmtFinType2_Rec</th>\n",
       "      <th>BsmtFinType2_Unf</th>\n",
       "    </tr>\n",
       "  </thead>\n",
       "  <tbody>\n",
       "    <tr>\n",
       "      <th>0</th>\n",
       "      <td>1</td>\n",
       "      <td>8450</td>\n",
       "      <td>7</td>\n",
       "      <td>5</td>\n",
       "      <td>196.0</td>\n",
       "      <td>0</td>\n",
       "      <td>150</td>\n",
       "      <td>856</td>\n",
       "      <td>GasA</td>\n",
       "      <td>Ex</td>\n",
       "      <td>...</td>\n",
       "      <td>0</td>\n",
       "      <td>0</td>\n",
       "      <td>0</td>\n",
       "      <td>1</td>\n",
       "      <td>0</td>\n",
       "      <td>0</td>\n",
       "      <td>0</td>\n",
       "      <td>0</td>\n",
       "      <td>0</td>\n",
       "      <td>1</td>\n",
       "    </tr>\n",
       "    <tr>\n",
       "      <th>1</th>\n",
       "      <td>2</td>\n",
       "      <td>9600</td>\n",
       "      <td>6</td>\n",
       "      <td>8</td>\n",
       "      <td>0.0</td>\n",
       "      <td>0</td>\n",
       "      <td>284</td>\n",
       "      <td>1262</td>\n",
       "      <td>GasA</td>\n",
       "      <td>Ex</td>\n",
       "      <td>...</td>\n",
       "      <td>0</td>\n",
       "      <td>0</td>\n",
       "      <td>0</td>\n",
       "      <td>2</td>\n",
       "      <td>0</td>\n",
       "      <td>0</td>\n",
       "      <td>0</td>\n",
       "      <td>0</td>\n",
       "      <td>0</td>\n",
       "      <td>1</td>\n",
       "    </tr>\n",
       "    <tr>\n",
       "      <th>2</th>\n",
       "      <td>3</td>\n",
       "      <td>11250</td>\n",
       "      <td>7</td>\n",
       "      <td>5</td>\n",
       "      <td>162.0</td>\n",
       "      <td>0</td>\n",
       "      <td>434</td>\n",
       "      <td>920</td>\n",
       "      <td>GasA</td>\n",
       "      <td>Ex</td>\n",
       "      <td>...</td>\n",
       "      <td>0</td>\n",
       "      <td>0</td>\n",
       "      <td>0</td>\n",
       "      <td>1</td>\n",
       "      <td>0</td>\n",
       "      <td>0</td>\n",
       "      <td>0</td>\n",
       "      <td>0</td>\n",
       "      <td>0</td>\n",
       "      <td>1</td>\n",
       "    </tr>\n",
       "    <tr>\n",
       "      <th>3</th>\n",
       "      <td>4</td>\n",
       "      <td>9550</td>\n",
       "      <td>7</td>\n",
       "      <td>5</td>\n",
       "      <td>0.0</td>\n",
       "      <td>0</td>\n",
       "      <td>540</td>\n",
       "      <td>756</td>\n",
       "      <td>GasA</td>\n",
       "      <td>Gd</td>\n",
       "      <td>...</td>\n",
       "      <td>0</td>\n",
       "      <td>0</td>\n",
       "      <td>0</td>\n",
       "      <td>0</td>\n",
       "      <td>0</td>\n",
       "      <td>0</td>\n",
       "      <td>0</td>\n",
       "      <td>0</td>\n",
       "      <td>0</td>\n",
       "      <td>1</td>\n",
       "    </tr>\n",
       "    <tr>\n",
       "      <th>4</th>\n",
       "      <td>5</td>\n",
       "      <td>14260</td>\n",
       "      <td>8</td>\n",
       "      <td>5</td>\n",
       "      <td>350.0</td>\n",
       "      <td>0</td>\n",
       "      <td>490</td>\n",
       "      <td>1145</td>\n",
       "      <td>GasA</td>\n",
       "      <td>Ex</td>\n",
       "      <td>...</td>\n",
       "      <td>0</td>\n",
       "      <td>0</td>\n",
       "      <td>0</td>\n",
       "      <td>1</td>\n",
       "      <td>0</td>\n",
       "      <td>0</td>\n",
       "      <td>0</td>\n",
       "      <td>0</td>\n",
       "      <td>0</td>\n",
       "      <td>1</td>\n",
       "    </tr>\n",
       "  </tbody>\n",
       "</table>\n",
       "<p>5 rows × 190 columns</p>\n",
       "</div>"
      ],
      "text/plain": [
       "   Id  LotArea  OverallQual  OverallCond  MasVnrArea  BsmtFinSF2  BsmtUnfSF  \\\n",
       "0   1     8450            7            5       196.0           0        150   \n",
       "1   2     9600            6            8         0.0           0        284   \n",
       "2   3    11250            7            5       162.0           0        434   \n",
       "3   4     9550            7            5         0.0           0        540   \n",
       "4   5    14260            8            5       350.0           0        490   \n",
       "\n",
       "   TotalBsmtSF Heating HeatingQC  ... BsmtFinType1_LwQ BsmtFinType1_Rec  \\\n",
       "0          856    GasA        Ex  ...                0                0   \n",
       "1         1262    GasA        Ex  ...                0                0   \n",
       "2          920    GasA        Ex  ...                0                0   \n",
       "3          756    GasA        Gd  ...                0                0   \n",
       "4         1145    GasA        Ex  ...                0                0   \n",
       "\n",
       "   BsmtFinType1_Unf  BsmtFinSF1_range  BsmtFinType2_ALQ  BsmtFinType2_BLQ  \\\n",
       "0                 0                 1                 0                 0   \n",
       "1                 0                 2                 0                 0   \n",
       "2                 0                 1                 0                 0   \n",
       "3                 0                 0                 0                 0   \n",
       "4                 0                 1                 0                 0   \n",
       "\n",
       "   BsmtFinType2_GLQ  BsmtFinType2_LwQ  BsmtFinType2_Rec  BsmtFinType2_Unf  \n",
       "0                 0                 0                 0                 1  \n",
       "1                 0                 0                 0                 1  \n",
       "2                 0                 0                 0                 1  \n",
       "3                 0                 0                 0                 1  \n",
       "4                 0                 0                 0                 1  \n",
       "\n",
       "[5 rows x 190 columns]"
      ]
     },
     "execution_count": 155,
     "metadata": {},
     "output_type": "execute_result"
    }
   ],
   "source": [
    "df_train.head()"
   ]
  },
  {
   "cell_type": "markdown",
   "metadata": {},
   "source": [
    "## 3.37 BsmtFinSF2: Type 2 finished square feet"
   ]
  },
  {
   "cell_type": "code",
   "execution_count": 156,
   "metadata": {},
   "outputs": [
    {
     "data": {
      "text/plain": [
       "count    1457.000000\n",
       "mean       45.981469\n",
       "std       160.180891\n",
       "min         0.000000\n",
       "25%         0.000000\n",
       "50%         0.000000\n",
       "75%         0.000000\n",
       "max      1474.000000\n",
       "Name: BsmtFinSF2, dtype: float64"
      ]
     },
     "execution_count": 156,
     "metadata": {},
     "output_type": "execute_result"
    }
   ],
   "source": [
    "df_train.BsmtFinSF2.describe()"
   ]
  },
  {
   "cell_type": "code",
   "execution_count": 157,
   "metadata": {},
   "outputs": [
    {
     "data": {
      "text/plain": [
       "<matplotlib.axes._subplots.AxesSubplot at 0x1a1ebe0eb8>"
      ]
     },
     "execution_count": 157,
     "metadata": {},
     "output_type": "execute_result"
    },
    {
     "data": {
      "image/png": "[encoded data removed]",
      "text/plain": [
       "<Figure size 432x288 with 1 Axes>"
      ]
     },
     "metadata": {
      "needs_background": "light"
     },
     "output_type": "display_data"
    }
   ],
   "source": [
    "df_train.BsmtFinSF2.plot()"
   ]
  },
  {
   "cell_type": "code",
   "execution_count": 158,
   "metadata": {},
   "outputs": [],
   "source": [
    "feature = 'BsmtFinSF2'\n",
    "max_value = df_train[[feature]].max()[0]\n",
    "min_value = df_train[[feature]].min()[0]\n",
    "\n",
    "df_train[feature+'_range'] = df_train.apply(lambda x: create_ranges(max_value, min_value, x[[feature]][0]), axis=1)"
   ]
  },
  {
   "cell_type": "markdown",
   "metadata": {},
   "source": [
    "**Fill NaN in test set**"
   ]
  },
  {
   "cell_type": "code",
   "execution_count": 159,
   "metadata": {},
   "outputs": [
    {
     "data": {
      "text/plain": [
       "1"
      ]
     },
     "execution_count": 159,
     "metadata": {},
     "output_type": "execute_result"
    }
   ],
   "source": [
    "df_test.BsmtFinSF2.isna().sum()"
   ]
  },
  {
   "cell_type": "code",
   "execution_count": 160,
   "metadata": {},
   "outputs": [],
   "source": [
    "df_test.BsmtFinSF2.fillna(df_test.BsmtFinSF2.mean(), inplace=True)"
   ]
  },
  {
   "cell_type": "code",
   "execution_count": 161,
   "metadata": {},
   "outputs": [],
   "source": [
    "feature = 'BsmtFinSF2'\n",
    "max_value = df_test[[feature]].max()[0]\n",
    "min_value = df_test[[feature]].min()[0]\n",
    "\n",
    "df_test[feature+'_range'] = df_test.apply(lambda x: create_ranges(max_value, min_value, x[[feature]][0]), axis=1)"
   ]
  },
  {
   "cell_type": "code",
   "execution_count": 162,
   "metadata": {},
   "outputs": [],
   "source": [
    "df_train.drop('BsmtFinSF2', axis=1, inplace=True)\n",
    "df_test.drop('BsmtFinSF2', axis=1, inplace=True)"
   ]
  },
  {
   "cell_type": "markdown",
   "metadata": {},
   "source": [
    "## 3.38 BsmtUnfSF: Unfinished square feet of basement area"
   ]
  },
  {
   "cell_type": "code",
   "execution_count": 163,
   "metadata": {},
   "outputs": [
    {
     "data": {
      "text/plain": [
       "count    1457.000000\n",
       "mean      567.770075\n",
       "std       441.944739\n",
       "min         0.000000\n",
       "25%       224.000000\n",
       "50%       479.000000\n",
       "75%       808.000000\n",
       "max      2336.000000\n",
       "Name: BsmtUnfSF, dtype: float64"
      ]
     },
     "execution_count": 163,
     "metadata": {},
     "output_type": "execute_result"
    }
   ],
   "source": [
    "df_train.BsmtUnfSF.describe()"
   ]
  },
  {
   "cell_type": "code",
   "execution_count": 164,
   "metadata": {},
   "outputs": [
    {
     "data": {
      "text/plain": [
       "<matplotlib.axes._subplots.AxesSubplot at 0x1a1ebd9c88>"
      ]
     },
     "execution_count": 164,
     "metadata": {},
     "output_type": "execute_result"
    },
    {
     "data": {
      "image/png": "[encoded data removed]",
      "text/plain": [
       "<Figure size 432x288 with 1 Axes>"
      ]
     },
     "metadata": {
      "needs_background": "light"
     },
     "output_type": "display_data"
    }
   ],
   "source": [
    "df_train.BsmtUnfSF.plot()"
   ]
  },
  {
   "cell_type": "code",
   "execution_count": 165,
   "metadata": {},
   "outputs": [],
   "source": [
    "feature = 'BsmtUnfSF'\n",
    "max_value = df_train[[feature]].max()[0]\n",
    "min_value = df_train[[feature]].min()[0]\n",
    "\n",
    "df_train[feature+'_range'] = df_train.apply(lambda x: create_ranges(max_value, min_value, x[[feature]][0]), axis=1)"
   ]
  },
  {
   "cell_type": "markdown",
   "metadata": {},
   "source": [
    "**Fill NaN in test set**"
   ]
  },
  {
   "cell_type": "code",
   "execution_count": 166,
   "metadata": {},
   "outputs": [
    {
     "data": {
      "text/plain": [
       "1"
      ]
     },
     "execution_count": 166,
     "metadata": {},
     "output_type": "execute_result"
    }
   ],
   "source": [
    "df_test.BsmtUnfSF.isna().sum()"
   ]
  },
  {
   "cell_type": "code",
   "execution_count": 167,
   "metadata": {},
   "outputs": [],
   "source": [
    "df_test.BsmtUnfSF.fillna(df_test.BsmtUnfSF.mean(), inplace=True)"
   ]
  },
  {
   "cell_type": "code",
   "execution_count": 168,
   "metadata": {},
   "outputs": [],
   "source": [
    "feature = 'BsmtUnfSF'\n",
    "max_value = df_test[[feature]].max()[0]\n",
    "min_value = df_test[[feature]].min()[0]\n",
    "\n",
    "df_test[feature+'_range'] = df_test.apply(lambda x: create_ranges(max_value, min_value, x[[feature]][0]), axis=1)"
   ]
  },
  {
   "cell_type": "code",
   "execution_count": 169,
   "metadata": {},
   "outputs": [],
   "source": [
    "df_train.drop('BsmtUnfSF', axis=1, inplace=True)\n",
    "df_test.drop('BsmtUnfSF', axis=1, inplace=True)"
   ]
  },
  {
   "cell_type": "markdown",
   "metadata": {},
   "source": [
    "## 3.39 TotalBsmtSF: Total square feet of basement area"
   ]
  },
  {
   "cell_type": "code",
   "execution_count": 170,
   "metadata": {},
   "outputs": [
    {
     "data": {
      "text/plain": [
       "count    1457.000000\n",
       "mean     1056.120796\n",
       "std       437.974511\n",
       "min         0.000000\n",
       "25%       795.000000\n",
       "50%       991.000000\n",
       "75%      1296.000000\n",
       "max      6110.000000\n",
       "Name: TotalBsmtSF, dtype: float64"
      ]
     },
     "execution_count": 170,
     "metadata": {},
     "output_type": "execute_result"
    }
   ],
   "source": [
    "df_train.TotalBsmtSF.describe()"
   ]
  },
  {
   "cell_type": "code",
   "execution_count": 171,
   "metadata": {},
   "outputs": [
    {
     "data": {
      "text/plain": [
       "<matplotlib.axes._subplots.AxesSubplot at 0x109c13f98>"
      ]
     },
     "execution_count": 171,
     "metadata": {},
     "output_type": "execute_result"
    },
    {
     "data": {
      "image/png": "[encoded data removed]",
      "text/plain": [
       "<Figure size 432x288 with 1 Axes>"
      ]
     },
     "metadata": {
      "needs_background": "light"
     },
     "output_type": "display_data"
    }
   ],
   "source": [
    "df_train.TotalBsmtSF.plot()"
   ]
  },
  {
   "cell_type": "code",
   "execution_count": 172,
   "metadata": {},
   "outputs": [
    {
     "data": {
      "text/plain": [
       "1056.120796156486"
      ]
     },
     "execution_count": 172,
     "metadata": {},
     "output_type": "execute_result"
    }
   ],
   "source": [
    "TotalBsmtSF_mean = df_train.TotalBsmtSF.mean()\n",
    "TotalBsmtSF_mean"
   ]
  },
  {
   "cell_type": "markdown",
   "metadata": {},
   "source": [
    "**Remove outliers**"
   ]
  },
  {
   "cell_type": "code",
   "execution_count": 173,
   "metadata": {},
   "outputs": [],
   "source": [
    "df_train['TotalBsmtSF_range'] = df_train.apply(lambda x: TotalBsmtSF_mean if x.TotalBsmtSF > 4000 else x.TotalBsmtSF, axis=1)\n",
    "df_test['TotalBsmtSF_range'] = df_test.apply(lambda x: TotalBsmtSF_mean if x.TotalBsmtSF > 4000 else x.TotalBsmtSF, axis=1)"
   ]
  },
  {
   "cell_type": "code",
   "execution_count": 174,
   "metadata": {},
   "outputs": [
    {
     "data": {
      "text/plain": [
       "<matplotlib.axes._subplots.AxesSubplot at 0x109c10be0>"
      ]
     },
     "execution_count": 174,
     "metadata": {},
     "output_type": "execute_result"
    },
    {
     "data": {
      "image/png": "[encoded data removed]",
      "text/plain": [
       "<Figure size 432x288 with 1 Axes>"
      ]
     },
     "metadata": {
      "needs_background": "light"
     },
     "output_type": "display_data"
    }
   ],
   "source": [
    "df_train.TotalBsmtSF_range.plot()"
   ]
  },
  {
   "cell_type": "code",
   "execution_count": 175,
   "metadata": {},
   "outputs": [],
   "source": [
    "feature = 'TotalBsmtSF'\n",
    "max_value = df_train[[feature]].max()[0]\n",
    "min_value = df_train[[feature]].min()[0]\n",
    "\n",
    "df_train[feature+'_range'] = df_train.apply(lambda x: create_ranges(max_value, min_value, x[[feature]][0]), axis=1)"
   ]
  },
  {
   "cell_type": "markdown",
   "metadata": {},
   "source": [
    "**Fill NaN in test set**"
   ]
  },
  {
   "cell_type": "code",
   "execution_count": 176,
   "metadata": {},
   "outputs": [
    {
     "data": {
      "text/plain": [
       "1"
      ]
     },
     "execution_count": 176,
     "metadata": {},
     "output_type": "execute_result"
    }
   ],
   "source": [
    "df_test.TotalBsmtSF.isna().sum()"
   ]
  },
  {
   "cell_type": "code",
   "execution_count": 177,
   "metadata": {},
   "outputs": [],
   "source": [
    "df_test.TotalBsmtSF.fillna(df_test.TotalBsmtSF.mean(), inplace=True)"
   ]
  },
  {
   "cell_type": "code",
   "execution_count": 178,
   "metadata": {},
   "outputs": [],
   "source": [
    "feature = 'TotalBsmtSF'\n",
    "max_value = df_test[[feature]].max()[0]\n",
    "min_value = df_test[[feature]].min()[0]\n",
    "\n",
    "df_test[feature+'_range'] = df_test.apply(lambda x: create_ranges(max_value, min_value, x[[feature]][0]), axis=1)"
   ]
  },
  {
   "cell_type": "code",
   "execution_count": 179,
   "metadata": {},
   "outputs": [],
   "source": [
    "df_train.drop('TotalBsmtSF', axis=1, inplace=True)\n",
    "df_test.drop('TotalBsmtSF', axis=1, inplace=True)"
   ]
  },
  {
   "cell_type": "markdown",
   "metadata": {},
   "source": [
    "## 3.40 Heating: Type of heating\n",
    "\n",
    "       Floor\tFloor Furnace\n",
    "       GasA\tGas forced warm air furnace\n",
    "       GasW\tGas hot water or steam heat\n",
    "       Grav\tGravity furnace\t\n",
    "       OthW\tHot water or steam heat other than gas\n",
    "       Wall\tWall furnace"
   ]
  },
  {
   "cell_type": "code",
   "execution_count": 180,
   "metadata": {},
   "outputs": [
    {
     "data": {
      "text/plain": [
       "GasA     1426\n",
       "GasW       17\n",
       "Grav        7\n",
       "Wall        4\n",
       "OthW        2\n",
       "Floor       1\n",
       "Name: Heating, dtype: int64"
      ]
     },
     "execution_count": 180,
     "metadata": {},
     "output_type": "execute_result"
    }
   ],
   "source": [
    "df_train.Heating.value_counts(dropna=False)"
   ]
  },
  {
   "cell_type": "markdown",
   "metadata": {},
   "source": [
    "**Remove as it gives no new information**"
   ]
  },
  {
   "cell_type": "code",
   "execution_count": 181,
   "metadata": {},
   "outputs": [],
   "source": [
    "df_train.drop('Heating', axis=1, inplace=True)\n",
    "df_test.drop('Heating', axis=1, inplace=True)"
   ]
  },
  {
   "cell_type": "markdown",
   "metadata": {},
   "source": [
    "## 3.41 HeatingQC: Heating quality and condition\n",
    "       Ex\tExcellent\n",
    "       Gd\tGood\n",
    "       TA\tAverage/Typical\n",
    "       Fa\tFair\n",
    "       Po\tPoor\n",
    "\t\t"
   ]
  },
  {
   "cell_type": "code",
   "execution_count": 182,
   "metadata": {},
   "outputs": [
    {
     "data": {
      "text/plain": [
       "Ex    740\n",
       "TA    427\n",
       "Gd    240\n",
       "Fa     49\n",
       "Po      1\n",
       "Name: HeatingQC, dtype: int64"
      ]
     },
     "execution_count": 182,
     "metadata": {},
     "output_type": "execute_result"
    }
   ],
   "source": [
    "df_train.HeatingQC.value_counts(dropna=False)"
   ]
  },
  {
   "cell_type": "code",
   "execution_count": 183,
   "metadata": {},
   "outputs": [],
   "source": [
    "df_train = pd.concat([df_train, pd.get_dummies(df_train.HeatingQC, prefix='HeatingQC')], axis=1)\n",
    "df_test = pd.concat([df_test, pd.get_dummies(df_test.HeatingQC, prefix='HeatingQC')], axis=1)"
   ]
  },
  {
   "cell_type": "code",
   "execution_count": 184,
   "metadata": {},
   "outputs": [],
   "source": [
    "df_train.drop('HeatingQC', axis=1, inplace=True)\n",
    "df_test.drop('HeatingQC', axis=1, inplace=True)"
   ]
  },
  {
   "cell_type": "markdown",
   "metadata": {},
   "source": [
    "## 3.42 CentralAir: Central air conditioning\n",
    "\n",
    "       N\tNo\n",
    "       Y\tYes"
   ]
  },
  {
   "cell_type": "code",
   "execution_count": 185,
   "metadata": {},
   "outputs": [
    {
     "data": {
      "text/plain": [
       "Y    1362\n",
       "N      95\n",
       "Name: CentralAir, dtype: int64"
      ]
     },
     "execution_count": 185,
     "metadata": {},
     "output_type": "execute_result"
    }
   ],
   "source": [
    "df_train.CentralAir.value_counts(dropna=False)"
   ]
  },
  {
   "cell_type": "code",
   "execution_count": 186,
   "metadata": {},
   "outputs": [],
   "source": [
    "df_train = pd.concat([df_train, pd.get_dummies(df_train.CentralAir, prefix='CentralAir')], axis=1)\n",
    "df_test = pd.concat([df_test, pd.get_dummies(df_test.CentralAir, prefix='CentralAir')], axis=1)"
   ]
  },
  {
   "cell_type": "code",
   "execution_count": 187,
   "metadata": {},
   "outputs": [],
   "source": [
    "df_train.drop('CentralAir', axis=1, inplace=True)\n",
    "df_test.drop('CentralAir', axis=1, inplace=True)"
   ]
  },
  {
   "cell_type": "markdown",
   "metadata": {},
   "source": [
    "## 3.43 Electrical: Electrical system\n",
    "\n",
    "       SBrkr\tStandard Circuit Breakers & Romex\n",
    "       FuseA\tFuse Box over 60 AMP and all Romex wiring (Average)\t\n",
    "       FuseF\t60 AMP Fuse Box and mostly Romex wiring (Fair)\n",
    "       FuseP\t60 AMP Fuse Box and mostly knob & tube wiring (poor)\n",
    "       Mix\t  Mixed"
   ]
  },
  {
   "cell_type": "code",
   "execution_count": 188,
   "metadata": {},
   "outputs": [
    {
     "data": {
      "text/plain": [
       "SBrkr    1331\n",
       "FuseA      94\n",
       "FuseF      27\n",
       "FuseP       3\n",
       "Mix         1\n",
       "NaN         1\n",
       "Name: Electrical, dtype: int64"
      ]
     },
     "execution_count": 188,
     "metadata": {},
     "output_type": "execute_result"
    }
   ],
   "source": [
    "df_train.Electrical.value_counts(dropna=False)"
   ]
  },
  {
   "cell_type": "markdown",
   "metadata": {},
   "source": [
    "**Remove as it gives no new information**"
   ]
  },
  {
   "cell_type": "code",
   "execution_count": 189,
   "metadata": {},
   "outputs": [],
   "source": [
    "df_train.drop('Electrical', axis=1, inplace=True)\n",
    "df_test.drop('Electrical', axis=1, inplace=True)"
   ]
  },
  {
   "cell_type": "markdown",
   "metadata": {},
   "source": [
    "## 3.44 1stFlrSF: First Floor square feet"
   ]
  },
  {
   "cell_type": "code",
   "execution_count": 190,
   "metadata": {},
   "outputs": [],
   "source": [
    "df_train.rename({'1stFlrSF':'FirstFlrSF'}, axis=1, inplace=True)\n",
    "df_test.rename({'1stFlrSF':'FirstFlrSF'}, axis=1, inplace=True)"
   ]
  },
  {
   "cell_type": "code",
   "execution_count": 191,
   "metadata": {},
   "outputs": [
    {
     "data": {
      "text/plain": [
       "FirstFlrSF    0\n",
       "dtype: int64"
      ]
     },
     "execution_count": 191,
     "metadata": {},
     "output_type": "execute_result"
    }
   ],
   "source": [
    "df_train[['FirstFlrSF']].isna().sum()"
   ]
  },
  {
   "cell_type": "code",
   "execution_count": 192,
   "metadata": {},
   "outputs": [
    {
     "data": {
      "text/plain": [
       "<matplotlib.axes._subplots.AxesSubplot at 0x1a1f420c18>"
      ]
     },
     "execution_count": 192,
     "metadata": {},
     "output_type": "execute_result"
    },
    {
     "data": {
      "image/png": "[encoded data removed]",
      "text/plain": [
       "<Figure size 432x288 with 1 Axes>"
      ]
     },
     "metadata": {
      "needs_background": "light"
     },
     "output_type": "display_data"
    }
   ],
   "source": [
    "df_train[['FirstFlrSF']].plot()"
   ]
  },
  {
   "cell_type": "markdown",
   "metadata": {},
   "source": [
    "**Remove outliers**"
   ]
  },
  {
   "cell_type": "code",
   "execution_count": 193,
   "metadata": {},
   "outputs": [
    {
     "data": {
      "text/plain": [
       "1161.5209334248457"
      ]
     },
     "execution_count": 193,
     "metadata": {},
     "output_type": "execute_result"
    }
   ],
   "source": [
    "FirststFlrSF_mean = df_train[['FirstFlrSF']].mean()[0]\n",
    "FirststFlrSF_mean"
   ]
  },
  {
   "cell_type": "code",
   "execution_count": 194,
   "metadata": {},
   "outputs": [],
   "source": [
    "df_train['FirstFlrSF'] = df_train.apply(lambda x: FirststFlrSF_mean if x.FirstFlrSF > 4000 else x.FirstFlrSF, axis=1)\n",
    "df_test['FirstFlrSF'] = df_test.apply(lambda x: FirststFlrSF_mean if x.FirstFlrSF > 4000 else x.FirstFlrSF, axis=1)"
   ]
  },
  {
   "cell_type": "markdown",
   "metadata": {},
   "source": [
    "**Create and implement ranges**"
   ]
  },
  {
   "cell_type": "code",
   "execution_count": 195,
   "metadata": {},
   "outputs": [],
   "source": [
    "feature = 'FirstFlrSF'\n",
    "max_value = df_train[[feature]].max()[0]\n",
    "min_value = df_train[[feature]].min()[0]\n",
    "\n",
    "df_train[feature+'_range'] = df_train.apply(lambda x: create_ranges(max_value, min_value, x[[feature]][0]), axis=1)"
   ]
  },
  {
   "cell_type": "code",
   "execution_count": 196,
   "metadata": {},
   "outputs": [],
   "source": [
    "feature = 'FirstFlrSF'\n",
    "max_value = df_test[[feature]].max()[0]\n",
    "min_value = df_test[[feature]].min()[0]\n",
    "\n",
    "df_test[feature+'_range'] = df_test.apply(lambda x: create_ranges(max_value, min_value, x[[feature]][0]), axis=1)"
   ]
  },
  {
   "cell_type": "code",
   "execution_count": 197,
   "metadata": {},
   "outputs": [
    {
     "data": {
      "text/html": [
       "<div>\n",
       "<style scoped>\n",
       "    .dataframe tbody tr th:only-of-type {\n",
       "        vertical-align: middle;\n",
       "    }\n",
       "\n",
       "    .dataframe tbody tr th {\n",
       "        vertical-align: top;\n",
       "    }\n",
       "\n",
       "    .dataframe thead th {\n",
       "        text-align: right;\n",
       "    }\n",
       "</style>\n",
       "<table border=\"1\" class=\"dataframe\">\n",
       "  <thead>\n",
       "    <tr style=\"text-align: right;\">\n",
       "      <th></th>\n",
       "      <th>Id</th>\n",
       "      <th>LotArea</th>\n",
       "      <th>OverallQual</th>\n",
       "      <th>OverallCond</th>\n",
       "      <th>MasVnrArea</th>\n",
       "      <th>FirstFlrSF</th>\n",
       "      <th>2ndFlrSF</th>\n",
       "      <th>LowQualFinSF</th>\n",
       "      <th>GrLivArea</th>\n",
       "      <th>BsmtFullBath</th>\n",
       "      <th>...</th>\n",
       "      <th>BsmtUnfSF_range</th>\n",
       "      <th>TotalBsmtSF_range</th>\n",
       "      <th>HeatingQC_Ex</th>\n",
       "      <th>HeatingQC_Fa</th>\n",
       "      <th>HeatingQC_Gd</th>\n",
       "      <th>HeatingQC_Po</th>\n",
       "      <th>HeatingQC_TA</th>\n",
       "      <th>CentralAir_N</th>\n",
       "      <th>CentralAir_Y</th>\n",
       "      <th>FirstFlrSF_range</th>\n",
       "    </tr>\n",
       "  </thead>\n",
       "  <tbody>\n",
       "    <tr>\n",
       "      <th>0</th>\n",
       "      <td>1</td>\n",
       "      <td>8450</td>\n",
       "      <td>7</td>\n",
       "      <td>5</td>\n",
       "      <td>196.0</td>\n",
       "      <td>856.0</td>\n",
       "      <td>854</td>\n",
       "      <td>0</td>\n",
       "      <td>1710</td>\n",
       "      <td>1</td>\n",
       "      <td>...</td>\n",
       "      <td>1</td>\n",
       "      <td>1</td>\n",
       "      <td>1</td>\n",
       "      <td>0</td>\n",
       "      <td>0</td>\n",
       "      <td>0</td>\n",
       "      <td>0</td>\n",
       "      <td>0</td>\n",
       "      <td>1</td>\n",
       "      <td>3</td>\n",
       "    </tr>\n",
       "    <tr>\n",
       "      <th>1</th>\n",
       "      <td>2</td>\n",
       "      <td>9600</td>\n",
       "      <td>6</td>\n",
       "      <td>8</td>\n",
       "      <td>0.0</td>\n",
       "      <td>1262.0</td>\n",
       "      <td>0</td>\n",
       "      <td>0</td>\n",
       "      <td>1262</td>\n",
       "      <td>0</td>\n",
       "      <td>...</td>\n",
       "      <td>1</td>\n",
       "      <td>2</td>\n",
       "      <td>1</td>\n",
       "      <td>0</td>\n",
       "      <td>0</td>\n",
       "      <td>0</td>\n",
       "      <td>0</td>\n",
       "      <td>0</td>\n",
       "      <td>1</td>\n",
       "      <td>4</td>\n",
       "    </tr>\n",
       "    <tr>\n",
       "      <th>2</th>\n",
       "      <td>3</td>\n",
       "      <td>11250</td>\n",
       "      <td>7</td>\n",
       "      <td>5</td>\n",
       "      <td>162.0</td>\n",
       "      <td>920.0</td>\n",
       "      <td>866</td>\n",
       "      <td>0</td>\n",
       "      <td>1786</td>\n",
       "      <td>1</td>\n",
       "      <td>...</td>\n",
       "      <td>2</td>\n",
       "      <td>2</td>\n",
       "      <td>1</td>\n",
       "      <td>0</td>\n",
       "      <td>0</td>\n",
       "      <td>0</td>\n",
       "      <td>0</td>\n",
       "      <td>0</td>\n",
       "      <td>1</td>\n",
       "      <td>4</td>\n",
       "    </tr>\n",
       "    <tr>\n",
       "      <th>3</th>\n",
       "      <td>4</td>\n",
       "      <td>9550</td>\n",
       "      <td>7</td>\n",
       "      <td>5</td>\n",
       "      <td>0.0</td>\n",
       "      <td>961.0</td>\n",
       "      <td>756</td>\n",
       "      <td>0</td>\n",
       "      <td>1717</td>\n",
       "      <td>1</td>\n",
       "      <td>...</td>\n",
       "      <td>2</td>\n",
       "      <td>1</td>\n",
       "      <td>0</td>\n",
       "      <td>0</td>\n",
       "      <td>1</td>\n",
       "      <td>0</td>\n",
       "      <td>0</td>\n",
       "      <td>0</td>\n",
       "      <td>1</td>\n",
       "      <td>4</td>\n",
       "    </tr>\n",
       "    <tr>\n",
       "      <th>4</th>\n",
       "      <td>5</td>\n",
       "      <td>14260</td>\n",
       "      <td>8</td>\n",
       "      <td>5</td>\n",
       "      <td>350.0</td>\n",
       "      <td>1145.0</td>\n",
       "      <td>1053</td>\n",
       "      <td>0</td>\n",
       "      <td>2198</td>\n",
       "      <td>1</td>\n",
       "      <td>...</td>\n",
       "      <td>2</td>\n",
       "      <td>2</td>\n",
       "      <td>1</td>\n",
       "      <td>0</td>\n",
       "      <td>0</td>\n",
       "      <td>0</td>\n",
       "      <td>0</td>\n",
       "      <td>0</td>\n",
       "      <td>1</td>\n",
       "      <td>4</td>\n",
       "    </tr>\n",
       "  </tbody>\n",
       "</table>\n",
       "<p>5 rows × 194 columns</p>\n",
       "</div>"
      ],
      "text/plain": [
       "   Id  LotArea  OverallQual  OverallCond  MasVnrArea  FirstFlrSF  2ndFlrSF  \\\n",
       "0   1     8450            7            5       196.0       856.0       854   \n",
       "1   2     9600            6            8         0.0      1262.0         0   \n",
       "2   3    11250            7            5       162.0       920.0       866   \n",
       "3   4     9550            7            5         0.0       961.0       756   \n",
       "4   5    14260            8            5       350.0      1145.0      1053   \n",
       "\n",
       "   LowQualFinSF  GrLivArea  BsmtFullBath  ...  BsmtUnfSF_range  \\\n",
       "0             0       1710             1  ...                1   \n",
       "1             0       1262             0  ...                1   \n",
       "2             0       1786             1  ...                2   \n",
       "3             0       1717             1  ...                2   \n",
       "4             0       2198             1  ...                2   \n",
       "\n",
       "   TotalBsmtSF_range  HeatingQC_Ex  HeatingQC_Fa  HeatingQC_Gd HeatingQC_Po  \\\n",
       "0                  1             1             0             0            0   \n",
       "1                  2             1             0             0            0   \n",
       "2                  2             1             0             0            0   \n",
       "3                  1             0             0             1            0   \n",
       "4                  2             1             0             0            0   \n",
       "\n",
       "   HeatingQC_TA CentralAir_N  CentralAir_Y FirstFlrSF_range  \n",
       "0             0            0             1                3  \n",
       "1             0            0             1                4  \n",
       "2             0            0             1                4  \n",
       "3             0            0             1                4  \n",
       "4             0            0             1                4  \n",
       "\n",
       "[5 rows x 194 columns]"
      ]
     },
     "execution_count": 197,
     "metadata": {},
     "output_type": "execute_result"
    }
   ],
   "source": [
    "df_train.head()"
   ]
  },
  {
   "cell_type": "code",
   "execution_count": 198,
   "metadata": {},
   "outputs": [],
   "source": [
    "df_train = pd.concat([df_train, pd.get_dummies(df_train.FirstFlrSF, prefix='FirstFlrSF')], axis=1)\n",
    "df_test = pd.concat([df_test, pd.get_dummies(df_test.FirstFlrSF, prefix='FirstFlrSF')], axis=1)"
   ]
  },
  {
   "cell_type": "code",
   "execution_count": 199,
   "metadata": {},
   "outputs": [],
   "source": [
    "df_train.drop('FirstFlrSF', axis=1, inplace=True)\n",
    "df_test.drop('FirstFlrSF', axis=1, inplace=True)"
   ]
  },
  {
   "cell_type": "code",
   "execution_count": 200,
   "metadata": {},
   "outputs": [],
   "source": [
    "#df_train.drop('FirstFlrSF_range', axis=1, inplace=True)\n",
    "#df_test.drop('FirstFlrSF_range', axis=1, inplace=True)"
   ]
  },
  {
   "cell_type": "code",
   "execution_count": null,
   "metadata": {},
   "outputs": [],
   "source": []
  },
  {
   "cell_type": "code",
   "execution_count": 201,
   "metadata": {},
   "outputs": [
    {
     "name": "stdout",
     "output_type": "stream",
     "text": [
      "MSSubClass: Identifies the type of dwelling involved in the sale.\t\n",
      "\n",
      "        20\t1-STORY 1946 & NEWER ALL STYLES\n",
      "        30\t1-STORY 1945 & OLDER\n",
      "        40\t1-STORY W/FINISHED ATTIC ALL AGES\n",
      "        45\t1-1/2 STORY - UNFINISHED ALL AGES\n",
      "        50\t1-1/2 STORY FINISHED ALL AGES\n",
      "        60\t2-STORY 1946 & NEWER\n",
      "        70\t2-STORY 1945 & OLDER\n",
      "        75\t2-1/2 STORY ALL AGES\n",
      "        80\tSPLIT OR MULTI-LEVEL\n",
      "        85\tSPLIT FOYER\n",
      "        90\tDUPLEX - ALL STYLES AND AGES\n",
      "       120\t1-STORY PUD (Planned Unit Development) - 1946 & NEWER\n",
      "       150\t1-1/2 STORY PUD - ALL AGES\n",
      "       160\t2-STORY PUD - 1946 & NEWER\n",
      "       180\tPUD - MULTILEVEL - INCL SPLIT LEV/FOYER\n",
      "       190\t2 FAMILY CONVERSION - ALL STYLES AND AGES\n",
      "\n",
      "MSZoning: Identifies the general zoning classification of the sale.\n",
      "\t\t\n",
      "       A\tAgriculture\n",
      "       C\tCommercial\n",
      "       FV\tFloating Village Residential\n",
      "       I\tIndustrial\n",
      "       RH\tResidential High Density\n",
      "       RL\tResidential Low Density\n",
      "       RP\tResidential Low Density Park \n",
      "       RM\tResidential Medium Density\n",
      "\t\n",
      "LotFrontage: Linear feet of street connected to property\n",
      "\n",
      "LotArea: Lot size in square feet\n",
      "\n",
      "Street: Type of road access to property\n",
      "\n",
      "       Grvl\tGravel\t\n",
      "       Pave\tPaved\n",
      "       \t\n",
      "Alley: Type of alley access to property\n",
      "\n",
      "       Grvl\tGravel\n",
      "       Pave\tPaved\n",
      "       NA \tNo alley access\n",
      "\t\t\n",
      "LotShape: General shape of property\n",
      "\n",
      "       Reg\tRegular\t\n",
      "       IR1\tSlightly irregular\n",
      "       IR2\tModerately Irregular\n",
      "       IR3\tIrregular\n",
      "       \n",
      "LandContour: Flatness of the property\n",
      "\n",
      "       Lvl\tNear Flat/Level\t\n",
      "       Bnk\tBanked - Quick and significant rise from street grade to building\n",
      "       HLS\tHillside - Significant slope from side to side\n",
      "       Low\tDepression\n",
      "\t\t\n",
      "Utilities: Type of utilities available\n",
      "\t\t\n",
      "       AllPub\tAll public Utilities (E,G,W,& S)\t\n",
      "       NoSewr\tElectricity, Gas, and Water (Septic Tank)\n",
      "       NoSeWa\tElectricity and Gas Only\n",
      "       ELO\tElectricity only\t\n",
      "\t\n",
      "LotConfig: Lot configuration\n",
      "\n",
      "       Inside\tInside lot\n",
      "       Corner\tCorner lot\n",
      "       CulDSac\tCul-de-sac\n",
      "       FR2\tFrontage on 2 sides of property\n",
      "       FR3\tFrontage on 3 sides of property\n",
      "\t\n",
      "LandSlope: Slope of property\n",
      "\t\t\n",
      "       Gtl\tGentle slope\n",
      "       Mod\tModerate Slope\t\n",
      "       Sev\tSevere Slope\n",
      "\t\n",
      "Neighborhood: Physical locations within Ames city limits\n",
      "\n",
      "       Blmngtn\tBloomington Heights\n",
      "       Blueste\tBluestem\n",
      "       BrDale\tBriardale\n",
      "       BrkSide\tBrookside\n",
      "       ClearCr\tClear Creek\n",
      "       CollgCr\tCollege Creek\n",
      "       Crawfor\tCrawford\n",
      "       Edwards\tEdwards\n",
      "       Gilbert\tGilbert\n",
      "       IDOTRR\tIowa DOT and Rail Road\n",
      "       MeadowV\tMeadow Village\n",
      "       Mitchel\tMitchell\n",
      "       Names\tNorth Ames\n",
      "       NoRidge\tNorthridge\n",
      "       NPkVill\tNorthpark Villa\n",
      "       NridgHt\tNorthridge Heights\n",
      "       NWAmes\tNorthwest Ames\n",
      "       OldTown\tOld Town\n",
      "       SWISU\tSouth & West of Iowa State University\n",
      "       Sawyer\tSawyer\n",
      "       SawyerW\tSawyer West\n",
      "       Somerst\tSomerset\n",
      "       StoneBr\tStone Brook\n",
      "       Timber\tTimberland\n",
      "       Veenker\tVeenker\n",
      "\t\t\t\n",
      "Condition1: Proximity to various conditions\n",
      "\t\n",
      "       Artery\tAdjacent to arterial street\n",
      "       Feedr\tAdjacent to feeder street\t\n",
      "       Norm\tNormal\t\n",
      "       RRNn\tWithin 200' of North-South Railroad\n",
      "       RRAn\tAdjacent to North-South Railroad\n",
      "       PosN\tNear positive off-site feature--park, greenbelt, etc.\n",
      "       PosA\tAdjacent to postive off-site feature\n",
      "       RRNe\tWithin 200' of East-West Railroad\n",
      "       RRAe\tAdjacent to East-West Railroad\n",
      "\t\n",
      "Condition2: Proximity to various conditions (if more than one is present)\n",
      "\t\t\n",
      "       Artery\tAdjacent to arterial street\n",
      "       Feedr\tAdjacent to feeder street\t\n",
      "       Norm\tNormal\t\n",
      "       RRNn\tWithin 200' of North-South Railroad\n",
      "       RRAn\tAdjacent to North-South Railroad\n",
      "       PosN\tNear positive off-site feature--park, greenbelt, etc.\n",
      "       PosA\tAdjacent to postive off-site feature\n",
      "       RRNe\tWithin 200' of East-West Railroad\n",
      "       RRAe\tAdjacent to East-West Railroad\n",
      "\t\n",
      "BldgType: Type of dwelling\n",
      "\t\t\n",
      "       1Fam\tSingle-family Detached\t\n",
      "       2FmCon\tTwo-family Conversion; originally built as one-family dwelling\n",
      "       Duplx\tDuplex\n",
      "       TwnhsE\tTownhouse End Unit\n",
      "       TwnhsI\tTownhouse Inside Unit\n",
      "\t\n",
      "HouseStyle: Style of dwelling\n",
      "\t\n",
      "       1Story\tOne story\n",
      "       1.5Fin\tOne and one-half story: 2nd level finished\n",
      "       1.5Unf\tOne and one-half story: 2nd level unfinished\n",
      "       2Story\tTwo story\n",
      "       2.5Fin\tTwo and one-half story: 2nd level finished\n",
      "       2.5Unf\tTwo and one-half story: 2nd level unfinished\n",
      "       SFoyer\tSplit Foyer\n",
      "       SLvl\tSplit Level\n",
      "\t\n",
      "OverallQual: Rates the overall material and finish of the house\n",
      "\n",
      "       10\tVery Excellent\n",
      "       9\tExcellent\n",
      "       8\tVery Good\n",
      "       7\tGood\n",
      "       6\tAbove Average\n",
      "       5\tAverage\n",
      "       4\tBelow Average\n",
      "       3\tFair\n",
      "       2\tPoor\n",
      "       1\tVery Poor\n",
      "\t\n",
      "OverallCond: Rates the overall condition of the house\n",
      "\n",
      "       10\tVery Excellent\n",
      "       9\tExcellent\n",
      "       8\tVery Good\n",
      "       7\tGood\n",
      "       6\tAbove Average\t\n",
      "       5\tAverage\n",
      "       4\tBelow Average\t\n",
      "       3\tFair\n",
      "       2\tPoor\n",
      "       1\tVery Poor\n",
      "\t\t\n",
      "YearBuilt: Original construction date\n",
      "\n",
      "YearRemodAdd: Remodel date (same as construction date if no remodeling or additions)\n",
      "\n",
      "RoofStyle: Type of roof\n",
      "\n",
      "       Flat\tFlat\n",
      "       Gable\tGable\n",
      "       Gambrel\tGabrel (Barn)\n",
      "       Hip\tHip\n",
      "       Mansard\tMansard\n",
      "       Shed\tShed\n",
      "\t\t\n",
      "RoofMatl: Roof material\n",
      "\n",
      "       ClyTile\tClay or Tile\n",
      "       CompShg\tStandard (Composite) Shingle\n",
      "       Membran\tMembrane\n",
      "       Metal\tMetal\n",
      "       Roll\tRoll\n",
      "       Tar&Grv\tGravel & Tar\n",
      "       WdShake\tWood Shakes\n",
      "       WdShngl\tWood Shingles\n",
      "\t\t\n",
      "Exterior1st: Exterior covering on house\n",
      "\n",
      "       AsbShng\tAsbestos Shingles\n",
      "       AsphShn\tAsphalt Shingles\n",
      "       BrkComm\tBrick Common\n",
      "       BrkFace\tBrick Face\n",
      "       CBlock\tCinder Block\n",
      "       CemntBd\tCement Board\n",
      "       HdBoard\tHard Board\n",
      "       ImStucc\tImitation Stucco\n",
      "       MetalSd\tMetal Siding\n",
      "       Other\tOther\n",
      "       Plywood\tPlywood\n",
      "       PreCast\tPreCast\t\n",
      "       Stone\tStone\n",
      "       Stucco\tStucco\n",
      "       VinylSd\tVinyl Siding\n",
      "       Wd Sdng\tWood Siding\n",
      "       WdShing\tWood Shingles\n",
      "\t\n",
      "Exterior2nd: Exterior covering on house (if more than one material)\n",
      "\n",
      "       AsbShng\tAsbestos Shingles\n",
      "       AsphShn\tAsphalt Shingles\n",
      "       BrkComm\tBrick Common\n",
      "       BrkFace\tBrick Face\n",
      "       CBlock\tCinder Block\n",
      "       CemntBd\tCement Board\n",
      "       HdBoard\tHard Board\n",
      "       ImStucc\tImitation Stucco\n",
      "       MetalSd\tMetal Siding\n",
      "       Other\tOther\n",
      "       Plywood\tPlywood\n",
      "       PreCast\tPreCast\n",
      "       Stone\tStone\n",
      "       Stucco\tStucco\n",
      "       VinylSd\tVinyl Siding\n",
      "       Wd Sdng\tWood Siding\n",
      "       WdShing\tWood Shingles\n",
      "\t\n",
      "MasVnrType: Masonry veneer type\n",
      "\n",
      "       BrkCmn\tBrick Common\n",
      "       BrkFace\tBrick Face\n",
      "       CBlock\tCinder Block\n",
      "       None\tNone\n",
      "       Stone\tStone\n",
      "\t\n",
      "MasVnrArea: Masonry veneer area in square feet\n",
      "\n",
      "ExterQual: Evaluates the quality of the material on the exterior \n",
      "\t\t\n",
      "       Ex\tExcellent\n",
      "       Gd\tGood\n",
      "       TA\tAverage/Typical\n",
      "       Fa\tFair\n",
      "       Po\tPoor\n",
      "\t\t\n",
      "ExterCond: Evaluates the present condition of the material on the exterior\n",
      "\t\t\n",
      "       Ex\tExcellent\n",
      "       Gd\tGood\n",
      "       TA\tAverage/Typical\n",
      "       Fa\tFair\n",
      "       Po\tPoor\n",
      "\t\t\n",
      "Foundation: Type of foundation\n",
      "\t\t\n",
      "       BrkTil\tBrick & Tile\n",
      "       CBlock\tCinder Block\n",
      "       PConc\tPoured Contrete\t\n",
      "       Slab\tSlab\n",
      "       Stone\tStone\n",
      "       Wood\tWood\n",
      "\t\t\n",
      "BsmtQual: Evaluates the height of the basement\n",
      "\n",
      "       Ex\tExcellent (100+ inches)\t\n",
      "       Gd\tGood (90-99 inches)\n",
      "       TA\tTypical (80-89 inches)\n",
      "       Fa\tFair (70-79 inches)\n",
      "       Po\tPoor (<70 inches\n",
      "       NA\tNo Basement\n",
      "\t\t\n",
      "BsmtCond: Evaluates the general condition of the basement\n",
      "\n",
      "       Ex\tExcellent\n",
      "       Gd\tGood\n",
      "       TA\tTypical - slight dampness allowed\n",
      "       Fa\tFair - dampness or some cracking or settling\n",
      "       Po\tPoor - Severe cracking, settling, or wetness\n",
      "       NA\tNo Basement\n",
      "\t\n",
      "BsmtExposure: Refers to walkout or garden level walls\n",
      "\n",
      "       Gd\tGood Exposure\n",
      "       Av\tAverage Exposure (split levels or foyers typically score average or above)\t\n",
      "       Mn\tMimimum Exposure\n",
      "       No\tNo Exposure\n",
      "       NA\tNo Basement\n",
      "\t\n",
      "BsmtFinType1: Rating of basement finished area\n",
      "\n",
      "       GLQ\tGood Living Quarters\n",
      "       ALQ\tAverage Living Quarters\n",
      "       BLQ\tBelow Average Living Quarters\t\n",
      "       Rec\tAverage Rec Room\n",
      "       LwQ\tLow Quality\n",
      "       Unf\tUnfinshed\n",
      "       NA\tNo Basement\n",
      "\t\t\n",
      "BsmtFinSF1: Type 1 finished square feet\n",
      "\n",
      "BsmtFinType2: Rating of basement finished area (if multiple types)\n",
      "\n",
      "       GLQ\tGood Living Quarters\n",
      "       ALQ\tAverage Living Quarters\n",
      "       BLQ\tBelow Average Living Quarters\t\n",
      "       Rec\tAverage Rec Room\n",
      "       LwQ\tLow Quality\n",
      "       Unf\tUnfinshed\n",
      "       NA\tNo Basement\n",
      "\n",
      "BsmtFinSF2: Type 2 finished square feet\n",
      "\n",
      "BsmtUnfSF: Unfinished square feet of basement area\n",
      "\n",
      "TotalBsmtSF: Total square feet of basement area\n",
      "\n",
      "Heating: Type of heating\n",
      "\t\t\n",
      "       Floor\tFloor Furnace\n",
      "       GasA\tGas forced warm air furnace\n",
      "       GasW\tGas hot water or steam heat\n",
      "       Grav\tGravity furnace\t\n",
      "       OthW\tHot water or steam heat other than gas\n",
      "       Wall\tWall furnace\n",
      "\t\t\n",
      "HeatingQC: Heating quality and condition\n",
      "\n",
      "       Ex\tExcellent\n",
      "       Gd\tGood\n",
      "       TA\tAverage/Typical\n",
      "       Fa\tFair\n",
      "       Po\tPoor\n",
      "\t\t\n",
      "CentralAir: Central air conditioning\n",
      "\n",
      "       N\tNo\n",
      "       Y\tYes\n",
      "\t\t\n",
      "Electrical: Electrical system\n",
      "\n",
      "       SBrkr\tStandard Circuit Breakers & Romex\n",
      "       FuseA\tFuse Box over 60 AMP and all Romex wiring (Average)\t\n",
      "       FuseF\t60 AMP Fuse Box and mostly Romex wiring (Fair)\n",
      "       FuseP\t60 AMP Fuse Box and mostly knob & tube wiring (poor)\n",
      "       Mix\tMixed\n",
      "\t\t\n",
      "1stFlrSF: First Floor square feet\n",
      " \n",
      "2ndFlrSF: Second floor square feet\n",
      "\n",
      "LowQualFinSF: Low quality finished square feet (all floors)\n",
      "\n",
      "GrLivArea: Above grade (ground) living area square feet\n",
      "\n",
      "BsmtFullBath: Basement full bathrooms\n",
      "\n",
      "BsmtHalfBath: Basement half bathrooms\n",
      "\n",
      "FullBath: Full bathrooms above grade\n",
      "\n",
      "HalfBath: Half baths above grade\n",
      "\n",
      "Bedroom: Bedrooms above grade (does NOT include basement bedrooms)\n",
      "\n",
      "Kitchen: Kitchens above grade\n",
      "\n",
      "KitchenQual: Kitchen quality\n",
      "\n",
      "       Ex\tExcellent\n",
      "       Gd\tGood\n",
      "       TA\tTypical/Average\n",
      "       Fa\tFair\n",
      "       Po\tPoor\n",
      "       \t\n",
      "TotRmsAbvGrd: Total rooms above grade (does not include bathrooms)\n",
      "\n",
      "Functional: Home functionality (Assume typical unless deductions are warranted)\n",
      "\n",
      "       Typ\tTypical Functionality\n",
      "       Min1\tMinor Deductions 1\n",
      "       Min2\tMinor Deductions 2\n",
      "       Mod\tModerate Deductions\n",
      "       Maj1\tMajor Deductions 1\n",
      "       Maj2\tMajor Deductions 2\n",
      "       Sev\tSeverely Damaged\n",
      "       Sal\tSalvage only\n",
      "\t\t\n",
      "Fireplaces: Number of fireplaces\n",
      "\n",
      "FireplaceQu: Fireplace quality\n",
      "\n",
      "       Ex\tExcellent - Exceptional Masonry Fireplace\n",
      "       Gd\tGood - Masonry Fireplace in main level\n",
      "       TA\tAverage - Prefabricated Fireplace in main living area or Masonry Fireplace in basement\n",
      "       Fa\tFair - Prefabricated Fireplace in basement\n",
      "       Po\tPoor - Ben Franklin Stove\n",
      "       NA\tNo Fireplace\n",
      "\t\t\n",
      "GarageType: Garage location\n",
      "\t\t\n",
      "       2Types\tMore than one type of garage\n",
      "       Attchd\tAttached to home\n",
      "       Basment\tBasement Garage\n",
      "       BuiltIn\tBuilt-In (Garage part of house - typically has room above garage)\n",
      "       CarPort\tCar Port\n",
      "       Detchd\tDetached from home\n",
      "       NA\tNo Garage\n",
      "\t\t\n",
      "GarageYrBlt: Year garage was built\n",
      "\t\t\n",
      "GarageFinish: Interior finish of the garage\n",
      "\n",
      "       Fin\tFinished\n",
      "       RFn\tRough Finished\t\n",
      "       Unf\tUnfinished\n",
      "       NA\tNo Garage\n",
      "\t\t\n",
      "GarageCars: Size of garage in car capacity\n",
      "\n",
      "GarageArea: Size of garage in square feet\n",
      "\n",
      "GarageQual: Garage quality\n",
      "\n",
      "       Ex\tExcellent\n",
      "       Gd\tGood\n",
      "       TA\tTypical/Average\n",
      "       Fa\tFair\n",
      "       Po\tPoor\n",
      "       NA\tNo Garage\n",
      "\t\t\n",
      "GarageCond: Garage condition\n",
      "\n",
      "       Ex\tExcellent\n",
      "       Gd\tGood\n",
      "       TA\tTypical/Average\n",
      "       Fa\tFair\n",
      "       Po\tPoor\n",
      "       NA\tNo Garage\n",
      "\t\t\n",
      "PavedDrive: Paved driveway\n",
      "\n",
      "       Y\tPaved \n",
      "       P\tPartial Pavement\n",
      "       N\tDirt/Gravel\n",
      "\t\t\n",
      "WoodDeckSF: Wood deck area in square feet\n",
      "\n",
      "OpenPorchSF: Open porch area in square feet\n",
      "\n",
      "EnclosedPorch: Enclosed porch area in square feet\n",
      "\n",
      "3SsnPorch: Three season porch area in square feet\n",
      "\n",
      "ScreenPorch: Screen porch area in square feet\n",
      "\n",
      "PoolArea: Pool area in square feet\n",
      "\n",
      "PoolQC: Pool quality\n",
      "\t\t\n",
      "       Ex\tExcellent\n",
      "       Gd\tGood\n",
      "       TA\tAverage/Typical\n",
      "       Fa\tFair\n",
      "       NA\tNo Pool\n",
      "\t\t\n",
      "Fence: Fence quality\n",
      "\t\t\n",
      "       GdPrv\tGood Privacy\n",
      "       MnPrv\tMinimum Privacy\n",
      "       GdWo\tGood Wood\n",
      "       MnWw\tMinimum Wood/Wire\n",
      "       NA\tNo Fence\n",
      "\t\n",
      "MiscFeature: Miscellaneous feature not covered in other categories\n",
      "\t\t\n",
      "       Elev\tElevator\n",
      "       Gar2\t2nd Garage (if not described in garage section)\n",
      "       Othr\tOther\n",
      "       Shed\tShed (over 100 SF)\n",
      "       TenC\tTennis Court\n",
      "       NA\tNone\n",
      "\t\t\n",
      "MiscVal: $Value of miscellaneous feature\n",
      "\n",
      "MoSold: Month Sold (MM)\n",
      "\n",
      "YrSold: Year Sold (YYYY)\n",
      "\n",
      "SaleType: Type of sale\n",
      "\t\t\n",
      "       WD \tWarranty Deed - Conventional\n",
      "       CWD\tWarranty Deed - Cash\n",
      "       VWD\tWarranty Deed - VA Loan\n",
      "       New\tHome just constructed and sold\n",
      "       COD\tCourt Officer Deed/Estate\n",
      "       Con\tContract 15% Down payment regular terms\n",
      "       ConLw\tContract Low Down payment and low interest\n",
      "       ConLI\tContract Low Interest\n",
      "       ConLD\tContract Low Down\n",
      "       Oth\tOther\n",
      "\t\t\n",
      "SaleCondition: Condition of sale\n",
      "\n",
      "       Normal\tNormal Sale\n",
      "       Abnorml\tAbnormal Sale -  trade, foreclosure, short sale\n",
      "       AdjLand\tAdjoining Land Purchase\n",
      "       Alloca\tAllocation - two linked properties with separate deeds, typically condo with a garage unit\t\n",
      "       Family\tSale between family members\n",
      "       Partial\tHome was not completed when last assessed (associated with New Homes)\n",
      "\n"
     ]
    }
   ],
   "source": [
    "f = open(\"data/data_description.txt\", \"r\")\n",
    "print(f.read())"
   ]
  },
  {
   "cell_type": "markdown",
   "metadata": {},
   "source": [
    "# 4. Analysis"
   ]
  },
  {
   "cell_type": "markdown",
   "metadata": {},
   "source": [
    "## 4.1 Correlation Matrix"
   ]
  },
  {
   "cell_type": "code",
   "execution_count": 202,
   "metadata": {},
   "outputs": [],
   "source": [
    "cols = df_train.columns.tolist()\n",
    "n = int(cols.index('SalePrice'))\n",
    "cols =  cols[:n] + cols[n+1:] + [cols[n]]\n",
    "df_train = df_train[cols]"
   ]
  },
  {
   "cell_type": "code",
   "execution_count": 203,
   "metadata": {},
   "outputs": [],
   "source": [
    "corr_mat = df_train.corr()"
   ]
  },
  {
   "cell_type": "code",
   "execution_count": 204,
   "metadata": {},
   "outputs": [
    {
     "data": {
      "text/plain": [
       "Index(['Id', 'LotArea', 'OverallQual', 'OverallCond', 'MasVnrArea', '2ndFlrSF',\n",
       "       'LowQualFinSF', 'GrLivArea', 'BsmtFullBath', 'BsmtHalfBath',\n",
       "       ...\n",
       "       'FirstFlrSF_2402.0', 'FirstFlrSF_2411.0', 'FirstFlrSF_2444.0',\n",
       "       'FirstFlrSF_2515.0', 'FirstFlrSF_2524.0', 'FirstFlrSF_2633.0',\n",
       "       'FirstFlrSF_2898.0', 'FirstFlrSF_3138.0', 'FirstFlrSF_3228.0',\n",
       "       'SalePrice'],\n",
       "      dtype='object', length=928)"
      ]
     },
     "execution_count": 204,
     "metadata": {},
     "output_type": "execute_result"
    }
   ],
   "source": [
    "corr_mat.columns"
   ]
  },
  {
   "cell_type": "code",
   "execution_count": 205,
   "metadata": {},
   "outputs": [
    {
     "name": "stderr",
     "output_type": "stream",
     "text": [
      "/Users/bjornar/anaconda3/lib/python3.7/site-packages/ipykernel_launcher.py:1: UserWarning: Boolean Series key will be reindexed to match DataFrame index.\n",
      "  \"\"\"Entry point for launching an IPython kernel.\n"
     ]
    },
    {
     "data": {
      "text/html": [
       "<div>\n",
       "<style scoped>\n",
       "    .dataframe tbody tr th:only-of-type {\n",
       "        vertical-align: middle;\n",
       "    }\n",
       "\n",
       "    .dataframe tbody tr th {\n",
       "        vertical-align: top;\n",
       "    }\n",
       "\n",
       "    .dataframe thead th {\n",
       "        text-align: right;\n",
       "    }\n",
       "</style>\n",
       "<table border=\"1\" class=\"dataframe\">\n",
       "  <thead>\n",
       "    <tr style=\"text-align: right;\">\n",
       "      <th></th>\n",
       "      <th>Id</th>\n",
       "      <th>LotArea</th>\n",
       "      <th>OverallQual</th>\n",
       "      <th>OverallCond</th>\n",
       "      <th>MasVnrArea</th>\n",
       "      <th>2ndFlrSF</th>\n",
       "      <th>LowQualFinSF</th>\n",
       "      <th>GrLivArea</th>\n",
       "      <th>BsmtFullBath</th>\n",
       "      <th>BsmtHalfBath</th>\n",
       "      <th>...</th>\n",
       "      <th>FirstFlrSF_2402.0</th>\n",
       "      <th>FirstFlrSF_2411.0</th>\n",
       "      <th>FirstFlrSF_2444.0</th>\n",
       "      <th>FirstFlrSF_2515.0</th>\n",
       "      <th>FirstFlrSF_2524.0</th>\n",
       "      <th>FirstFlrSF_2633.0</th>\n",
       "      <th>FirstFlrSF_2898.0</th>\n",
       "      <th>FirstFlrSF_3138.0</th>\n",
       "      <th>FirstFlrSF_3228.0</th>\n",
       "      <th>SalePrice</th>\n",
       "    </tr>\n",
       "  </thead>\n",
       "  <tbody>\n",
       "    <tr>\n",
       "      <th>OverallQual</th>\n",
       "      <td>-0.028531</td>\n",
       "      <td>0.168342</td>\n",
       "      <td>1.000000</td>\n",
       "      <td>-0.091528</td>\n",
       "      <td>0.411108</td>\n",
       "      <td>0.295918</td>\n",
       "      <td>-0.030459</td>\n",
       "      <td>0.593667</td>\n",
       "      <td>0.112134</td>\n",
       "      <td>-0.040211</td>\n",
       "      <td>...</td>\n",
       "      <td>0.073888</td>\n",
       "      <td>0.073888</td>\n",
       "      <td>0.073888</td>\n",
       "      <td>-1.885241e-03</td>\n",
       "      <td>0.036002</td>\n",
       "      <td>0.073888</td>\n",
       "      <td>0.036002</td>\n",
       "      <td>0.073888</td>\n",
       "      <td>0.036002</td>\n",
       "      <td>0.792692</td>\n",
       "    </tr>\n",
       "    <tr>\n",
       "      <th>MasVnrArea</th>\n",
       "      <td>-0.049498</td>\n",
       "      <td>0.155002</td>\n",
       "      <td>0.411108</td>\n",
       "      <td>-0.129936</td>\n",
       "      <td>1.000000</td>\n",
       "      <td>0.172786</td>\n",
       "      <td>-0.069109</td>\n",
       "      <td>0.389813</td>\n",
       "      <td>0.089318</td>\n",
       "      <td>0.021108</td>\n",
       "      <td>...</td>\n",
       "      <td>0.014008</td>\n",
       "      <td>-0.015047</td>\n",
       "      <td>0.154927</td>\n",
       "      <td>-1.979832e-18</td>\n",
       "      <td>-0.015047</td>\n",
       "      <td>0.087373</td>\n",
       "      <td>-0.015047</td>\n",
       "      <td>0.095654</td>\n",
       "      <td>-0.015047</td>\n",
       "      <td>0.476810</td>\n",
       "    </tr>\n",
       "    <tr>\n",
       "      <th>GrLivArea</th>\n",
       "      <td>0.010232</td>\n",
       "      <td>0.368518</td>\n",
       "      <td>0.593667</td>\n",
       "      <td>-0.080651</td>\n",
       "      <td>0.389813</td>\n",
       "      <td>0.688500</td>\n",
       "      <td>0.135032</td>\n",
       "      <td>1.000000</td>\n",
       "      <td>0.032614</td>\n",
       "      <td>-0.022050</td>\n",
       "      <td>...</td>\n",
       "      <td>0.044273</td>\n",
       "      <td>0.147733</td>\n",
       "      <td>0.139752</td>\n",
       "      <td>4.990984e-02</td>\n",
       "      <td>0.050359</td>\n",
       "      <td>0.055796</td>\n",
       "      <td>0.069016</td>\n",
       "      <td>0.157710</td>\n",
       "      <td>0.085477</td>\n",
       "      <td>0.708303</td>\n",
       "    </tr>\n",
       "    <tr>\n",
       "      <th>FullBath</th>\n",
       "      <td>0.007261</td>\n",
       "      <td>0.156720</td>\n",
       "      <td>0.551271</td>\n",
       "      <td>-0.195033</td>\n",
       "      <td>0.275877</td>\n",
       "      <td>0.422076</td>\n",
       "      <td>-0.000514</td>\n",
       "      <td>0.629530</td>\n",
       "      <td>-0.067847</td>\n",
       "      <td>-0.056757</td>\n",
       "      <td>...</td>\n",
       "      <td>0.020731</td>\n",
       "      <td>0.068299</td>\n",
       "      <td>0.068299</td>\n",
       "      <td>6.829948e-02</td>\n",
       "      <td>0.020731</td>\n",
       "      <td>0.020731</td>\n",
       "      <td>0.020731</td>\n",
       "      <td>0.068299</td>\n",
       "      <td>0.068299</td>\n",
       "      <td>0.560216</td>\n",
       "    </tr>\n",
       "    <tr>\n",
       "      <th>TotRmsAbvGrd</th>\n",
       "      <td>0.028321</td>\n",
       "      <td>0.272067</td>\n",
       "      <td>0.427525</td>\n",
       "      <td>-0.057659</td>\n",
       "      <td>0.280648</td>\n",
       "      <td>0.617361</td>\n",
       "      <td>0.131356</td>\n",
       "      <td>0.825565</td>\n",
       "      <td>-0.056013</td>\n",
       "      <td>-0.024583</td>\n",
       "      <td>...</td>\n",
       "      <td>0.056153</td>\n",
       "      <td>0.056153</td>\n",
       "      <td>0.056153</td>\n",
       "      <td>4.003522e-02</td>\n",
       "      <td>0.040035</td>\n",
       "      <td>0.023917</td>\n",
       "      <td>0.056153</td>\n",
       "      <td>0.072271</td>\n",
       "      <td>0.056153</td>\n",
       "      <td>0.533438</td>\n",
       "    </tr>\n",
       "    <tr>\n",
       "      <th>Fireplaces</th>\n",
       "      <td>-0.015335</td>\n",
       "      <td>0.313648</td>\n",
       "      <td>0.399136</td>\n",
       "      <td>-0.025652</td>\n",
       "      <td>0.248183</td>\n",
       "      <td>0.196185</td>\n",
       "      <td>-0.020839</td>\n",
       "      <td>0.460309</td>\n",
       "      <td>0.131661</td>\n",
       "      <td>0.024099</td>\n",
       "      <td>...</td>\n",
       "      <td>0.056733</td>\n",
       "      <td>0.056733</td>\n",
       "      <td>0.056733</td>\n",
       "      <td>5.673262e-02</td>\n",
       "      <td>0.015913</td>\n",
       "      <td>0.056733</td>\n",
       "      <td>0.015913</td>\n",
       "      <td>0.015913</td>\n",
       "      <td>0.015913</td>\n",
       "      <td>0.464095</td>\n",
       "    </tr>\n",
       "    <tr>\n",
       "      <th>GarageYrBlt</th>\n",
       "      <td>-0.001390</td>\n",
       "      <td>-0.003546</td>\n",
       "      <td>0.548059</td>\n",
       "      <td>-0.323967</td>\n",
       "      <td>0.253051</td>\n",
       "      <td>0.070890</td>\n",
       "      <td>-0.036525</td>\n",
       "      <td>0.232807</td>\n",
       "      <td>0.127434</td>\n",
       "      <td>-0.075744</td>\n",
       "      <td>...</td>\n",
       "      <td>0.032169</td>\n",
       "      <td>0.019065</td>\n",
       "      <td>0.016881</td>\n",
       "      <td>-3.866423e-03</td>\n",
       "      <td>0.002686</td>\n",
       "      <td>0.024525</td>\n",
       "      <td>-0.002774</td>\n",
       "      <td>0.031077</td>\n",
       "      <td>0.014697</td>\n",
       "      <td>0.489781</td>\n",
       "    </tr>\n",
       "    <tr>\n",
       "      <th>GarageCars</th>\n",
       "      <td>0.017246</td>\n",
       "      <td>0.229048</td>\n",
       "      <td>0.600996</td>\n",
       "      <td>-0.186152</td>\n",
       "      <td>0.364224</td>\n",
       "      <td>0.184121</td>\n",
       "      <td>-0.094413</td>\n",
       "      <td>0.467145</td>\n",
       "      <td>0.131636</td>\n",
       "      <td>-0.021752</td>\n",
       "      <td>...</td>\n",
       "      <td>0.043226</td>\n",
       "      <td>0.043226</td>\n",
       "      <td>0.043226</td>\n",
       "      <td>8.178630e-03</td>\n",
       "      <td>0.008179</td>\n",
       "      <td>0.043226</td>\n",
       "      <td>0.008179</td>\n",
       "      <td>0.043226</td>\n",
       "      <td>0.008179</td>\n",
       "      <td>0.641281</td>\n",
       "    </tr>\n",
       "    <tr>\n",
       "      <th>GarageArea</th>\n",
       "      <td>0.017642</td>\n",
       "      <td>0.284734</td>\n",
       "      <td>0.562316</td>\n",
       "      <td>-0.151299</td>\n",
       "      <td>0.373943</td>\n",
       "      <td>0.138822</td>\n",
       "      <td>-0.067604</td>\n",
       "      <td>0.469573</td>\n",
       "      <td>0.179228</td>\n",
       "      <td>-0.023528</td>\n",
       "      <td>...</td>\n",
       "      <td>0.024381</td>\n",
       "      <td>0.041654</td>\n",
       "      <td>0.043982</td>\n",
       "      <td>1.350966e-03</td>\n",
       "      <td>0.008456</td>\n",
       "      <td>0.040552</td>\n",
       "      <td>0.023524</td>\n",
       "      <td>0.050352</td>\n",
       "      <td>0.008946</td>\n",
       "      <td>0.625065</td>\n",
       "    </tr>\n",
       "    <tr>\n",
       "      <th>Neighborhood_NridgHt</th>\n",
       "      <td>-0.068196</td>\n",
       "      <td>0.027058</td>\n",
       "      <td>0.368844</td>\n",
       "      <td>-0.121945</td>\n",
       "      <td>0.297655</td>\n",
       "      <td>-0.005913</td>\n",
       "      <td>-0.028432</td>\n",
       "      <td>0.180506</td>\n",
       "      <td>0.061803</td>\n",
       "      <td>-0.056628</td>\n",
       "      <td>...</td>\n",
       "      <td>0.110946</td>\n",
       "      <td>-0.006190</td>\n",
       "      <td>-0.006190</td>\n",
       "      <td>-6.190492e-03</td>\n",
       "      <td>-0.006190</td>\n",
       "      <td>-0.006190</td>\n",
       "      <td>-0.006190</td>\n",
       "      <td>-0.006190</td>\n",
       "      <td>-0.006190</td>\n",
       "      <td>0.403944</td>\n",
       "    </tr>\n",
       "    <tr>\n",
       "      <th>OverallQual_8</th>\n",
       "      <td>-0.002937</td>\n",
       "      <td>0.053766</td>\n",
       "      <td>0.495942</td>\n",
       "      <td>-0.112991</td>\n",
       "      <td>0.214780</td>\n",
       "      <td>0.110949</td>\n",
       "      <td>-0.017088</td>\n",
       "      <td>0.297636</td>\n",
       "      <td>0.074386</td>\n",
       "      <td>-0.041331</td>\n",
       "      <td>...</td>\n",
       "      <td>-0.009461</td>\n",
       "      <td>-0.009461</td>\n",
       "      <td>-0.009461</td>\n",
       "      <td>-9.461228e-03</td>\n",
       "      <td>0.072592</td>\n",
       "      <td>-0.009461</td>\n",
       "      <td>0.072592</td>\n",
       "      <td>-0.009461</td>\n",
       "      <td>0.072592</td>\n",
       "      <td>0.428238</td>\n",
       "    </tr>\n",
       "    <tr>\n",
       "      <th>OverallQual_9</th>\n",
       "      <td>-0.028903</td>\n",
       "      <td>0.090406</td>\n",
       "      <td>0.365610</td>\n",
       "      <td>-0.100959</td>\n",
       "      <td>0.234081</td>\n",
       "      <td>-0.004382</td>\n",
       "      <td>-0.020990</td>\n",
       "      <td>0.186888</td>\n",
       "      <td>0.084832</td>\n",
       "      <td>-0.041805</td>\n",
       "      <td>...</td>\n",
       "      <td>-0.004570</td>\n",
       "      <td>-0.004570</td>\n",
       "      <td>-0.004570</td>\n",
       "      <td>-4.570133e-03</td>\n",
       "      <td>-0.004570</td>\n",
       "      <td>-0.004570</td>\n",
       "      <td>-0.004570</td>\n",
       "      <td>-0.004570</td>\n",
       "      <td>-0.004570</td>\n",
       "      <td>0.410919</td>\n",
       "    </tr>\n",
       "    <tr>\n",
       "      <th>YearBuilt_range_post_2000</th>\n",
       "      <td>0.000099</td>\n",
       "      <td>-0.013109</td>\n",
       "      <td>0.557836</td>\n",
       "      <td>-0.293644</td>\n",
       "      <td>0.178733</td>\n",
       "      <td>0.032144</td>\n",
       "      <td>-0.061642</td>\n",
       "      <td>0.198318</td>\n",
       "      <td>0.033364</td>\n",
       "      <td>-0.098314</td>\n",
       "      <td>...</td>\n",
       "      <td>0.045413</td>\n",
       "      <td>-0.015124</td>\n",
       "      <td>-0.015124</td>\n",
       "      <td>-1.512377e-02</td>\n",
       "      <td>-0.015124</td>\n",
       "      <td>0.045413</td>\n",
       "      <td>-0.015124</td>\n",
       "      <td>0.045413</td>\n",
       "      <td>-0.015124</td>\n",
       "      <td>0.464662</td>\n",
       "    </tr>\n",
       "    <tr>\n",
       "      <th>Age</th>\n",
       "      <td>0.013346</td>\n",
       "      <td>-0.037924</td>\n",
       "      <td>-0.572544</td>\n",
       "      <td>0.375917</td>\n",
       "      <td>-0.315745</td>\n",
       "      <td>-0.010385</td>\n",
       "      <td>0.183875</td>\n",
       "      <td>-0.199788</td>\n",
       "      <td>-0.189480</td>\n",
       "      <td>0.037245</td>\n",
       "      <td>...</td>\n",
       "      <td>-0.031838</td>\n",
       "      <td>-0.021432</td>\n",
       "      <td>-0.019698</td>\n",
       "      <td>1.238826e-02</td>\n",
       "      <td>-0.008424</td>\n",
       "      <td>-0.025768</td>\n",
       "      <td>-0.004088</td>\n",
       "      <td>-0.030971</td>\n",
       "      <td>-0.017963</td>\n",
       "      <td>-0.525154</td>\n",
       "    </tr>\n",
       "    <tr>\n",
       "      <th>YearsSinceRemod</th>\n",
       "      <td>0.022515</td>\n",
       "      <td>-0.043123</td>\n",
       "      <td>-0.551388</td>\n",
       "      <td>-0.072878</td>\n",
       "      <td>-0.177465</td>\n",
       "      <td>-0.138867</td>\n",
       "      <td>0.062557</td>\n",
       "      <td>-0.288094</td>\n",
       "      <td>-0.124995</td>\n",
       "      <td>0.015522</td>\n",
       "      <td>...</td>\n",
       "      <td>-0.029359</td>\n",
       "      <td>-0.014122</td>\n",
       "      <td>-0.012852</td>\n",
       "      <td>1.254359e-02</td>\n",
       "      <td>0.004925</td>\n",
       "      <td>-0.021741</td>\n",
       "      <td>0.011274</td>\n",
       "      <td>-0.029359</td>\n",
       "      <td>-0.010313</td>\n",
       "      <td>-0.510137</td>\n",
       "    </tr>\n",
       "    <tr>\n",
       "      <th>ExterQual_Ex</th>\n",
       "      <td>-0.017224</td>\n",
       "      <td>0.132145</td>\n",
       "      <td>0.384621</td>\n",
       "      <td>-0.022848</td>\n",
       "      <td>0.343166</td>\n",
       "      <td>0.040285</td>\n",
       "      <td>-0.023156</td>\n",
       "      <td>0.274472</td>\n",
       "      <td>0.078743</td>\n",
       "      <td>0.000588</td>\n",
       "      <td>...</td>\n",
       "      <td>0.136225</td>\n",
       "      <td>-0.005042</td>\n",
       "      <td>0.136225</td>\n",
       "      <td>-5.041768e-03</td>\n",
       "      <td>-0.005042</td>\n",
       "      <td>0.136225</td>\n",
       "      <td>-0.005042</td>\n",
       "      <td>0.136225</td>\n",
       "      <td>-0.005042</td>\n",
       "      <td>0.452957</td>\n",
       "    </tr>\n",
       "    <tr>\n",
       "      <th>ExterQual_Gd</th>\n",
       "      <td>0.018870</td>\n",
       "      <td>0.009906</td>\n",
       "      <td>0.548493</td>\n",
       "      <td>-0.176206</td>\n",
       "      <td>0.142576</td>\n",
       "      <td>0.181594</td>\n",
       "      <td>-0.030356</td>\n",
       "      <td>0.302679</td>\n",
       "      <td>0.083962</td>\n",
       "      <td>-0.078021</td>\n",
       "      <td>...</td>\n",
       "      <td>-0.018569</td>\n",
       "      <td>0.036986</td>\n",
       "      <td>-0.018569</td>\n",
       "      <td>3.698628e-02</td>\n",
       "      <td>0.036986</td>\n",
       "      <td>-0.018569</td>\n",
       "      <td>0.036986</td>\n",
       "      <td>-0.018569</td>\n",
       "      <td>0.036986</td>\n",
       "      <td>0.454459</td>\n",
       "    </tr>\n",
       "    <tr>\n",
       "      <th>ExterQual_TA</th>\n",
       "      <td>-0.011062</td>\n",
       "      <td>-0.054332</td>\n",
       "      <td>-0.647102</td>\n",
       "      <td>0.202954</td>\n",
       "      <td>-0.258416</td>\n",
       "      <td>-0.187906</td>\n",
       "      <td>0.010862</td>\n",
       "      <td>-0.386639</td>\n",
       "      <td>-0.100949</td>\n",
       "      <td>0.080365</td>\n",
       "      <td>...</td>\n",
       "      <td>-0.033507</td>\n",
       "      <td>-0.033507</td>\n",
       "      <td>-0.033507</td>\n",
       "      <td>-3.350742e-02</td>\n",
       "      <td>-0.033507</td>\n",
       "      <td>-0.033507</td>\n",
       "      <td>-0.033507</td>\n",
       "      <td>-0.033507</td>\n",
       "      <td>-0.033507</td>\n",
       "      <td>-0.591781</td>\n",
       "    </tr>\n",
       "    <tr>\n",
       "      <th>Foundation_PConc</th>\n",
       "      <td>-0.007309</td>\n",
       "      <td>-0.004129</td>\n",
       "      <td>0.568752</td>\n",
       "      <td>-0.298771</td>\n",
       "      <td>0.193956</td>\n",
       "      <td>0.183757</td>\n",
       "      <td>-0.053834</td>\n",
       "      <td>0.294931</td>\n",
       "      <td>0.085724</td>\n",
       "      <td>-0.086367</td>\n",
       "      <td>...</td>\n",
       "      <td>0.029323</td>\n",
       "      <td>0.029323</td>\n",
       "      <td>0.029323</td>\n",
       "      <td>2.932309e-02</td>\n",
       "      <td>0.029323</td>\n",
       "      <td>0.029323</td>\n",
       "      <td>-0.023422</td>\n",
       "      <td>0.029323</td>\n",
       "      <td>0.029323</td>\n",
       "      <td>0.502097</td>\n",
       "    </tr>\n",
       "    <tr>\n",
       "      <th>BsmtQual_Ex</th>\n",
       "      <td>-0.049276</td>\n",
       "      <td>0.121100</td>\n",
       "      <td>0.470950</td>\n",
       "      <td>-0.150892</td>\n",
       "      <td>0.334676</td>\n",
       "      <td>0.040693</td>\n",
       "      <td>-0.016595</td>\n",
       "      <td>0.310834</td>\n",
       "      <td>0.148306</td>\n",
       "      <td>-0.009346</td>\n",
       "      <td>...</td>\n",
       "      <td>0.087082</td>\n",
       "      <td>0.087082</td>\n",
       "      <td>0.087082</td>\n",
       "      <td>-7.886944e-03</td>\n",
       "      <td>-0.007887</td>\n",
       "      <td>0.087082</td>\n",
       "      <td>-0.007887</td>\n",
       "      <td>0.087082</td>\n",
       "      <td>-0.007887</td>\n",
       "      <td>0.555524</td>\n",
       "    </tr>\n",
       "    <tr>\n",
       "      <th>BsmtQual_TA</th>\n",
       "      <td>0.033275</td>\n",
       "      <td>-0.055717</td>\n",
       "      <td>-0.497660</td>\n",
       "      <td>0.281427</td>\n",
       "      <td>-0.186556</td>\n",
       "      <td>-0.150042</td>\n",
       "      <td>0.111187</td>\n",
       "      <td>-0.277721</td>\n",
       "      <td>-0.100162</td>\n",
       "      <td>0.070245</td>\n",
       "      <td>...</td>\n",
       "      <td>-0.023455</td>\n",
       "      <td>-0.023455</td>\n",
       "      <td>-0.023455</td>\n",
       "      <td>2.928236e-02</td>\n",
       "      <td>-0.023455</td>\n",
       "      <td>-0.023455</td>\n",
       "      <td>-0.023455</td>\n",
       "      <td>-0.023455</td>\n",
       "      <td>-0.023455</td>\n",
       "      <td>-0.452269</td>\n",
       "    </tr>\n",
       "    <tr>\n",
       "      <th>BsmtFinType1_GLQ</th>\n",
       "      <td>-0.016291</td>\n",
       "      <td>0.056719</td>\n",
       "      <td>0.433691</td>\n",
       "      <td>-0.156991</td>\n",
       "      <td>0.224169</td>\n",
       "      <td>0.019515</td>\n",
       "      <td>-0.044442</td>\n",
       "      <td>0.194956</td>\n",
       "      <td>0.455906</td>\n",
       "      <td>0.001201</td>\n",
       "      <td>...</td>\n",
       "      <td>0.041318</td>\n",
       "      <td>0.041318</td>\n",
       "      <td>0.041318</td>\n",
       "      <td>-1.662263e-02</td>\n",
       "      <td>-0.016623</td>\n",
       "      <td>0.041318</td>\n",
       "      <td>-0.016623</td>\n",
       "      <td>0.041318</td>\n",
       "      <td>0.041318</td>\n",
       "      <td>0.437802</td>\n",
       "    </tr>\n",
       "    <tr>\n",
       "      <th>TotalBsmtSF_range</th>\n",
       "      <td>-0.019845</td>\n",
       "      <td>0.317144</td>\n",
       "      <td>0.493056</td>\n",
       "      <td>-0.179176</td>\n",
       "      <td>0.344288</td>\n",
       "      <td>-0.181441</td>\n",
       "      <td>-0.027873</td>\n",
       "      <td>0.414658</td>\n",
       "      <td>0.288118</td>\n",
       "      <td>0.007076</td>\n",
       "      <td>...</td>\n",
       "      <td>0.108600</td>\n",
       "      <td>0.075697</td>\n",
       "      <td>0.075697</td>\n",
       "      <td>4.279424e-02</td>\n",
       "      <td>0.075697</td>\n",
       "      <td>0.075697</td>\n",
       "      <td>0.042794</td>\n",
       "      <td>0.108600</td>\n",
       "      <td>0.108600</td>\n",
       "      <td>0.559252</td>\n",
       "    </tr>\n",
       "    <tr>\n",
       "      <th>HeatingQC_Ex</th>\n",
       "      <td>0.005176</td>\n",
       "      <td>0.030709</td>\n",
       "      <td>0.459809</td>\n",
       "      <td>-0.074154</td>\n",
       "      <td>0.172237</td>\n",
       "      <td>0.128073</td>\n",
       "      <td>-0.019408</td>\n",
       "      <td>0.257550</td>\n",
       "      <td>0.097484</td>\n",
       "      <td>-0.058670</td>\n",
       "      <td>...</td>\n",
       "      <td>0.025797</td>\n",
       "      <td>0.025797</td>\n",
       "      <td>0.025797</td>\n",
       "      <td>-2.662414e-02</td>\n",
       "      <td>-0.026624</td>\n",
       "      <td>0.025797</td>\n",
       "      <td>-0.026624</td>\n",
       "      <td>0.025797</td>\n",
       "      <td>0.025797</td>\n",
       "      <td>0.438307</td>\n",
       "    </tr>\n",
       "    <tr>\n",
       "      <th>FirstFlrSF_range</th>\n",
       "      <td>0.014665</td>\n",
       "      <td>0.337686</td>\n",
       "      <td>0.453137</td>\n",
       "      <td>-0.147690</td>\n",
       "      <td>0.321271</td>\n",
       "      <td>-0.203057</td>\n",
       "      <td>-0.004495</td>\n",
       "      <td>0.519362</td>\n",
       "      <td>0.231239</td>\n",
       "      <td>0.002921</td>\n",
       "      <td>...</td>\n",
       "      <td>0.089489</td>\n",
       "      <td>0.089489</td>\n",
       "      <td>0.089489</td>\n",
       "      <td>8.948888e-02</td>\n",
       "      <td>0.089489</td>\n",
       "      <td>0.089489</td>\n",
       "      <td>0.112910</td>\n",
       "      <td>0.136331</td>\n",
       "      <td>0.136331</td>\n",
       "      <td>0.598629</td>\n",
       "    </tr>\n",
       "    <tr>\n",
       "      <th>SalePrice</th>\n",
       "      <td>-0.018995</td>\n",
       "      <td>0.335973</td>\n",
       "      <td>0.792692</td>\n",
       "      <td>-0.078477</td>\n",
       "      <td>0.476810</td>\n",
       "      <td>0.321187</td>\n",
       "      <td>-0.025323</td>\n",
       "      <td>0.708303</td>\n",
       "      <td>0.223516</td>\n",
       "      <td>-0.019779</td>\n",
       "      <td>...</td>\n",
       "      <td>0.123728</td>\n",
       "      <td>0.186532</td>\n",
       "      <td>0.189837</td>\n",
       "      <td>6.589436e-03</td>\n",
       "      <td>0.032166</td>\n",
       "      <td>0.094474</td>\n",
       "      <td>0.035141</td>\n",
       "      <td>0.001342</td>\n",
       "      <td>0.082409</td>\n",
       "      <td>1.000000</td>\n",
       "    </tr>\n",
       "  </tbody>\n",
       "</table>\n",
       "<p>26 rows × 928 columns</p>\n",
       "</div>"
      ],
      "text/plain": [
       "                                 Id   LotArea  OverallQual  OverallCond  \\\n",
       "OverallQual               -0.028531  0.168342     1.000000    -0.091528   \n",
       "MasVnrArea                -0.049498  0.155002     0.411108    -0.129936   \n",
       "GrLivArea                  0.010232  0.368518     0.593667    -0.080651   \n",
       "FullBath                   0.007261  0.156720     0.551271    -0.195033   \n",
       "TotRmsAbvGrd               0.028321  0.272067     0.427525    -0.057659   \n",
       "Fireplaces                -0.015335  0.313648     0.399136    -0.025652   \n",
       "GarageYrBlt               -0.001390 -0.003546     0.548059    -0.323967   \n",
       "GarageCars                 0.017246  0.229048     0.600996    -0.186152   \n",
       "GarageArea                 0.017642  0.284734     0.562316    -0.151299   \n",
       "Neighborhood_NridgHt      -0.068196  0.027058     0.368844    -0.121945   \n",
       "OverallQual_8             -0.002937  0.053766     0.495942    -0.112991   \n",
       "OverallQual_9             -0.028903  0.090406     0.365610    -0.100959   \n",
       "YearBuilt_range_post_2000  0.000099 -0.013109     0.557836    -0.293644   \n",
       "Age                        0.013346 -0.037924    -0.572544     0.375917   \n",
       "YearsSinceRemod            0.022515 -0.043123    -0.551388    -0.072878   \n",
       "ExterQual_Ex              -0.017224  0.132145     0.384621    -0.022848   \n",
       "ExterQual_Gd               0.018870  0.009906     0.548493    -0.176206   \n",
       "ExterQual_TA              -0.011062 -0.054332    -0.647102     0.202954   \n",
       "Foundation_PConc          -0.007309 -0.004129     0.568752    -0.298771   \n",
       "BsmtQual_Ex               -0.049276  0.121100     0.470950    -0.150892   \n",
       "BsmtQual_TA                0.033275 -0.055717    -0.497660     0.281427   \n",
       "BsmtFinType1_GLQ          -0.016291  0.056719     0.433691    -0.156991   \n",
       "TotalBsmtSF_range         -0.019845  0.317144     0.493056    -0.179176   \n",
       "HeatingQC_Ex               0.005176  0.030709     0.459809    -0.074154   \n",
       "FirstFlrSF_range           0.014665  0.337686     0.453137    -0.147690   \n",
       "SalePrice                 -0.018995  0.335973     0.792692    -0.078477   \n",
       "\n",
       "                           MasVnrArea  2ndFlrSF  LowQualFinSF  GrLivArea  \\\n",
       "OverallQual                  0.411108  0.295918     -0.030459   0.593667   \n",
       "MasVnrArea                   1.000000  0.172786     -0.069109   0.389813   \n",
       "GrLivArea                    0.389813  0.688500      0.135032   1.000000   \n",
       "FullBath                     0.275877  0.422076     -0.000514   0.629530   \n",
       "TotRmsAbvGrd                 0.280648  0.617361      0.131356   0.825565   \n",
       "Fireplaces                   0.248183  0.196185     -0.020839   0.460309   \n",
       "GarageYrBlt                  0.253051  0.070890     -0.036525   0.232807   \n",
       "GarageCars                   0.364224  0.184121     -0.094413   0.467145   \n",
       "GarageArea                   0.373943  0.138822     -0.067604   0.469573   \n",
       "Neighborhood_NridgHt         0.297655 -0.005913     -0.028432   0.180506   \n",
       "OverallQual_8                0.214780  0.110949     -0.017088   0.297636   \n",
       "OverallQual_9                0.234081 -0.004382     -0.020990   0.186888   \n",
       "YearBuilt_range_post_2000    0.178733  0.032144     -0.061642   0.198318   \n",
       "Age                         -0.315745 -0.010385      0.183875  -0.199788   \n",
       "YearsSinceRemod             -0.177465 -0.138867      0.062557  -0.288094   \n",
       "ExterQual_Ex                 0.343166  0.040285     -0.023156   0.274472   \n",
       "ExterQual_Gd                 0.142576  0.181594     -0.030356   0.302679   \n",
       "ExterQual_TA                -0.258416 -0.187906      0.010862  -0.386639   \n",
       "Foundation_PConc             0.193956  0.183757     -0.053834   0.294931   \n",
       "BsmtQual_Ex                  0.334676  0.040693     -0.016595   0.310834   \n",
       "BsmtQual_TA                 -0.186556 -0.150042      0.111187  -0.277721   \n",
       "BsmtFinType1_GLQ             0.224169  0.019515     -0.044442   0.194956   \n",
       "TotalBsmtSF_range            0.344288 -0.181441     -0.027873   0.414658   \n",
       "HeatingQC_Ex                 0.172237  0.128073     -0.019408   0.257550   \n",
       "FirstFlrSF_range             0.321271 -0.203057     -0.004495   0.519362   \n",
       "SalePrice                    0.476810  0.321187     -0.025323   0.708303   \n",
       "\n",
       "                           BsmtFullBath  BsmtHalfBath  ...  FirstFlrSF_2402.0  \\\n",
       "OverallQual                    0.112134     -0.040211  ...           0.073888   \n",
       "MasVnrArea                     0.089318      0.021108  ...           0.014008   \n",
       "GrLivArea                      0.032614     -0.022050  ...           0.044273   \n",
       "FullBath                      -0.067847     -0.056757  ...           0.020731   \n",
       "TotRmsAbvGrd                  -0.056013     -0.024583  ...           0.056153   \n",
       "Fireplaces                     0.131661      0.024099  ...           0.056733   \n",
       "GarageYrBlt                    0.127434     -0.075744  ...           0.032169   \n",
       "GarageCars                     0.131636     -0.021752  ...           0.043226   \n",
       "GarageArea                     0.179228     -0.023528  ...           0.024381   \n",
       "Neighborhood_NridgHt           0.061803     -0.056628  ...           0.110946   \n",
       "OverallQual_8                  0.074386     -0.041331  ...          -0.009461   \n",
       "OverallQual_9                  0.084832     -0.041805  ...          -0.004570   \n",
       "YearBuilt_range_post_2000      0.033364     -0.098314  ...           0.045413   \n",
       "Age                           -0.189480      0.037245  ...          -0.031838   \n",
       "YearsSinceRemod               -0.124995      0.015522  ...          -0.029359   \n",
       "ExterQual_Ex                   0.078743      0.000588  ...           0.136225   \n",
       "ExterQual_Gd                   0.083962     -0.078021  ...          -0.018569   \n",
       "ExterQual_TA                  -0.100949      0.080365  ...          -0.033507   \n",
       "Foundation_PConc               0.085724     -0.086367  ...           0.029323   \n",
       "BsmtQual_Ex                    0.148306     -0.009346  ...           0.087082   \n",
       "BsmtQual_TA                   -0.100162      0.070245  ...          -0.023455   \n",
       "BsmtFinType1_GLQ               0.455906      0.001201  ...           0.041318   \n",
       "TotalBsmtSF_range              0.288118      0.007076  ...           0.108600   \n",
       "HeatingQC_Ex                   0.097484     -0.058670  ...           0.025797   \n",
       "FirstFlrSF_range               0.231239      0.002921  ...           0.089489   \n",
       "SalePrice                      0.223516     -0.019779  ...           0.123728   \n",
       "\n",
       "                           FirstFlrSF_2411.0  FirstFlrSF_2444.0  \\\n",
       "OverallQual                         0.073888           0.073888   \n",
       "MasVnrArea                         -0.015047           0.154927   \n",
       "GrLivArea                           0.147733           0.139752   \n",
       "FullBath                            0.068299           0.068299   \n",
       "TotRmsAbvGrd                        0.056153           0.056153   \n",
       "Fireplaces                          0.056733           0.056733   \n",
       "GarageYrBlt                         0.019065           0.016881   \n",
       "GarageCars                          0.043226           0.043226   \n",
       "GarageArea                          0.041654           0.043982   \n",
       "Neighborhood_NridgHt               -0.006190          -0.006190   \n",
       "OverallQual_8                      -0.009461          -0.009461   \n",
       "OverallQual_9                      -0.004570          -0.004570   \n",
       "YearBuilt_range_post_2000          -0.015124          -0.015124   \n",
       "Age                                -0.021432          -0.019698   \n",
       "YearsSinceRemod                    -0.014122          -0.012852   \n",
       "ExterQual_Ex                       -0.005042           0.136225   \n",
       "ExterQual_Gd                        0.036986          -0.018569   \n",
       "ExterQual_TA                       -0.033507          -0.033507   \n",
       "Foundation_PConc                    0.029323           0.029323   \n",
       "BsmtQual_Ex                         0.087082           0.087082   \n",
       "BsmtQual_TA                        -0.023455          -0.023455   \n",
       "BsmtFinType1_GLQ                    0.041318           0.041318   \n",
       "TotalBsmtSF_range                   0.075697           0.075697   \n",
       "HeatingQC_Ex                        0.025797           0.025797   \n",
       "FirstFlrSF_range                    0.089489           0.089489   \n",
       "SalePrice                           0.186532           0.189837   \n",
       "\n",
       "                           FirstFlrSF_2515.0  FirstFlrSF_2524.0  \\\n",
       "OverallQual                    -1.885241e-03           0.036002   \n",
       "MasVnrArea                     -1.979832e-18          -0.015047   \n",
       "GrLivArea                       4.990984e-02           0.050359   \n",
       "FullBath                        6.829948e-02           0.020731   \n",
       "TotRmsAbvGrd                    4.003522e-02           0.040035   \n",
       "Fireplaces                      5.673262e-02           0.015913   \n",
       "GarageYrBlt                    -3.866423e-03           0.002686   \n",
       "GarageCars                      8.178630e-03           0.008179   \n",
       "GarageArea                      1.350966e-03           0.008456   \n",
       "Neighborhood_NridgHt           -6.190492e-03          -0.006190   \n",
       "OverallQual_8                  -9.461228e-03           0.072592   \n",
       "OverallQual_9                  -4.570133e-03          -0.004570   \n",
       "YearBuilt_range_post_2000      -1.512377e-02          -0.015124   \n",
       "Age                             1.238826e-02          -0.008424   \n",
       "YearsSinceRemod                 1.254359e-02           0.004925   \n",
       "ExterQual_Ex                   -5.041768e-03          -0.005042   \n",
       "ExterQual_Gd                    3.698628e-02           0.036986   \n",
       "ExterQual_TA                   -3.350742e-02          -0.033507   \n",
       "Foundation_PConc                2.932309e-02           0.029323   \n",
       "BsmtQual_Ex                    -7.886944e-03          -0.007887   \n",
       "BsmtQual_TA                     2.928236e-02          -0.023455   \n",
       "BsmtFinType1_GLQ               -1.662263e-02          -0.016623   \n",
       "TotalBsmtSF_range               4.279424e-02           0.075697   \n",
       "HeatingQC_Ex                   -2.662414e-02          -0.026624   \n",
       "FirstFlrSF_range                8.948888e-02           0.089489   \n",
       "SalePrice                       6.589436e-03           0.032166   \n",
       "\n",
       "                           FirstFlrSF_2633.0  FirstFlrSF_2898.0  \\\n",
       "OverallQual                         0.073888           0.036002   \n",
       "MasVnrArea                          0.087373          -0.015047   \n",
       "GrLivArea                           0.055796           0.069016   \n",
       "FullBath                            0.020731           0.020731   \n",
       "TotRmsAbvGrd                        0.023917           0.056153   \n",
       "Fireplaces                          0.056733           0.015913   \n",
       "GarageYrBlt                         0.024525          -0.002774   \n",
       "GarageCars                          0.043226           0.008179   \n",
       "GarageArea                          0.040552           0.023524   \n",
       "Neighborhood_NridgHt               -0.006190          -0.006190   \n",
       "OverallQual_8                      -0.009461           0.072592   \n",
       "OverallQual_9                      -0.004570          -0.004570   \n",
       "YearBuilt_range_post_2000           0.045413          -0.015124   \n",
       "Age                                -0.025768          -0.004088   \n",
       "YearsSinceRemod                    -0.021741           0.011274   \n",
       "ExterQual_Ex                        0.136225          -0.005042   \n",
       "ExterQual_Gd                       -0.018569           0.036986   \n",
       "ExterQual_TA                       -0.033507          -0.033507   \n",
       "Foundation_PConc                    0.029323          -0.023422   \n",
       "BsmtQual_Ex                         0.087082          -0.007887   \n",
       "BsmtQual_TA                        -0.023455          -0.023455   \n",
       "BsmtFinType1_GLQ                    0.041318          -0.016623   \n",
       "TotalBsmtSF_range                   0.075697           0.042794   \n",
       "HeatingQC_Ex                        0.025797          -0.026624   \n",
       "FirstFlrSF_range                    0.089489           0.112910   \n",
       "SalePrice                           0.094474           0.035141   \n",
       "\n",
       "                           FirstFlrSF_3138.0  FirstFlrSF_3228.0  SalePrice  \n",
       "OverallQual                         0.073888           0.036002   0.792692  \n",
       "MasVnrArea                          0.095654          -0.015047   0.476810  \n",
       "GrLivArea                           0.157710           0.085477   0.708303  \n",
       "FullBath                            0.068299           0.068299   0.560216  \n",
       "TotRmsAbvGrd                        0.072271           0.056153   0.533438  \n",
       "Fireplaces                          0.015913           0.015913   0.464095  \n",
       "GarageYrBlt                         0.031077           0.014697   0.489781  \n",
       "GarageCars                          0.043226           0.008179   0.641281  \n",
       "GarageArea                          0.050352           0.008946   0.625065  \n",
       "Neighborhood_NridgHt               -0.006190          -0.006190   0.403944  \n",
       "OverallQual_8                      -0.009461           0.072592   0.428238  \n",
       "OverallQual_9                      -0.004570          -0.004570   0.410919  \n",
       "YearBuilt_range_post_2000           0.045413          -0.015124   0.464662  \n",
       "Age                                -0.030971          -0.017963  -0.525154  \n",
       "YearsSinceRemod                    -0.029359          -0.010313  -0.510137  \n",
       "ExterQual_Ex                        0.136225          -0.005042   0.452957  \n",
       "ExterQual_Gd                       -0.018569           0.036986   0.454459  \n",
       "ExterQual_TA                       -0.033507          -0.033507  -0.591781  \n",
       "Foundation_PConc                    0.029323           0.029323   0.502097  \n",
       "BsmtQual_Ex                         0.087082          -0.007887   0.555524  \n",
       "BsmtQual_TA                        -0.023455          -0.023455  -0.452269  \n",
       "BsmtFinType1_GLQ                    0.041318           0.041318   0.437802  \n",
       "TotalBsmtSF_range                   0.108600           0.108600   0.559252  \n",
       "HeatingQC_Ex                        0.025797           0.025797   0.438307  \n",
       "FirstFlrSF_range                    0.136331           0.136331   0.598629  \n",
       "SalePrice                           0.001342           0.082409   1.000000  \n",
       "\n",
       "[26 rows x 928 columns]"
      ]
     },
     "execution_count": 205,
     "metadata": {},
     "output_type": "execute_result"
    }
   ],
   "source": [
    "corr_mat[corr_mat['SalePrice'].abs().sort_values(ascending=False) > 0.4]"
   ]
  },
  {
   "cell_type": "code",
   "execution_count": 206,
   "metadata": {},
   "outputs": [
    {
     "data": {
      "text/plain": [
       "['OverallQual',\n",
       " 'GrLivArea',\n",
       " 'FullBath',\n",
       " 'TotRmsAbvGrd',\n",
       " 'GarageCars',\n",
       " 'GarageArea',\n",
       " 'Age',\n",
       " 'YearsSinceRemod',\n",
       " 'ExterQual_TA',\n",
       " 'Foundation_PConc',\n",
       " 'BsmtQual_Ex',\n",
       " 'TotalBsmtSF_range',\n",
       " 'FirstFlrSF_range',\n",
       " 'SalePrice']"
      ]
     },
     "execution_count": 206,
     "metadata": {},
     "output_type": "execute_result"
    }
   ],
   "source": [
    "correlated_cols = list(corr_mat[corr_mat.SalePrice.abs()>0.5].index)\n",
    "#correlated_cols.append('Id')\n",
    "correlated_cols"
   ]
  },
  {
   "cell_type": "code",
   "execution_count": 207,
   "metadata": {},
   "outputs": [
    {
     "data": {
      "text/html": [
       "<div>\n",
       "<style scoped>\n",
       "    .dataframe tbody tr th:only-of-type {\n",
       "        vertical-align: middle;\n",
       "    }\n",
       "\n",
       "    .dataframe tbody tr th {\n",
       "        vertical-align: top;\n",
       "    }\n",
       "\n",
       "    .dataframe thead th {\n",
       "        text-align: right;\n",
       "    }\n",
       "</style>\n",
       "<table border=\"1\" class=\"dataframe\">\n",
       "  <thead>\n",
       "    <tr style=\"text-align: right;\">\n",
       "      <th></th>\n",
       "      <th>OverallQual</th>\n",
       "      <th>GrLivArea</th>\n",
       "      <th>FullBath</th>\n",
       "      <th>TotRmsAbvGrd</th>\n",
       "      <th>GarageCars</th>\n",
       "      <th>GarageArea</th>\n",
       "      <th>Age</th>\n",
       "      <th>YearsSinceRemod</th>\n",
       "      <th>ExterQual_TA</th>\n",
       "      <th>Foundation_PConc</th>\n",
       "      <th>BsmtQual_Ex</th>\n",
       "      <th>TotalBsmtSF_range</th>\n",
       "      <th>FirstFlrSF_range</th>\n",
       "      <th>SalePrice</th>\n",
       "    </tr>\n",
       "  </thead>\n",
       "  <tbody>\n",
       "    <tr>\n",
       "      <th>OverallQual</th>\n",
       "      <td>1.000000</td>\n",
       "      <td>0.593667</td>\n",
       "      <td>0.551271</td>\n",
       "      <td>0.427525</td>\n",
       "      <td>0.600996</td>\n",
       "      <td>0.562316</td>\n",
       "      <td>-0.572544</td>\n",
       "      <td>-0.551388</td>\n",
       "      <td>-0.647102</td>\n",
       "      <td>0.568752</td>\n",
       "      <td>0.470950</td>\n",
       "      <td>0.493056</td>\n",
       "      <td>0.453137</td>\n",
       "      <td>0.792692</td>\n",
       "    </tr>\n",
       "    <tr>\n",
       "      <th>GrLivArea</th>\n",
       "      <td>0.593667</td>\n",
       "      <td>1.000000</td>\n",
       "      <td>0.629530</td>\n",
       "      <td>0.825565</td>\n",
       "      <td>0.467145</td>\n",
       "      <td>0.469573</td>\n",
       "      <td>-0.199788</td>\n",
       "      <td>-0.288094</td>\n",
       "      <td>-0.386639</td>\n",
       "      <td>0.294931</td>\n",
       "      <td>0.310834</td>\n",
       "      <td>0.414658</td>\n",
       "      <td>0.519362</td>\n",
       "      <td>0.708303</td>\n",
       "    </tr>\n",
       "    <tr>\n",
       "      <th>FullBath</th>\n",
       "      <td>0.551271</td>\n",
       "      <td>0.629530</td>\n",
       "      <td>1.000000</td>\n",
       "      <td>0.554516</td>\n",
       "      <td>0.469514</td>\n",
       "      <td>0.405922</td>\n",
       "      <td>-0.469080</td>\n",
       "      <td>-0.440255</td>\n",
       "      <td>-0.467251</td>\n",
       "      <td>0.463795</td>\n",
       "      <td>0.238067</td>\n",
       "      <td>0.298904</td>\n",
       "      <td>0.377142</td>\n",
       "      <td>0.560216</td>\n",
       "    </tr>\n",
       "    <tr>\n",
       "      <th>TotRmsAbvGrd</th>\n",
       "      <td>0.427525</td>\n",
       "      <td>0.825565</td>\n",
       "      <td>0.554516</td>\n",
       "      <td>1.000000</td>\n",
       "      <td>0.362128</td>\n",
       "      <td>0.337878</td>\n",
       "      <td>-0.095893</td>\n",
       "      <td>-0.192587</td>\n",
       "      <td>-0.243195</td>\n",
       "      <td>0.193757</td>\n",
       "      <td>0.240997</td>\n",
       "      <td>0.263959</td>\n",
       "      <td>0.391689</td>\n",
       "      <td>0.533438</td>\n",
       "    </tr>\n",
       "    <tr>\n",
       "      <th>GarageCars</th>\n",
       "      <td>0.600996</td>\n",
       "      <td>0.467145</td>\n",
       "      <td>0.469514</td>\n",
       "      <td>0.362128</td>\n",
       "      <td>1.000000</td>\n",
       "      <td>0.882630</td>\n",
       "      <td>-0.538138</td>\n",
       "      <td>-0.421276</td>\n",
       "      <td>-0.482407</td>\n",
       "      <td>0.454412</td>\n",
       "      <td>0.356687</td>\n",
       "      <td>0.404246</td>\n",
       "      <td>0.428117</td>\n",
       "      <td>0.641281</td>\n",
       "    </tr>\n",
       "    <tr>\n",
       "      <th>GarageArea</th>\n",
       "      <td>0.562316</td>\n",
       "      <td>0.469573</td>\n",
       "      <td>0.405922</td>\n",
       "      <td>0.337878</td>\n",
       "      <td>0.882630</td>\n",
       "      <td>1.000000</td>\n",
       "      <td>-0.478988</td>\n",
       "      <td>-0.372575</td>\n",
       "      <td>-0.446322</td>\n",
       "      <td>0.389259</td>\n",
       "      <td>0.370302</td>\n",
       "      <td>0.463027</td>\n",
       "      <td>0.455529</td>\n",
       "      <td>0.625065</td>\n",
       "    </tr>\n",
       "    <tr>\n",
       "      <th>Age</th>\n",
       "      <td>-0.572544</td>\n",
       "      <td>-0.199788</td>\n",
       "      <td>-0.469080</td>\n",
       "      <td>-0.095893</td>\n",
       "      <td>-0.538138</td>\n",
       "      <td>-0.478988</td>\n",
       "      <td>1.000000</td>\n",
       "      <td>0.593536</td>\n",
       "      <td>0.589922</td>\n",
       "      <td>-0.651272</td>\n",
       "      <td>-0.319278</td>\n",
       "      <td>-0.366772</td>\n",
       "      <td>-0.264292</td>\n",
       "      <td>-0.525154</td>\n",
       "    </tr>\n",
       "    <tr>\n",
       "      <th>YearsSinceRemod</th>\n",
       "      <td>-0.551388</td>\n",
       "      <td>-0.288094</td>\n",
       "      <td>-0.440255</td>\n",
       "      <td>-0.192587</td>\n",
       "      <td>-0.421276</td>\n",
       "      <td>-0.372575</td>\n",
       "      <td>0.593536</td>\n",
       "      <td>1.000000</td>\n",
       "      <td>0.564609</td>\n",
       "      <td>-0.570211</td>\n",
       "      <td>-0.286290</td>\n",
       "      <td>-0.260852</td>\n",
       "      <td>-0.229246</td>\n",
       "      <td>-0.510137</td>\n",
       "    </tr>\n",
       "    <tr>\n",
       "      <th>ExterQual_TA</th>\n",
       "      <td>-0.647102</td>\n",
       "      <td>-0.386639</td>\n",
       "      <td>-0.467251</td>\n",
       "      <td>-0.243195</td>\n",
       "      <td>-0.482407</td>\n",
       "      <td>-0.446322</td>\n",
       "      <td>0.589922</td>\n",
       "      <td>0.564609</td>\n",
       "      <td>1.000000</td>\n",
       "      <td>-0.621780</td>\n",
       "      <td>-0.333526</td>\n",
       "      <td>-0.337812</td>\n",
       "      <td>-0.298222</td>\n",
       "      <td>-0.591781</td>\n",
       "    </tr>\n",
       "    <tr>\n",
       "      <th>Foundation_PConc</th>\n",
       "      <td>0.568752</td>\n",
       "      <td>0.294931</td>\n",
       "      <td>0.463795</td>\n",
       "      <td>0.193757</td>\n",
       "      <td>0.454412</td>\n",
       "      <td>0.389259</td>\n",
       "      <td>-0.651272</td>\n",
       "      <td>-0.570211</td>\n",
       "      <td>-0.621780</td>\n",
       "      <td>1.000000</td>\n",
       "      <td>0.321711</td>\n",
       "      <td>0.285290</td>\n",
       "      <td>0.192706</td>\n",
       "      <td>0.502097</td>\n",
       "    </tr>\n",
       "    <tr>\n",
       "      <th>BsmtQual_Ex</th>\n",
       "      <td>0.470950</td>\n",
       "      <td>0.310834</td>\n",
       "      <td>0.238067</td>\n",
       "      <td>0.240997</td>\n",
       "      <td>0.356687</td>\n",
       "      <td>0.370302</td>\n",
       "      <td>-0.319278</td>\n",
       "      <td>-0.286290</td>\n",
       "      <td>-0.333526</td>\n",
       "      <td>0.321711</td>\n",
       "      <td>1.000000</td>\n",
       "      <td>0.375886</td>\n",
       "      <td>0.351917</td>\n",
       "      <td>0.555524</td>\n",
       "    </tr>\n",
       "    <tr>\n",
       "      <th>TotalBsmtSF_range</th>\n",
       "      <td>0.493056</td>\n",
       "      <td>0.414658</td>\n",
       "      <td>0.298904</td>\n",
       "      <td>0.263959</td>\n",
       "      <td>0.404246</td>\n",
       "      <td>0.463027</td>\n",
       "      <td>-0.366772</td>\n",
       "      <td>-0.260852</td>\n",
       "      <td>-0.337812</td>\n",
       "      <td>0.285290</td>\n",
       "      <td>0.375886</td>\n",
       "      <td>1.000000</td>\n",
       "      <td>0.728866</td>\n",
       "      <td>0.559252</td>\n",
       "    </tr>\n",
       "    <tr>\n",
       "      <th>FirstFlrSF_range</th>\n",
       "      <td>0.453137</td>\n",
       "      <td>0.519362</td>\n",
       "      <td>0.377142</td>\n",
       "      <td>0.391689</td>\n",
       "      <td>0.428117</td>\n",
       "      <td>0.455529</td>\n",
       "      <td>-0.264292</td>\n",
       "      <td>-0.229246</td>\n",
       "      <td>-0.298222</td>\n",
       "      <td>0.192706</td>\n",
       "      <td>0.351917</td>\n",
       "      <td>0.728866</td>\n",
       "      <td>1.000000</td>\n",
       "      <td>0.598629</td>\n",
       "    </tr>\n",
       "    <tr>\n",
       "      <th>SalePrice</th>\n",
       "      <td>0.792692</td>\n",
       "      <td>0.708303</td>\n",
       "      <td>0.560216</td>\n",
       "      <td>0.533438</td>\n",
       "      <td>0.641281</td>\n",
       "      <td>0.625065</td>\n",
       "      <td>-0.525154</td>\n",
       "      <td>-0.510137</td>\n",
       "      <td>-0.591781</td>\n",
       "      <td>0.502097</td>\n",
       "      <td>0.555524</td>\n",
       "      <td>0.559252</td>\n",
       "      <td>0.598629</td>\n",
       "      <td>1.000000</td>\n",
       "    </tr>\n",
       "  </tbody>\n",
       "</table>\n",
       "</div>"
      ],
      "text/plain": [
       "                   OverallQual  GrLivArea  FullBath  TotRmsAbvGrd  GarageCars  \\\n",
       "OverallQual           1.000000   0.593667  0.551271      0.427525    0.600996   \n",
       "GrLivArea             0.593667   1.000000  0.629530      0.825565    0.467145   \n",
       "FullBath              0.551271   0.629530  1.000000      0.554516    0.469514   \n",
       "TotRmsAbvGrd          0.427525   0.825565  0.554516      1.000000    0.362128   \n",
       "GarageCars            0.600996   0.467145  0.469514      0.362128    1.000000   \n",
       "GarageArea            0.562316   0.469573  0.405922      0.337878    0.882630   \n",
       "Age                  -0.572544  -0.199788 -0.469080     -0.095893   -0.538138   \n",
       "YearsSinceRemod      -0.551388  -0.288094 -0.440255     -0.192587   -0.421276   \n",
       "ExterQual_TA         -0.647102  -0.386639 -0.467251     -0.243195   -0.482407   \n",
       "Foundation_PConc      0.568752   0.294931  0.463795      0.193757    0.454412   \n",
       "BsmtQual_Ex           0.470950   0.310834  0.238067      0.240997    0.356687   \n",
       "TotalBsmtSF_range     0.493056   0.414658  0.298904      0.263959    0.404246   \n",
       "FirstFlrSF_range      0.453137   0.519362  0.377142      0.391689    0.428117   \n",
       "SalePrice             0.792692   0.708303  0.560216      0.533438    0.641281   \n",
       "\n",
       "                   GarageArea       Age  YearsSinceRemod  ExterQual_TA  \\\n",
       "OverallQual          0.562316 -0.572544        -0.551388     -0.647102   \n",
       "GrLivArea            0.469573 -0.199788        -0.288094     -0.386639   \n",
       "FullBath             0.405922 -0.469080        -0.440255     -0.467251   \n",
       "TotRmsAbvGrd         0.337878 -0.095893        -0.192587     -0.243195   \n",
       "GarageCars           0.882630 -0.538138        -0.421276     -0.482407   \n",
       "GarageArea           1.000000 -0.478988        -0.372575     -0.446322   \n",
       "Age                 -0.478988  1.000000         0.593536      0.589922   \n",
       "YearsSinceRemod     -0.372575  0.593536         1.000000      0.564609   \n",
       "ExterQual_TA        -0.446322  0.589922         0.564609      1.000000   \n",
       "Foundation_PConc     0.389259 -0.651272        -0.570211     -0.621780   \n",
       "BsmtQual_Ex          0.370302 -0.319278        -0.286290     -0.333526   \n",
       "TotalBsmtSF_range    0.463027 -0.366772        -0.260852     -0.337812   \n",
       "FirstFlrSF_range     0.455529 -0.264292        -0.229246     -0.298222   \n",
       "SalePrice            0.625065 -0.525154        -0.510137     -0.591781   \n",
       "\n",
       "                   Foundation_PConc  BsmtQual_Ex  TotalBsmtSF_range  \\\n",
       "OverallQual                0.568752     0.470950           0.493056   \n",
       "GrLivArea                  0.294931     0.310834           0.414658   \n",
       "FullBath                   0.463795     0.238067           0.298904   \n",
       "TotRmsAbvGrd               0.193757     0.240997           0.263959   \n",
       "GarageCars                 0.454412     0.356687           0.404246   \n",
       "GarageArea                 0.389259     0.370302           0.463027   \n",
       "Age                       -0.651272    -0.319278          -0.366772   \n",
       "YearsSinceRemod           -0.570211    -0.286290          -0.260852   \n",
       "ExterQual_TA              -0.621780    -0.333526          -0.337812   \n",
       "Foundation_PConc           1.000000     0.321711           0.285290   \n",
       "BsmtQual_Ex                0.321711     1.000000           0.375886   \n",
       "TotalBsmtSF_range          0.285290     0.375886           1.000000   \n",
       "FirstFlrSF_range           0.192706     0.351917           0.728866   \n",
       "SalePrice                  0.502097     0.555524           0.559252   \n",
       "\n",
       "                   FirstFlrSF_range  SalePrice  \n",
       "OverallQual                0.453137   0.792692  \n",
       "GrLivArea                  0.519362   0.708303  \n",
       "FullBath                   0.377142   0.560216  \n",
       "TotRmsAbvGrd               0.391689   0.533438  \n",
       "GarageCars                 0.428117   0.641281  \n",
       "GarageArea                 0.455529   0.625065  \n",
       "Age                       -0.264292  -0.525154  \n",
       "YearsSinceRemod           -0.229246  -0.510137  \n",
       "ExterQual_TA              -0.298222  -0.591781  \n",
       "Foundation_PConc           0.192706   0.502097  \n",
       "BsmtQual_Ex                0.351917   0.555524  \n",
       "TotalBsmtSF_range          0.728866   0.559252  \n",
       "FirstFlrSF_range           1.000000   0.598629  \n",
       "SalePrice                  0.598629   1.000000  "
      ]
     },
     "execution_count": 207,
     "metadata": {},
     "output_type": "execute_result"
    }
   ],
   "source": [
    "corr_mat[correlated_cols].loc[correlated_cols]"
   ]
  },
  {
   "cell_type": "code",
   "execution_count": 208,
   "metadata": {},
   "outputs": [],
   "source": [
    "corr_mat_plot = pd.merge(corr_mat[correlated_cols].loc[correlated_cols].reset_index(), corr_mat['SalePrice'][correlated_cols].reset_index(), on='index').set_index('index')"
   ]
  },
  {
   "cell_type": "code",
   "execution_count": 209,
   "metadata": {},
   "outputs": [
    {
     "data": {
      "text/html": [
       "<div>\n",
       "<style scoped>\n",
       "    .dataframe tbody tr th:only-of-type {\n",
       "        vertical-align: middle;\n",
       "    }\n",
       "\n",
       "    .dataframe tbody tr th {\n",
       "        vertical-align: top;\n",
       "    }\n",
       "\n",
       "    .dataframe thead th {\n",
       "        text-align: right;\n",
       "    }\n",
       "</style>\n",
       "<table border=\"1\" class=\"dataframe\">\n",
       "  <thead>\n",
       "    <tr style=\"text-align: right;\">\n",
       "      <th></th>\n",
       "      <th>OverallQual</th>\n",
       "      <th>GrLivArea</th>\n",
       "      <th>FullBath</th>\n",
       "      <th>TotRmsAbvGrd</th>\n",
       "      <th>GarageCars</th>\n",
       "      <th>GarageArea</th>\n",
       "      <th>Age</th>\n",
       "      <th>YearsSinceRemod</th>\n",
       "      <th>ExterQual_TA</th>\n",
       "      <th>Foundation_PConc</th>\n",
       "      <th>BsmtQual_Ex</th>\n",
       "      <th>TotalBsmtSF_range</th>\n",
       "      <th>FirstFlrSF_range</th>\n",
       "      <th>SalePrice_x</th>\n",
       "      <th>SalePrice_y</th>\n",
       "    </tr>\n",
       "    <tr>\n",
       "      <th>index</th>\n",
       "      <th></th>\n",
       "      <th></th>\n",
       "      <th></th>\n",
       "      <th></th>\n",
       "      <th></th>\n",
       "      <th></th>\n",
       "      <th></th>\n",
       "      <th></th>\n",
       "      <th></th>\n",
       "      <th></th>\n",
       "      <th></th>\n",
       "      <th></th>\n",
       "      <th></th>\n",
       "      <th></th>\n",
       "      <th></th>\n",
       "    </tr>\n",
       "  </thead>\n",
       "  <tbody>\n",
       "    <tr>\n",
       "      <th>OverallQual</th>\n",
       "      <td>1.000000</td>\n",
       "      <td>0.593667</td>\n",
       "      <td>0.551271</td>\n",
       "      <td>0.427525</td>\n",
       "      <td>0.600996</td>\n",
       "      <td>0.562316</td>\n",
       "      <td>-0.572544</td>\n",
       "      <td>-0.551388</td>\n",
       "      <td>-0.647102</td>\n",
       "      <td>0.568752</td>\n",
       "      <td>0.470950</td>\n",
       "      <td>0.493056</td>\n",
       "      <td>0.453137</td>\n",
       "      <td>0.792692</td>\n",
       "      <td>0.792692</td>\n",
       "    </tr>\n",
       "    <tr>\n",
       "      <th>GrLivArea</th>\n",
       "      <td>0.593667</td>\n",
       "      <td>1.000000</td>\n",
       "      <td>0.629530</td>\n",
       "      <td>0.825565</td>\n",
       "      <td>0.467145</td>\n",
       "      <td>0.469573</td>\n",
       "      <td>-0.199788</td>\n",
       "      <td>-0.288094</td>\n",
       "      <td>-0.386639</td>\n",
       "      <td>0.294931</td>\n",
       "      <td>0.310834</td>\n",
       "      <td>0.414658</td>\n",
       "      <td>0.519362</td>\n",
       "      <td>0.708303</td>\n",
       "      <td>0.708303</td>\n",
       "    </tr>\n",
       "    <tr>\n",
       "      <th>FullBath</th>\n",
       "      <td>0.551271</td>\n",
       "      <td>0.629530</td>\n",
       "      <td>1.000000</td>\n",
       "      <td>0.554516</td>\n",
       "      <td>0.469514</td>\n",
       "      <td>0.405922</td>\n",
       "      <td>-0.469080</td>\n",
       "      <td>-0.440255</td>\n",
       "      <td>-0.467251</td>\n",
       "      <td>0.463795</td>\n",
       "      <td>0.238067</td>\n",
       "      <td>0.298904</td>\n",
       "      <td>0.377142</td>\n",
       "      <td>0.560216</td>\n",
       "      <td>0.560216</td>\n",
       "    </tr>\n",
       "    <tr>\n",
       "      <th>TotRmsAbvGrd</th>\n",
       "      <td>0.427525</td>\n",
       "      <td>0.825565</td>\n",
       "      <td>0.554516</td>\n",
       "      <td>1.000000</td>\n",
       "      <td>0.362128</td>\n",
       "      <td>0.337878</td>\n",
       "      <td>-0.095893</td>\n",
       "      <td>-0.192587</td>\n",
       "      <td>-0.243195</td>\n",
       "      <td>0.193757</td>\n",
       "      <td>0.240997</td>\n",
       "      <td>0.263959</td>\n",
       "      <td>0.391689</td>\n",
       "      <td>0.533438</td>\n",
       "      <td>0.533438</td>\n",
       "    </tr>\n",
       "    <tr>\n",
       "      <th>GarageCars</th>\n",
       "      <td>0.600996</td>\n",
       "      <td>0.467145</td>\n",
       "      <td>0.469514</td>\n",
       "      <td>0.362128</td>\n",
       "      <td>1.000000</td>\n",
       "      <td>0.882630</td>\n",
       "      <td>-0.538138</td>\n",
       "      <td>-0.421276</td>\n",
       "      <td>-0.482407</td>\n",
       "      <td>0.454412</td>\n",
       "      <td>0.356687</td>\n",
       "      <td>0.404246</td>\n",
       "      <td>0.428117</td>\n",
       "      <td>0.641281</td>\n",
       "      <td>0.641281</td>\n",
       "    </tr>\n",
       "    <tr>\n",
       "      <th>GarageArea</th>\n",
       "      <td>0.562316</td>\n",
       "      <td>0.469573</td>\n",
       "      <td>0.405922</td>\n",
       "      <td>0.337878</td>\n",
       "      <td>0.882630</td>\n",
       "      <td>1.000000</td>\n",
       "      <td>-0.478988</td>\n",
       "      <td>-0.372575</td>\n",
       "      <td>-0.446322</td>\n",
       "      <td>0.389259</td>\n",
       "      <td>0.370302</td>\n",
       "      <td>0.463027</td>\n",
       "      <td>0.455529</td>\n",
       "      <td>0.625065</td>\n",
       "      <td>0.625065</td>\n",
       "    </tr>\n",
       "    <tr>\n",
       "      <th>Age</th>\n",
       "      <td>-0.572544</td>\n",
       "      <td>-0.199788</td>\n",
       "      <td>-0.469080</td>\n",
       "      <td>-0.095893</td>\n",
       "      <td>-0.538138</td>\n",
       "      <td>-0.478988</td>\n",
       "      <td>1.000000</td>\n",
       "      <td>0.593536</td>\n",
       "      <td>0.589922</td>\n",
       "      <td>-0.651272</td>\n",
       "      <td>-0.319278</td>\n",
       "      <td>-0.366772</td>\n",
       "      <td>-0.264292</td>\n",
       "      <td>-0.525154</td>\n",
       "      <td>-0.525154</td>\n",
       "    </tr>\n",
       "    <tr>\n",
       "      <th>YearsSinceRemod</th>\n",
       "      <td>-0.551388</td>\n",
       "      <td>-0.288094</td>\n",
       "      <td>-0.440255</td>\n",
       "      <td>-0.192587</td>\n",
       "      <td>-0.421276</td>\n",
       "      <td>-0.372575</td>\n",
       "      <td>0.593536</td>\n",
       "      <td>1.000000</td>\n",
       "      <td>0.564609</td>\n",
       "      <td>-0.570211</td>\n",
       "      <td>-0.286290</td>\n",
       "      <td>-0.260852</td>\n",
       "      <td>-0.229246</td>\n",
       "      <td>-0.510137</td>\n",
       "      <td>-0.510137</td>\n",
       "    </tr>\n",
       "    <tr>\n",
       "      <th>ExterQual_TA</th>\n",
       "      <td>-0.647102</td>\n",
       "      <td>-0.386639</td>\n",
       "      <td>-0.467251</td>\n",
       "      <td>-0.243195</td>\n",
       "      <td>-0.482407</td>\n",
       "      <td>-0.446322</td>\n",
       "      <td>0.589922</td>\n",
       "      <td>0.564609</td>\n",
       "      <td>1.000000</td>\n",
       "      <td>-0.621780</td>\n",
       "      <td>-0.333526</td>\n",
       "      <td>-0.337812</td>\n",
       "      <td>-0.298222</td>\n",
       "      <td>-0.591781</td>\n",
       "      <td>-0.591781</td>\n",
       "    </tr>\n",
       "    <tr>\n",
       "      <th>Foundation_PConc</th>\n",
       "      <td>0.568752</td>\n",
       "      <td>0.294931</td>\n",
       "      <td>0.463795</td>\n",
       "      <td>0.193757</td>\n",
       "      <td>0.454412</td>\n",
       "      <td>0.389259</td>\n",
       "      <td>-0.651272</td>\n",
       "      <td>-0.570211</td>\n",
       "      <td>-0.621780</td>\n",
       "      <td>1.000000</td>\n",
       "      <td>0.321711</td>\n",
       "      <td>0.285290</td>\n",
       "      <td>0.192706</td>\n",
       "      <td>0.502097</td>\n",
       "      <td>0.502097</td>\n",
       "    </tr>\n",
       "    <tr>\n",
       "      <th>BsmtQual_Ex</th>\n",
       "      <td>0.470950</td>\n",
       "      <td>0.310834</td>\n",
       "      <td>0.238067</td>\n",
       "      <td>0.240997</td>\n",
       "      <td>0.356687</td>\n",
       "      <td>0.370302</td>\n",
       "      <td>-0.319278</td>\n",
       "      <td>-0.286290</td>\n",
       "      <td>-0.333526</td>\n",
       "      <td>0.321711</td>\n",
       "      <td>1.000000</td>\n",
       "      <td>0.375886</td>\n",
       "      <td>0.351917</td>\n",
       "      <td>0.555524</td>\n",
       "      <td>0.555524</td>\n",
       "    </tr>\n",
       "    <tr>\n",
       "      <th>TotalBsmtSF_range</th>\n",
       "      <td>0.493056</td>\n",
       "      <td>0.414658</td>\n",
       "      <td>0.298904</td>\n",
       "      <td>0.263959</td>\n",
       "      <td>0.404246</td>\n",
       "      <td>0.463027</td>\n",
       "      <td>-0.366772</td>\n",
       "      <td>-0.260852</td>\n",
       "      <td>-0.337812</td>\n",
       "      <td>0.285290</td>\n",
       "      <td>0.375886</td>\n",
       "      <td>1.000000</td>\n",
       "      <td>0.728866</td>\n",
       "      <td>0.559252</td>\n",
       "      <td>0.559252</td>\n",
       "    </tr>\n",
       "    <tr>\n",
       "      <th>FirstFlrSF_range</th>\n",
       "      <td>0.453137</td>\n",
       "      <td>0.519362</td>\n",
       "      <td>0.377142</td>\n",
       "      <td>0.391689</td>\n",
       "      <td>0.428117</td>\n",
       "      <td>0.455529</td>\n",
       "      <td>-0.264292</td>\n",
       "      <td>-0.229246</td>\n",
       "      <td>-0.298222</td>\n",
       "      <td>0.192706</td>\n",
       "      <td>0.351917</td>\n",
       "      <td>0.728866</td>\n",
       "      <td>1.000000</td>\n",
       "      <td>0.598629</td>\n",
       "      <td>0.598629</td>\n",
       "    </tr>\n",
       "    <tr>\n",
       "      <th>SalePrice</th>\n",
       "      <td>0.792692</td>\n",
       "      <td>0.708303</td>\n",
       "      <td>0.560216</td>\n",
       "      <td>0.533438</td>\n",
       "      <td>0.641281</td>\n",
       "      <td>0.625065</td>\n",
       "      <td>-0.525154</td>\n",
       "      <td>-0.510137</td>\n",
       "      <td>-0.591781</td>\n",
       "      <td>0.502097</td>\n",
       "      <td>0.555524</td>\n",
       "      <td>0.559252</td>\n",
       "      <td>0.598629</td>\n",
       "      <td>1.000000</td>\n",
       "      <td>1.000000</td>\n",
       "    </tr>\n",
       "  </tbody>\n",
       "</table>\n",
       "</div>"
      ],
      "text/plain": [
       "                   OverallQual  GrLivArea  FullBath  TotRmsAbvGrd  GarageCars  \\\n",
       "index                                                                           \n",
       "OverallQual           1.000000   0.593667  0.551271      0.427525    0.600996   \n",
       "GrLivArea             0.593667   1.000000  0.629530      0.825565    0.467145   \n",
       "FullBath              0.551271   0.629530  1.000000      0.554516    0.469514   \n",
       "TotRmsAbvGrd          0.427525   0.825565  0.554516      1.000000    0.362128   \n",
       "GarageCars            0.600996   0.467145  0.469514      0.362128    1.000000   \n",
       "GarageArea            0.562316   0.469573  0.405922      0.337878    0.882630   \n",
       "Age                  -0.572544  -0.199788 -0.469080     -0.095893   -0.538138   \n",
       "YearsSinceRemod      -0.551388  -0.288094 -0.440255     -0.192587   -0.421276   \n",
       "ExterQual_TA         -0.647102  -0.386639 -0.467251     -0.243195   -0.482407   \n",
       "Foundation_PConc      0.568752   0.294931  0.463795      0.193757    0.454412   \n",
       "BsmtQual_Ex           0.470950   0.310834  0.238067      0.240997    0.356687   \n",
       "TotalBsmtSF_range     0.493056   0.414658  0.298904      0.263959    0.404246   \n",
       "FirstFlrSF_range      0.453137   0.519362  0.377142      0.391689    0.428117   \n",
       "SalePrice             0.792692   0.708303  0.560216      0.533438    0.641281   \n",
       "\n",
       "                   GarageArea       Age  YearsSinceRemod  ExterQual_TA  \\\n",
       "index                                                                    \n",
       "OverallQual          0.562316 -0.572544        -0.551388     -0.647102   \n",
       "GrLivArea            0.469573 -0.199788        -0.288094     -0.386639   \n",
       "FullBath             0.405922 -0.469080        -0.440255     -0.467251   \n",
       "TotRmsAbvGrd         0.337878 -0.095893        -0.192587     -0.243195   \n",
       "GarageCars           0.882630 -0.538138        -0.421276     -0.482407   \n",
       "GarageArea           1.000000 -0.478988        -0.372575     -0.446322   \n",
       "Age                 -0.478988  1.000000         0.593536      0.589922   \n",
       "YearsSinceRemod     -0.372575  0.593536         1.000000      0.564609   \n",
       "ExterQual_TA        -0.446322  0.589922         0.564609      1.000000   \n",
       "Foundation_PConc     0.389259 -0.651272        -0.570211     -0.621780   \n",
       "BsmtQual_Ex          0.370302 -0.319278        -0.286290     -0.333526   \n",
       "TotalBsmtSF_range    0.463027 -0.366772        -0.260852     -0.337812   \n",
       "FirstFlrSF_range     0.455529 -0.264292        -0.229246     -0.298222   \n",
       "SalePrice            0.625065 -0.525154        -0.510137     -0.591781   \n",
       "\n",
       "                   Foundation_PConc  BsmtQual_Ex  TotalBsmtSF_range  \\\n",
       "index                                                                 \n",
       "OverallQual                0.568752     0.470950           0.493056   \n",
       "GrLivArea                  0.294931     0.310834           0.414658   \n",
       "FullBath                   0.463795     0.238067           0.298904   \n",
       "TotRmsAbvGrd               0.193757     0.240997           0.263959   \n",
       "GarageCars                 0.454412     0.356687           0.404246   \n",
       "GarageArea                 0.389259     0.370302           0.463027   \n",
       "Age                       -0.651272    -0.319278          -0.366772   \n",
       "YearsSinceRemod           -0.570211    -0.286290          -0.260852   \n",
       "ExterQual_TA              -0.621780    -0.333526          -0.337812   \n",
       "Foundation_PConc           1.000000     0.321711           0.285290   \n",
       "BsmtQual_Ex                0.321711     1.000000           0.375886   \n",
       "TotalBsmtSF_range          0.285290     0.375886           1.000000   \n",
       "FirstFlrSF_range           0.192706     0.351917           0.728866   \n",
       "SalePrice                  0.502097     0.555524           0.559252   \n",
       "\n",
       "                   FirstFlrSF_range  SalePrice_x  SalePrice_y  \n",
       "index                                                          \n",
       "OverallQual                0.453137     0.792692     0.792692  \n",
       "GrLivArea                  0.519362     0.708303     0.708303  \n",
       "FullBath                   0.377142     0.560216     0.560216  \n",
       "TotRmsAbvGrd               0.391689     0.533438     0.533438  \n",
       "GarageCars                 0.428117     0.641281     0.641281  \n",
       "GarageArea                 0.455529     0.625065     0.625065  \n",
       "Age                       -0.264292    -0.525154    -0.525154  \n",
       "YearsSinceRemod           -0.229246    -0.510137    -0.510137  \n",
       "ExterQual_TA              -0.298222    -0.591781    -0.591781  \n",
       "Foundation_PConc           0.192706     0.502097     0.502097  \n",
       "BsmtQual_Ex                0.351917     0.555524     0.555524  \n",
       "TotalBsmtSF_range          0.728866     0.559252     0.559252  \n",
       "FirstFlrSF_range           1.000000     0.598629     0.598629  \n",
       "SalePrice                  0.598629     1.000000     1.000000  "
      ]
     },
     "execution_count": 209,
     "metadata": {},
     "output_type": "execute_result"
    }
   ],
   "source": [
    "corr_mat_plot"
   ]
  },
  {
   "cell_type": "code",
   "execution_count": 210,
   "metadata": {},
   "outputs": [
    {
     "data": {
      "image/png": "[encoded data removed]",
      "text/plain": [
       "<Figure size 1800x1800 with 2 Axes>"
      ]
     },
     "metadata": {},
     "output_type": "display_data"
    }
   ],
   "source": [
    "sns.set(rc={'figure.figsize':(25,25)})\n",
    "sns.set_context(\"notebook\", font_scale=1.5, rc={\"lines.linewidth\": 2.5})\n",
    "\n",
    "ax = sns.heatmap(abs(corr_mat_plot), annot=True)\n"
   ]
  },
  {
   "cell_type": "markdown",
   "metadata": {},
   "source": [
    "## 4.2 Boruta Feature Selection"
   ]
  },
  {
   "cell_type": "code",
   "execution_count": 211,
   "metadata": {},
   "outputs": [],
   "source": [
    "X_train = df_train.copy()[correlated_cols].drop(\"SalePrice\", axis=1).interpolate(method='ffill')\n",
    "Y_train = df_train.copy()[\"SalePrice\"]"
   ]
  },
  {
   "cell_type": "code",
   "execution_count": 212,
   "metadata": {},
   "outputs": [],
   "source": [
    "def run_boruta():\n",
    "    # load X and y\n",
    "    # NOTE BorutaPy accepts numpy arrays only, hence the .values attribute\n",
    "    X = X_train.values\n",
    "    y = Y_train.ravel()\n",
    "\n",
    "    # define random forest classifier, with utilising all cores and\n",
    "    # sampling in proportion to y labels\n",
    "    rf = RandomForestClassifier(n_jobs=-1, class_weight='balanced', max_depth=5)\n",
    "\n",
    "    # define Boruta feature selection method\n",
    "    feat_selector = BorutaPy(rf, n_estimators='auto', verbose=10, random_state=1)\n",
    "\n",
    "    # find all relevant features - 5 features should be selected\n",
    "    feat_selector.fit(X, y)\n",
    "\n",
    "    # check selected features - first 5 features are selected\n",
    "    feat_selector.support_\n",
    "\n",
    "    # check ranking of features\n",
    "    feat_selector.ranking_\n",
    "\n",
    "    # call transform() on X to filter it down to selected features\n",
    "    X_filtered = feat_selector.transform(X)\n",
    "       \n",
    "#run_boruta()"
   ]
  },
  {
   "cell_type": "markdown",
   "metadata": {},
   "source": [
    "feat_selector.support_"
   ]
  },
  {
   "cell_type": "markdown",
   "metadata": {},
   "source": [
    "X_train.columns[feat_selector.support_]"
   ]
  },
  {
   "cell_type": "markdown",
   "metadata": {},
   "source": [
    "df_boruta = df_train[[X_train.columns[feat_selector.support_][0], 'SalePrice']]"
   ]
  },
  {
   "cell_type": "markdown",
   "metadata": {},
   "source": [
    "df_boruta.head()"
   ]
  },
  {
   "cell_type": "markdown",
   "metadata": {},
   "source": [
    "# 5. Prediction"
   ]
  },
  {
   "cell_type": "markdown",
   "metadata": {},
   "source": [
    "## Random Forest"
   ]
  },
  {
   "cell_type": "code",
   "execution_count": 213,
   "metadata": {},
   "outputs": [
    {
     "data": {
      "text/plain": [
       "((1457, 13), (1457,), (1459, 13))"
      ]
     },
     "execution_count": 213,
     "metadata": {},
     "output_type": "execute_result"
    }
   ],
   "source": [
    "X_train = df_train.copy().interpolate(method='ffill')[correlated_cols].drop(\"SalePrice\", axis=1)\n",
    "Y_train = df_train[\"SalePrice\"]\n",
    "correlated_cols.remove('SalePrice')\n",
    "X_test  = df_test.copy()[correlated_cols].interpolate()\n",
    "X_train.shape, Y_train.shape, X_test.shape"
   ]
  },
  {
   "cell_type": "code",
   "execution_count": 214,
   "metadata": {},
   "outputs": [
    {
     "data": {
      "text/plain": [
       "OverallQual          0\n",
       "GrLivArea            0\n",
       "FullBath             0\n",
       "TotRmsAbvGrd         0\n",
       "GarageCars           0\n",
       "GarageArea           0\n",
       "Age                  0\n",
       "YearsSinceRemod      0\n",
       "ExterQual_TA         0\n",
       "Foundation_PConc     0\n",
       "BsmtQual_Ex          0\n",
       "TotalBsmtSF_range    0\n",
       "FirstFlrSF_range     0\n",
       "dtype: int64"
      ]
     },
     "execution_count": 214,
     "metadata": {},
     "output_type": "execute_result"
    }
   ],
   "source": [
    "X_train.isna().interpolate().sum()"
   ]
  },
  {
   "cell_type": "code",
   "execution_count": 215,
   "metadata": {},
   "outputs": [
    {
     "data": {
      "text/plain": [
       "OverallQual          0\n",
       "GrLivArea            0\n",
       "FullBath             0\n",
       "TotRmsAbvGrd         0\n",
       "GarageCars           0\n",
       "GarageArea           0\n",
       "Age                  0\n",
       "YearsSinceRemod      0\n",
       "ExterQual_TA         0\n",
       "Foundation_PConc     0\n",
       "BsmtQual_Ex          0\n",
       "TotalBsmtSF_range    0\n",
       "FirstFlrSF_range     0\n",
       "dtype: int64"
      ]
     },
     "execution_count": 215,
     "metadata": {},
     "output_type": "execute_result"
    }
   ],
   "source": [
    "X_train.isna().sum()"
   ]
  },
  {
   "cell_type": "code",
   "execution_count": 216,
   "metadata": {},
   "outputs": [],
   "source": [
    "random_forest = RandomForestClassifier(n_estimators=100)\n",
    "random_forest.fit(X_train, Y_train)\n",
    "Y_pred = random_forest.predict(X_test)"
   ]
  },
  {
   "cell_type": "code",
   "execution_count": 217,
   "metadata": {},
   "outputs": [
    {
     "data": {
      "text/plain": [
       "98.9"
      ]
     },
     "execution_count": 217,
     "metadata": {},
     "output_type": "execute_result"
    }
   ],
   "source": [
    "random_forest.score(X_train, Y_train)\n",
    "acc_random_forest = round(random_forest.score(X_train, Y_train) * 100, 2)\n",
    "acc_random_forest"
   ]
  },
  {
   "cell_type": "markdown",
   "metadata": {},
   "source": [
    "# XGBoost"
   ]
  },
  {
   "cell_type": "markdown",
   "metadata": {},
   "source": [
    "model = xgboost.train({\"learning_rate\": 0.5}, xgboost.DMatrix(X_train, label=Y_train), 10)"
   ]
  },
  {
   "cell_type": "markdown",
   "metadata": {},
   "source": [
    "fit model no training data\n",
    "model = XGBRegressor(objective ='reg:linear', colsample_bytree = 0.3, learning_rate = 0.5,\n",
    "                max_depth = 5, alpha = 10, n_estimators = 10)\n",
    "model.fit(X_train[['OverallQual', 'YearBuilt']], Y_train, verbose=True)"
   ]
  },
  {
   "cell_type": "markdown",
   "metadata": {},
   "source": [
    "print(model)"
   ]
  },
  {
   "cell_type": "markdown",
   "metadata": {},
   "source": [
    "xgb_model = XGBRegressor().fit(X_train[['OverallQual', 'YearBuilt']], Y_train)\n",
    "predictions = xgb_model.predict(X_test)\n",
    "actuals = Y_test\n",
    "print(mean_squared_error(actuals, predictions))"
   ]
  },
  {
   "cell_type": "markdown",
   "metadata": {},
   "source": [
    "# 7. Submit results"
   ]
  },
  {
   "cell_type": "code",
   "execution_count": 218,
   "metadata": {},
   "outputs": [],
   "source": [
    "submission = pd.DataFrame({ \"Id\": df_test[\"Id\"], \"SalePrice\": Y_pred\n",
    "                          }).set_index('Id')"
   ]
  },
  {
   "cell_type": "code",
   "execution_count": 219,
   "metadata": {},
   "outputs": [],
   "source": [
    "submission.to_csv('submission.csv')"
   ]
  },
  {
   "cell_type": "code",
   "execution_count": 220,
   "metadata": {},
   "outputs": [
    {
     "ename": "SyntaxError",
     "evalue": "invalid syntax (<ipython-input-220-29e0c3615294>, line 1)",
     "output_type": "error",
     "traceback": [
      "\u001b[0;36m  File \u001b[0;32m\"<ipython-input-220-29e0c3615294>\"\u001b[0;36m, line \u001b[0;32m1\u001b[0m\n\u001b[0;31m    ---\u001b[0m\n\u001b[0m       ^\u001b[0m\n\u001b[0;31mSyntaxError\u001b[0m\u001b[0;31m:\u001b[0m invalid syntax\n"
     ]
    }
   ],
   "source": [
    "---"
   ]
  },
  {
   "cell_type": "markdown",
   "metadata": {},
   "source": [
    "# 8. Explain model"
   ]
  },
  {
   "cell_type": "code",
   "execution_count": null,
   "metadata": {},
   "outputs": [],
   "source": [
    "import shap\n",
    "\n",
    "# load JS visualization code to notebook\n",
    "shap.initjs()"
   ]
  },
  {
   "cell_type": "code",
   "execution_count": null,
   "metadata": {},
   "outputs": [],
   "source": [
    "# explain the model's predictions using SHAP values\n",
    "# (same syntax works for LightGBM, CatBoost, and scikit-learn models)\n",
    "explainer = shap.TreeExplainer(random_forest)\n",
    "shap_values = explainer.shap_values(X_train)"
   ]
  },
  {
   "cell_type": "code",
   "execution_count": null,
   "metadata": {},
   "outputs": [],
   "source": [
    "# visualize the first prediction's explanation (use matplotlib=True to avoid Javascript)\n",
    "shap.force_plot(explainer.expected_value, shap_values)"
   ]
  },
  {
   "cell_type": "code",
   "execution_count": null,
   "metadata": {},
   "outputs": [],
   "source": [
    "shap.dependence_plot(0, shap_values, X_train)"
   ]
  },
  {
   "cell_type": "code",
   "execution_count": null,
   "metadata": {},
   "outputs": [],
   "source": []
  }
 ],
 "metadata": {
  "kernelspec": {
   "display_name": "Python 3",
   "language": "python",
   "name": "python3"
  },
  "language_info": {
   "codemirror_mode": {
    "name": "ipython",
    "version": 3
   },
   "file_extension": ".py",
   "mimetype": "text/x-python",
   "name": "python",
   "nbconvert_exporter": "python",
   "pygments_lexer": "ipython3",
   "version": "3.7.6"
  }
 },
 "nbformat": 4,
 "nbformat_minor": 4
}
